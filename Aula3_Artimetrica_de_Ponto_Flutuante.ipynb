{
 "cells": [
  {
   "cell_type": "code",
   "execution_count": 3,
   "id": "da843c7f",
   "metadata": {},
   "outputs": [],
   "source": [
    "import numpy as np\n",
    "import sys"
   ]
  },
  {
   "cell_type": "code",
   "execution_count": 4,
   "id": "d6330c27",
   "metadata": {},
   "outputs": [
    {
     "name": "stdout",
     "output_type": "stream",
     "text": [
      "5.0e+03\n",
      "2.2e-01\n"
     ]
    }
   ],
   "source": [
    "print(\"%1.1e\" % 5000)\n",
    "print(\"%1.1e\" % 0.2222)"
   ]
  },
  {
   "cell_type": "markdown",
   "id": "fec4fe8b",
   "metadata": {},
   "source": [
    "Notação cientifica no numpy"
   ]
  },
  {
   "cell_type": "code",
   "execution_count": 5,
   "id": "f6036702",
   "metadata": {},
   "outputs": [
    {
     "data": {
      "text/plain": "'5.41235e+00'"
     },
     "execution_count": 5,
     "metadata": {},
     "output_type": "execute_result"
    }
   ],
   "source": [
    "np.format_float_scientific(5.41235)"
   ]
  },
  {
   "cell_type": "markdown",
   "id": "2a1070b4",
   "metadata": {},
   "source": [
    "Tratamento de números reais no computador.\n",
    "Nossos computadores entendem tudo como números racionais, então para trabalhar com números reais (fraçoes) ele precisa das suas partes inteiras"
   ]
  },
  {
   "cell_type": "code",
   "execution_count": 6,
   "id": "1a5feede",
   "metadata": {},
   "outputs": [],
   "source": [
    "def racionais(x):\n",
    "    num,den = x.as_integer_ratio()\n",
    "    return print(num,'/',den)"
   ]
  },
  {
   "cell_type": "code",
   "execution_count": 7,
   "id": "f40d2f8f",
   "metadata": {},
   "outputs": [
    {
     "name": "stdout",
     "output_type": "stream",
     "text": [
      "3884354678607053 / 70368744177664\n"
     ]
    }
   ],
   "source": [
    "racionais(55.2)"
   ]
  },
  {
   "cell_type": "markdown",
   "id": "65c4e4fe",
   "metadata": {},
   "source": [
    "Os números de ponto fixo (ou flutuante) vieram para resolver esse problema"
   ]
  },
  {
   "cell_type": "code",
   "execution_count": 8,
   "id": "9d059240",
   "metadata": {},
   "outputs": [
    {
     "data": {
      "text/plain": "(0.625, 4)"
     },
     "execution_count": 8,
     "metadata": {},
     "output_type": "execute_result"
    }
   ],
   "source": [
    "np.frexp(10)"
   ]
  },
  {
   "cell_type": "code",
   "execution_count": 9,
   "id": "82778ac2",
   "metadata": {
    "pycharm": {
     "name": "#%%\n"
    }
   },
   "outputs": [
    {
     "data": {
      "text/plain": "2.220446049250313e-16"
     },
     "execution_count": 9,
     "metadata": {},
     "output_type": "execute_result"
    }
   ],
   "source": [
    "sys.float_info.epsilon"
   ]
  }
 ],
 "metadata": {
  "kernelspec": {
   "display_name": "Python 3 (ipykernel)",
   "language": "python",
   "name": "python3"
  },
  "language_info": {
   "codemirror_mode": {
    "name": "ipython",
    "version": 3
   },
   "file_extension": ".py",
   "mimetype": "text/x-python",
   "name": "python",
   "nbconvert_exporter": "python",
   "pygments_lexer": "ipython3",
   "version": "3.9.7"
  }
 },
 "nbformat": 4,
 "nbformat_minor": 5
}