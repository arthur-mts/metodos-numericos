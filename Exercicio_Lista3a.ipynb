{
 "cells": [
  {
   "cell_type": "code",
   "execution_count": 6,
   "id": "1633081a",
   "metadata": {},
   "outputs": [],
   "source": [
    "import numpy as np\n",
    "import sys\n",
    "import matplotlib.pyplot as plt\n",
    "import math"
   ]
  },
  {
   "cell_type": "markdown",
   "source": [
    "Aluno: Arthur Maurício Thomaz Soares"
   ],
   "metadata": {
    "collapsed": false,
    "pycharm": {
     "name": "#%% md\n"
    }
   }
  },
  {
   "cell_type": "markdown",
   "id": "400e6608",
   "metadata": {},
   "source": [
    "\n",
    "Questão 1:"
   ]
  },
  {
   "cell_type": "code",
   "execution_count": 7,
   "id": "d5cd3b91",
   "metadata": {},
   "outputs": [],
   "source": [
    "def divisaoMedia(x,a):\n",
    "    return (x+a/x)/2"
   ]
  },
  {
   "cell_type": "code",
   "execution_count": 8,
   "outputs": [
    {
     "name": "stdout",
     "output_type": "stream",
     "text": [
      "1 8.5\n",
      "2 5.0\n",
      "3 4.166666666666666\n",
      "4 4.0\n",
      "5 4.1\n",
      "6 4.333333333333333\n",
      "7 4.642857142857142\n",
      "8 5.0\n",
      "9 5.388888888888889\n",
      "10 5.8\n"
     ]
    }
   ],
   "source": [
    "## Calculando o erro relativo para as raizes dos números de 1 a 10\n",
    "for i in range(1,11):\n",
    "    print(i,divisaoMedia(i,4*4))"
   ],
   "metadata": {
    "collapsed": false,
    "pycharm": {
     "name": "#%%\n"
    }
   }
  },
  {
   "cell_type": "markdown",
   "source": [
    "Questão 2"
   ],
   "metadata": {
    "collapsed": false,
    "pycharm": {
     "name": "#%% md\n"
    }
   }
  },
  {
   "cell_type": "code",
   "execution_count": 9,
   "outputs": [],
   "source": [
    "def epsilon(e):\n",
    "    if(e+ 1<=1):\n",
    "        e = e*2\n",
    "        return e\n",
    "    else:\n",
    "        e = e/2\n",
    "        return epsilon(e)"
   ],
   "metadata": {
    "collapsed": false,
    "pycharm": {
     "name": "#%%\n"
    }
   }
  },
  {
   "cell_type": "code",
   "execution_count": 10,
   "outputs": [
    {
     "name": "stdout",
     "output_type": "stream",
     "text": [
      "2.220446049250313e-16\n"
     ]
    }
   ],
   "source": [
    "print(epsilon(1))"
   ],
   "metadata": {
    "collapsed": false,
    "pycharm": {
     "name": "#%%\n"
    }
   }
  },
  {
   "cell_type": "markdown",
   "source": [
    "Comparando com o sys.float_info.epsilon"
   ],
   "metadata": {
    "collapsed": false,
    "pycharm": {
     "name": "#%% md\n"
    }
   }
  },
  {
   "cell_type": "code",
   "execution_count": 11,
   "outputs": [
    {
     "name": "stdout",
     "output_type": "stream",
     "text": [
      "2.220446049250313e-16 == 2.220446049250313e-16\n"
     ]
    }
   ],
   "source": [
    "print(f\"{sys.float_info.epsilon} == {epsilon(1)}\")"
   ],
   "metadata": {
    "collapsed": false,
    "pycharm": {
     "name": "#%%\n"
    }
   }
  },
  {
   "cell_type": "markdown",
   "source": [
    "Questão 3"
   ],
   "metadata": {
    "collapsed": false,
    "pycharm": {
     "name": "#%% md\n"
    }
   }
  },
  {
   "cell_type": "code",
   "execution_count": 12,
   "outputs": [],
   "source": [
    "def serie3(n):\n",
    "    if(n<=1):\n",
    "        return 1/3\n",
    "    else:\n",
    "        return 4 * serie3(n - 1) - 1"
   ],
   "metadata": {
    "collapsed": false,
    "pycharm": {
     "name": "#%%\n"
    }
   }
  },
  {
   "cell_type": "code",
   "execution_count": 13,
   "outputs": [],
   "source": [
    "qntValores = 35"
   ],
   "metadata": {
    "collapsed": false,
    "pycharm": {
     "name": "#%%\n"
    }
   }
  },
  {
   "cell_type": "code",
   "execution_count": 14,
   "outputs": [
    {
     "data": {
      "text/plain": "<Figure size 432x288 with 1 Axes>",
      "image/png": "[encoded data removed]"
     },
     "metadata": {
      "needs_background": "light"
     },
     "output_type": "display_data"
    }
   ],
   "source": [
    "xAxis = range(1,qntValores)\n",
    "yAxis = [serie3(j) for j in xAxis]\n",
    "plt.title(\"Convergencia da serie\")\n",
    "plt.plot(xAxis, yAxis)\n",
    "plt.show()"
   ],
   "metadata": {
    "collapsed": false,
    "pycharm": {
     "name": "#%%\n"
    }
   }
  },
  {
   "cell_type": "markdown",
   "source": [
    "Podemos ver que a serie converge, até mais ou menos o valor de número 30."
   ],
   "metadata": {
    "collapsed": false,
    "pycharm": {
     "name": "#%% md\n"
    }
   }
  },
  {
   "cell_type": "code",
   "execution_count": 15,
   "outputs": [],
   "source": [
    "qntValores = 30"
   ],
   "metadata": {
    "collapsed": false,
    "pycharm": {
     "name": "#%%\n"
    }
   }
  },
  {
   "cell_type": "code",
   "execution_count": 16,
   "outputs": [
    {
     "data": {
      "text/plain": "<Figure size 432x288 with 1 Axes>",
      "image/png": "[encoded data removed]"
     },
     "metadata": {
      "needs_background": "light"
     },
     "output_type": "display_data"
    }
   ],
   "source": [
    "xAxis = range(1,qntValores)\n",
    "yAxis = [serie3(j) for j in xAxis]\n",
    "plt.title(\"Convergencia da serie\")\n",
    "plt.plot(xAxis, yAxis)\n",
    "plt.show()"
   ],
   "metadata": {
    "collapsed": false,
    "pycharm": {
     "name": "#%%\n"
    }
   }
  },
  {
   "cell_type": "markdown",
   "source": [
    "Questão 4"
   ],
   "metadata": {
    "collapsed": false,
    "pycharm": {
     "name": "#%% md\n"
    }
   }
  },
  {
   "cell_type": "code",
   "execution_count": 17,
   "outputs": [],
   "source": [
    "def exp1(epsil):\n",
    "    return np.exp(1/epsil)/(1+np.exp(1/epsil))\n",
    "def exp2(epsil):\n",
    "    return 1/np.exp(-1/epsil)+1"
   ],
   "metadata": {
    "collapsed": false,
    "pycharm": {
     "name": "#%%\n"
    }
   }
  },
  {
   "cell_type": "code",
   "execution_count": 18,
   "outputs": [],
   "source": [
    "values = np.linspace(0.1,0.001,20)"
   ],
   "metadata": {
    "collapsed": false,
    "pycharm": {
     "name": "#%%\n"
    }
   }
  },
  {
   "cell_type": "code",
   "execution_count": 19,
   "outputs": [
    {
     "name": "stdout",
     "output_type": "stream",
     "text": [
      "0.1\n",
      "exp1(0.1) =0.9999546021312976\n",
      "0.09478947368421053\n",
      "exp1(0.09478947368421053) =0.9999737992052907\n",
      "0.08957894736842106\n",
      "exp1(0.08957894736842106) =0.9999858153680297\n",
      "0.08436842105263159\n",
      "exp1(0.08436842105263159) =0.9999928812838418\n",
      "0.07915789473684211\n",
      "exp1(0.07915789473684211) =0.9999967373864653\n",
      "0.07394736842105264\n",
      "exp1(0.07394736842105264) =0.9999986603913142\n",
      "0.06873684210526317\n",
      "exp1(0.06873684210526317) =0.9999995194042602\n",
      "0.06352631578947368\n",
      "exp1(0.06352631578947368) =0.9999998542696756\n",
      "0.05831578947368422\n",
      "exp1(0.05831578947368422) =0.9999999642964058\n",
      "0.053105263157894746\n",
      "exp1(0.053105263157894746) =0.9999999933624657\n",
      "0.04789473684210527\n",
      "exp1(0.04789473684210527) =0.9999999991443168\n",
      "0.0426842105263158\n",
      "exp1(0.0426842105263158) =0.999999999933103\n",
      "0.037473684210526326\n",
      "exp1(0.037473684210526326) =0.9999999999974256\n",
      "0.032263157894736855\n",
      "exp1(0.032263157894736855) =0.9999999999999654\n",
      "0.02705263157894737\n",
      "exp1(0.02705263157894737) =0.9999999999999998\n",
      "0.0218421052631579\n",
      "exp1(0.0218421052631579) =1.0\n",
      "0.016631578947368428\n",
      "exp1(0.016631578947368428) =1.0\n",
      "0.011421052631578957\n",
      "exp1(0.011421052631578957) =1.0\n",
      "0.006210526315789486\n",
      "exp1(0.006210526315789486) =1.0\n",
      "0.001\n",
      "exp1(0.001) =nan\n"
     ]
    },
    {
     "name": "stderr",
     "output_type": "stream",
     "text": [
      "/tmp/ipykernel_110519/3253848607.py:2: RuntimeWarning: overflow encountered in exp\n",
      "  return np.exp(1/epsil)/(1+np.exp(1/epsil))\n",
      "/tmp/ipykernel_110519/3253848607.py:2: RuntimeWarning: invalid value encountered in double_scalars\n",
      "  return np.exp(1/epsil)/(1+np.exp(1/epsil))\n"
     ]
    }
   ],
   "source": [
    "for i in values:\n",
    "    print(i)\n",
    "    print(f\"exp1({i}) ={exp1(i)}\")"
   ],
   "metadata": {
    "collapsed": false,
    "pycharm": {
     "name": "#%%\n"
    }
   }
  },
  {
   "cell_type": "code",
   "execution_count": 20,
   "outputs": [
    {
     "name": "stdout",
     "output_type": "stream",
     "text": [
      "0.1\n",
      "exp2(0.1) =22027.465794806714\n",
      "0.09478947368421053\n",
      "exp2(0.09478947368421053) =38166.781240611366\n",
      "0.08957894736842106\n",
      "exp2(0.08957894736842106) =70498.83296859123\n",
      "0.08436842105263159\n",
      "exp2(0.08436842105263159) =140474.76789010136\n",
      "0.07915789473684211\n",
      "exp2(0.07915789473684211) =306502.74369751365\n",
      "0.07394736842105264\n",
      "exp2(0.07394736842105264) =746486.649897062\n",
      "0.06873684210526317\n",
      "exp2(0.06873684210526317) =2080750.8622299845\n",
      "0.06352631578947368\n",
      "exp2(0.06352631578947368) =6861989.803650198\n",
      "0.05831578947368422\n",
      "exp2(0.05831578947368422) =28008384.679082543\n",
      "0.053105263157894746\n",
      "exp2(0.053105263157894746) =150658354.62442568\n",
      "0.04789473684210527\n",
      "exp2(0.04789473684210527) =1168656785.864586\n",
      "0.0426842105263158\n",
      "exp2(0.0426842105263158) =14948351021.577686\n",
      "0.037473684210526326\n",
      "exp2(0.037473684210526326) =388435612112.1405\n",
      "0.032263157894736855\n",
      "exp2(0.032263157894736855) =28907032943548.62\n",
      "0.02705263157894737\n",
      "exp2(0.02705263157894737) =1.1315847194260988e+16\n",
      "0.0218421052631579\n",
      "exp2(0.0218421052631579) =7.64472420282787e+19\n",
      "0.016631578947368428\n",
      "exp2(0.016631578947368428) =1.296113097401131e+26\n",
      "0.011421052631578957\n",
      "exp2(0.011421052631578957) =1.0611679624106432e+38\n",
      "0.006210526315789486\n",
      "exp2(0.006210526315789486) =8.487357776732007e+69\n",
      "0.001\n",
      "exp2(0.001) =inf\n"
     ]
    },
    {
     "name": "stderr",
     "output_type": "stream",
     "text": [
      "/tmp/ipykernel_110519/3253848607.py:4: RuntimeWarning: divide by zero encountered in double_scalars\n",
      "  return 1/np.exp(-1/epsil)+1\n"
     ]
    }
   ],
   "source": [
    "for i in values:\n",
    "    print(i)\n",
    "    print(f\"exp2({i}) ={exp2(i)}\")"
   ],
   "metadata": {
    "collapsed": false,
    "pycharm": {
     "name": "#%%\n"
    }
   }
  },
  {
   "cell_type": "markdown",
   "source": [
    "Na primeira função, enquanto o valor de epsilon se aproxima de 0.01, encontramos a exceção \"RuntimeWarning: overflow encountered in exp\" que significa que houve um estouro matemático no resultado da função exponencial, que como sabemos tende ao infinito quando o valor de entrada cresce. Então, lógicamente, como temos uma divisão de 1/epsil, quanto menor o valor de epsilon maior será o valor da exponencial, o que explica o estouro."
   ],
   "metadata": {
    "collapsed": false,
    "pycharm": {
     "name": "#%% md\n"
    }
   }
  },
  {
   "cell_type": "code",
   "execution_count": 21,
   "outputs": [
    {
     "data": {
      "text/plain": "[<matplotlib.lines.Line2D at 0x7f825d1b9550>]"
     },
     "execution_count": 21,
     "metadata": {},
     "output_type": "execute_result"
    },
    {
     "data": {
      "text/plain": "<Figure size 432x288 with 1 Axes>",
      "image/png": "[encoded data removed]"
     },
     "metadata": {
      "needs_background": "light"
     },
     "output_type": "display_data"
    }
   ],
   "source": [
    "xAxis = np.linspace(-2*np.pi, 2*np.pi, 100)\n",
    "y = np.exp(xAxis)\n",
    "plt.plot(xAxis,y)"
   ],
   "metadata": {
    "collapsed": false,
    "pycharm": {
     "name": "#%%\n"
    }
   }
  },
  {
   "cell_type": "markdown",
   "source": [
    "Já na segunda função ocorre um \"RuntimeWarning: divide by zero encountered in double_scalars\". Esse erro acontece porque a função exponencial tende a zero quando seu argumento tende a menos infinito. Portando, e expressão \"np.exp(-1/epsil)\" inverte o sinal do argumento fazendo com que o resulatdo se aproxime de zero, e a exceção \"divide by zero encountered in double_scalars\" acontece justamente em uma divisão por zero."
   ],
   "metadata": {
    "collapsed": false,
    "pycharm": {
     "name": "#%% md\n"
    }
   }
  },
  {
   "cell_type": "code",
   "execution_count": 22,
   "outputs": [
    {
     "data": {
      "text/plain": "[<matplotlib.lines.Line2D at 0x7f825d119e80>]"
     },
     "execution_count": 22,
     "metadata": {},
     "output_type": "execute_result"
    },
    {
     "data": {
      "text/plain": "<Figure size 432x288 with 1 Axes>",
      "image/png": "[encoded data removed]"
     },
     "metadata": {
      "needs_background": "light"
     },
     "output_type": "display_data"
    }
   ],
   "source": [
    "xAxis = np.linspace(-20*np.pi, -10*np.pi, 100)\n",
    "y = np.exp(xAxis)\n",
    "plt.plot(xAxis,y)"
   ],
   "metadata": {
    "collapsed": false,
    "pycharm": {
     "name": "#%%\n"
    }
   }
  },
  {
   "cell_type": "markdown",
   "source": [
    "Por esses motivos, a primeira função se mostra mais adequada para números pequenos pois não encontrariamos o erro da divisão por 0."
   ],
   "metadata": {
    "collapsed": false,
    "pycharm": {
     "name": "#%% md\n"
    }
   }
  },
  {
   "cell_type": "markdown",
   "source": [
    "Questão 5"
   ],
   "metadata": {
    "collapsed": false,
    "pycharm": {
     "name": "#%% md\n"
    }
   }
  },
  {
   "cell_type": "code",
   "execution_count": 23,
   "outputs": [],
   "source": [
    "def iden5(x):\n",
    "    return ((1+x)-1)/x"
   ],
   "metadata": {
    "collapsed": false,
    "pycharm": {
     "name": "#%%\n"
    }
   }
  },
  {
   "cell_type": "code",
   "execution_count": 24,
   "outputs": [],
   "source": [
    "values = [10e-17,10e-12,10e-15]"
   ],
   "metadata": {
    "collapsed": false,
    "pycharm": {
     "name": "#%%\n"
    }
   }
  },
  {
   "cell_type": "code",
   "execution_count": 25,
   "outputs": [
    {
     "name": "stdout",
     "output_type": "stream",
     "text": [
      "f(1e-16) = (1+1e-16)-1/1e-16=  0.0\n",
      "f(1e-11) = (1+1e-11)-1/1e-11=  1.000000082740371\n",
      "f(1e-14) = (1+1e-14)-1/1e-14=  0.9992007221626409\n"
     ]
    }
   ],
   "source": [
    "for i in values:\n",
    "    print(f\"f({i}) = (1+{i})-1/{i}=  {iden5(i)}\")"
   ],
   "metadata": {
    "collapsed": false,
    "pycharm": {
     "name": "#%%\n"
    }
   }
  },
  {
   "cell_type": "markdown",
   "source": [
    "Isso ocorre pois, por debaixo dos panos o Python arredonda os valores do numerador da fração (1e-18+1-1, por exemplo) para **zero**, pois o valor resultante excede o limite de representação. Então, a divisão final fica 0/1e-18."
   ],
   "metadata": {
    "collapsed": false,
    "pycharm": {
     "name": "#%% md\n"
    }
   }
  },
  {
   "cell_type": "code",
   "execution_count": 26,
   "outputs": [
    {
     "data": {
      "text/plain": "sys.float_info(max=1.7976931348623157e+308, max_exp=1024, max_10_exp=308, min=2.2250738585072014e-308, min_exp=-1021, min_10_exp=-307, dig=15, mant_dig=53, epsilon=2.220446049250313e-16, radix=2, rounds=1)"
     },
     "execution_count": 26,
     "metadata": {},
     "output_type": "execute_result"
    }
   ],
   "source": [
    "sys.float_info"
   ],
   "metadata": {
    "collapsed": false,
    "pycharm": {
     "name": "#%%\n"
    }
   }
  }
 ],
 "metadata": {
  "kernelspec": {
   "display_name": "Python 3 (ipykernel)",
   "language": "python",
   "name": "python3"
  },
  "language_info": {
   "codemirror_mode": {
    "name": "ipython",
    "version": 3
   },
   "file_extension": ".py",
   "mimetype": "text/x-python",
   "name": "python",
   "nbconvert_exporter": "python",
   "pygments_lexer": "ipython3",
   "version": "3.9.7"
  }
 },
 "nbformat": 4,
 "nbformat_minor": 5
}