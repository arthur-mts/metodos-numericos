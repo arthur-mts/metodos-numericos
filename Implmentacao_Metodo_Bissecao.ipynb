{
 "cells": [
  {
   "cell_type": "markdown",
   "metadata": {},
   "source": [
    "<div class=\"alert alert-block alert-info\">\n",
    "    \n",
    "<h1 style=\"color:Blue;\"> <center> <ins> <b> \n",
    "Métodos Numéricos\n",
    "</b> </ins> </center> </h1>\n",
    "    \n",
    "<h3 style=\"color:Blue;\"> <center> <b> \n",
    "Implementando o Método da Bisseção \n",
    "</b></center> </h3>\n",
    "    \n",
    "</div>\n",
    "\n",
    "Nossa aula de hoje como objetivo principal estudar a implementação do método da Bisseção, com Python. Para isso, vamos trabalhar na abordagem de  implementar o algoritmo mostrado no material assíncrono."
   ]
  },
  {
   "cell_type": "code",
   "execution_count": 1,
   "metadata": {},
   "outputs": [],
   "source": [
    "import numpy as np\n",
    "import pandas as pd\n",
    "import matplotlib.pyplot as plt"
   ]
  },
  {
   "cell_type": "markdown",
   "metadata": {},
   "source": [
    "<div class=\"alert alert-block alert-info\" style=\"color:Blue;\">\n",
    "Implementando nosso algoritmo\n",
    "</div>"
   ]
  },
  {
   "cell_type": "markdown",
   "metadata": {},
   "source": [
    "Como mostrado no texto que vocês leram, o método da Bisseção pode ser completamente descrito pelo algoritmo \n",
    "\n",
    "![](bisec.png)"
   ]
  },
  {
   "cell_type": "code",
   "execution_count": 2,
   "metadata": {},
   "outputs": [],
   "source": [
    "def bissecao(f, a, b, tol=1e-10):\n",
    "    df = pd.DataFrame([],columns=['a', 'b','x','Erro'])# visualização didática\n",
    "    erro, x_ant = 1, a\n",
    "    while(erro > tol):\n",
    "        inf = np.sign(f(a))\n",
    "        sup = np.sign(f(b))\n",
    "        if inf*sup != -1: \n",
    "            print(\"Não há raiz nesse intervalo\")\n",
    "            return\n",
    "        else:\n",
    "            #x = (a + b)/2. #estimativa de raiz\n",
    "            x = a+0.5*(b-a)\n",
    "            df.loc[len(df)] = [a, b, x, erro] #visualizacao\n",
    "            if f(x) == 0: \n",
    "                print('A raíz é ', x) \n",
    "                return x, df\n",
    "            elif inf*np.sign(f(x)) == -1: b = x\n",
    "            else: a = x\n",
    "        #erro = np.abs((x - x_ant))/np.abs(x)\n",
    "        erro = np.abs((x - x_ant)/x)\n",
    "        x_ant = x\n",
    "    return x, df"
   ]
  },
  {
   "cell_type": "code",
   "execution_count": 3,
   "metadata": {},
   "outputs": [
    {
     "ename": "ZeroDivisionError",
     "evalue": "float division by zero",
     "output_type": "error",
     "traceback": [
      "\u001B[0;31m---------------------------------------------------------------------------\u001B[0m",
      "\u001B[0;31mZeroDivisionError\u001B[0m                         Traceback (most recent call last)",
      "\u001B[0;32m/tmp/ipykernel_85457/1145277329.py\u001B[0m in \u001B[0;36m<module>\u001B[0;34m\u001B[0m\n\u001B[0;32m----> 1\u001B[0;31m \u001B[0;36m1.\u001B[0m\u001B[0;34m/\u001B[0m\u001B[0;36m0.\u001B[0m\u001B[0;34m\u001B[0m\u001B[0;34m\u001B[0m\u001B[0m\n\u001B[0m",
      "\u001B[0;31mZeroDivisionError\u001B[0m: float division by zero"
     ]
    }
   ],
   "source": [
    "1./0."
   ]
  },
  {
   "cell_type": "code",
   "execution_count": null,
   "metadata": {},
   "outputs": [],
   "source": [
    "b = np.abs(0-1)\n",
    "b"
   ]
  },
  {
   "cell_type": "code",
   "execution_count": null,
   "metadata": {},
   "outputs": [],
   "source": [
    "c = np.abs(0)/np.abs(0)\n",
    "c"
   ]
  },
  {
   "cell_type": "code",
   "execution_count": null,
   "metadata": {},
   "outputs": [],
   "source": [
    "b/c"
   ]
  },
  {
   "cell_type": "markdown",
   "metadata": {},
   "source": [
    "Função de teste"
   ]
  },
  {
   "cell_type": "markdown",
   "metadata": {},
   "source": [
    "$f(x) = e^x - x - 2$"
   ]
  },
  {
   "cell_type": "code",
   "execution_count": null,
   "metadata": {},
   "outputs": [],
   "source": [
    "f = lambda x: x**5+2*x**3-5*x-2"
   ]
  },
  {
   "cell_type": "code",
   "execution_count": null,
   "metadata": {},
   "outputs": [],
   "source": [
    "x = np.linspace(-5, 5, 100)\n",
    "plt.plot(x,f(x))\n",
    "plt.grid()"
   ]
  },
  {
   "cell_type": "code",
   "execution_count": null,
   "metadata": {},
   "outputs": [],
   "source": [
    "bissecao(f,-2, 2,1e-4)"
   ]
  }
 ],
 "metadata": {
  "kernelspec": {
   "display_name": "Python 3",
   "language": "python",
   "name": "python3"
  },
  "language_info": {
   "codemirror_mode": {
    "name": "ipython",
    "version": 3
   },
   "file_extension": ".py",
   "mimetype": "text/x-python",
   "name": "python",
   "nbconvert_exporter": "python",
   "pygments_lexer": "ipython3",
   "version": "3.8.5"
  }
 },
 "nbformat": 4,
 "nbformat_minor": 4
}