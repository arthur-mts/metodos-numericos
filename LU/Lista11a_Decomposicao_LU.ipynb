{
 "cells": [
  {
   "cell_type": "code",
   "execution_count": 1,
   "metadata": {
    "pycharm": {
     "name": "#%%\n"
    }
   },
   "outputs": [],
   "source": [
    "import numpy as np\n",
    "import scipy.linalg as sla"
   ]
  },
  {
   "cell_type": "markdown",
   "metadata": {
    "collapsed": true,
    "pycharm": {
     "name": "#%% md\n"
    }
   },
   "source": [
    "Aluno: Arthur Mauricio Thomaz Soares"
   ]
  },
  {
   "cell_type": "markdown",
   "metadata": {
    "pycharm": {
     "name": "#%% md\n"
    }
   },
   "source": [
    "## Decomposição LU"
   ]
  },
  {
   "cell_type": "code",
   "execution_count": 3,
   "outputs": [],
   "source": [
    "def decomposicao_lu2(a):\n",
    "    m = len(a)\n",
    "\n",
    "    p = np.eye(m, dtype=np.double)\n",
    "\n",
    "    for j in range(m):\n",
    "        pivo_i = max(range(j, m), key=lambda i: abs(a[i, j]))\n",
    "        if j != pivo_i:\n",
    "            p[[j, pivo_i]] = p[[pivo_i, j]]\n",
    "\n",
    "    l = np.zeros((3, 3))\n",
    "    u = p @ a.copy()\n",
    "\n",
    "    for j in range(m):\n",
    "        for i in range(j + 1):\n",
    "            s1 = sum(u[k][j] * l[i][k] for k in range(i))\n",
    "            u[i][j] = a2[i][j] - s1\n",
    "\n",
    "        for i in range(j, m):\n",
    "            s2 = sum(u[k][j] * l[i][k] for k in range(j))\n",
    "            l[i][j] = (a2[i][j] - s2) / u[j][j]\n",
    "\n",
    "    return p, l, u\n",
    "\n",
    "\n",
    "def resolucao_lu2(p, l, u, b):\n",
    "    y = sla.solve_triangular(p@l, p @ b, lower=True)\n",
    "    x = sla.solve_triangular(p@u, y, lower=False)\n",
    "\n",
    "    y = linear_triSup(p@l, p @ b)\n",
    "    x = linear_triInf(p@u, y)\n",
    "    return x"
   ],
   "metadata": {
    "collapsed": false,
    "pycharm": {
     "name": "#%%\n"
    }
   }
  },
  {
   "cell_type": "markdown",
   "metadata": {},
   "source": [
    "### Letra A"
   ]
  },
  {
   "cell_type": "code",
   "execution_count": 4,
   "metadata": {},
   "outputs": [],
   "source": [
    "a = np.array([[7, -7, 1], [-3, 3, 2], [7, 7, -72]], dtype=float)\n",
    "b = np.array([1, 2, 7], dtype=float)\n",
    "\n",
    "#a = np.array([[1, 2], [3, -5]], dtype=float)\n",
    "#b = np.array([5, 4], dtype=float)\n",
    "\n",
    "#a = np.array([[2, 1], [1, 3]], dtype=float)\n",
    "#b = np.array([2, -4], dtype=float)\n",
    "\n",
    "#a = np.array([[0, 2, 2], [1, 2, 1], [1, 1, 1]], dtype=float)\n",
    "#b = np.array([8, 9, 6], dtype=float)"
   ]
  },
  {
   "cell_type": "markdown",
   "metadata": {},
   "source": [
    "Resultado com implementação do scipy:"
   ]
  },
  {
   "cell_type": "code",
   "execution_count": 6,
   "metadata": {
    "pycharm": {
     "name": "#%%\n"
    }
   },
   "outputs": [],
   "source": [
    "p, l, u = sla.lu(a)"
   ]
  }
 ],
 "metadata": {
  "kernelspec": {
   "display_name": "Python 3 (ipykernel)",
   "language": "python",
   "name": "python3"
  },
  "language_info": {
   "codemirror_mode": {
    "name": "ipython",
    "version": 3
   },
   "file_extension": ".py",
   "mimetype": "text/x-python",
   "name": "python",
   "nbconvert_exporter": "python",
   "pygments_lexer": "ipython3",
   "version": "3.10.2"
  }
 },
 "nbformat": 4,
 "nbformat_minor": 1
}