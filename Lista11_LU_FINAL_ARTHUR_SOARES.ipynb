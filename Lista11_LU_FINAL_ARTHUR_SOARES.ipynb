{
 "cells": [
  {
   "cell_type": "markdown",
   "source": [
    "Aluno: Arthur Mauricio"
   ],
   "metadata": {
    "collapsed": false,
    "pycharm": {
     "name": "#%% md\n"
    }
   }
  },
  {
   "cell_type": "code",
   "execution_count": 159,
   "metadata": {
    "collapsed": true
   },
   "outputs": [],
   "source": [
    "import numpy as np\n",
    "import scipy.linalg as sla"
   ]
  },
  {
   "cell_type": "code",
   "execution_count": 160,
   "outputs": [],
   "source": [
    "def decomposicao_lu(a):\n",
    "    m = len(a)\n",
    "\n",
    "    ## Pivotando a matriz\n",
    "    p = np.eye(m, dtype=np.double)\n",
    "\n",
    "    for i in range(m):\n",
    "        pivo = np.abs(a[i:, i]).argmax() + i\n",
    "        if i != pivo:\n",
    "            p[[i, pivo]] = p[[pivo, i]]\n",
    "\n",
    "    # Escalonando\n",
    "    l = np.eye(m, dtype=np.double)\n",
    "    u = p @ a\n",
    "\n",
    "    for i in range(m):\n",
    "        for j in range(i + 1, m):\n",
    "            mult = u[j, i] / u[i, i]\n",
    "            l[j, i] = mult\n",
    "            u[j] = u[j] - (mult * u[i])\n",
    "\n",
    "    return p, l, u\n",
    "\n",
    "\n",
    "def sist_lin_tri_sup(A, b):\n",
    "    n = len(b)\n",
    "    x = np.empty(n)\n",
    "    x[-1] = b[-1] / A[-1, -1]\n",
    "    for i in range(n - 2, -1, -1):\n",
    "        x[i] = (b[i] - np.sum(A[i, i + 1:] * x[i + 1:])) / A[i, i]\n",
    "    return x\n",
    "\n",
    "\n",
    "def resolucao_lu(p, l, u, b):\n",
    "    y = sla.solve_triangular(l, p@b, lower=True)\n",
    "    x = sla.solve_triangular(u, y, lower=False)\n",
    "    return np.array(x, dtype=float)"
   ],
   "metadata": {
    "collapsed": false,
    "pycharm": {
     "name": "#%%\n"
    }
   }
  },
  {
   "cell_type": "code",
   "execution_count": 161,
   "outputs": [],
   "source": [
    "def analise_sistema(a,b):\n",
    "    print(\"**Calculando resolução com a lib scipy:**\")\n",
    "    p,l,u = sla.lu(a)\n",
    "\n",
    "    print(\"Recuperando a matriz a partir da expressão p * l * u:\")\n",
    "    print(p@l@u)\n",
    "    print(\"\\n\")\n",
    "\n",
    "    L_U, piv = sla.lu_factor(a)\n",
    "    x = sla.lu_solve((L_U, piv), b)\n",
    "    print(\"Conjunto solução do sistema:\")\n",
    "    print(x)\n",
    "    solucao_correta = (a @ x == b).all()\n",
    "    print(\"Solução validada!\" if solucao_correta else \"Conjunto solução não resolve o sistema :(\")\n",
    "    print(\"\\n\")\n",
    "\n",
    "\n",
    "    print(\"**Calculando resolução com minha implementação:**\")\n",
    "    pm,lm,um = decomposicao_lu(a)\n",
    "\n",
    "    print(\"Recuperando a matriz a partir da expressão p * l * u\")\n",
    "    print(pm@lm@um)\n",
    "    print(\"\\n\")\n",
    "\n",
    "    xm = resolucao_lu(pm,lm,um,b)\n",
    "    print(\"Conjunto solução do sistema:\")\n",
    "    print(x)\n",
    "    solucao_correta = (a @ xm == b).all()\n",
    "    print(\"Solução validada!\" if solucao_correta else \"Conjunto solução não resolve o sistema :(\")\n",
    "    print(\"\\n\")\n"
   ],
   "metadata": {
    "collapsed": false,
    "pycharm": {
     "name": "#%%\n"
    }
   }
  },
  {
   "cell_type": "markdown",
   "source": [
    "## Questão a"
   ],
   "metadata": {
    "collapsed": false,
    "pycharm": {
     "name": "#%% md\n"
    }
   }
  },
  {
   "cell_type": "code",
   "execution_count": 162,
   "outputs": [
    {
     "name": "stdout",
     "output_type": "stream",
     "text": [
      "**Calculando resolução com a lib scipy:**\n",
      "Recuperando a matriz a partir da expressão p * l * u:\n",
      "[[ 1.  1.  1.]\n",
      " [ 4.  4.  2.]\n",
      " [ 2.  1. -1.]]\n",
      "\n",
      "\n",
      "Conjunto solução do sistema:\n",
      "[ 1. -1.  1.]\n",
      "Solução validada!\n",
      "\n",
      "\n",
      "**Calculando resolução com minha implementação:**\n",
      "Recuperando a matriz a partir da expressão p * l * u\n",
      "[[nan nan nan]\n",
      " [nan nan nan]\n",
      " [nan nan nan]]\n",
      "\n",
      "\n"
     ]
    },
    {
     "name": "stderr",
     "output_type": "stream",
     "text": [
      "/tmp/ipykernel_28613/1335313586.py:18: RuntimeWarning: divide by zero encountered in double_scalars\n",
      "  mult = u[j, i] / u[i, i]\n",
      "/tmp/ipykernel_28613/1335313586.py:20: RuntimeWarning: invalid value encountered in multiply\n",
      "  u[j] = u[j] - (mult * u[i])\n",
      "/tmp/ipykernel_28613/19113813.py:22: RuntimeWarning: invalid value encountered in matmul\n",
      "  print(pm@lm@um)\n"
     ]
    },
    {
     "ename": "ValueError",
     "evalue": "array must not contain infs or NaNs",
     "output_type": "error",
     "traceback": [
      "\u001B[0;31m---------------------------------------------------------------------------\u001B[0m",
      "\u001B[0;31mValueError\u001B[0m                                Traceback (most recent call last)",
      "Input \u001B[0;32mIn [162]\u001B[0m, in \u001B[0;36m<module>\u001B[0;34m\u001B[0m\n\u001B[1;32m      1\u001B[0m a \u001B[38;5;241m=\u001B[39m np\u001B[38;5;241m.\u001B[39marray([[\u001B[38;5;241m1\u001B[39m,\u001B[38;5;241m1\u001B[39m,\u001B[38;5;241m1\u001B[39m],[\u001B[38;5;241m4\u001B[39m,\u001B[38;5;241m4\u001B[39m,\u001B[38;5;241m2\u001B[39m],[\u001B[38;5;241m2\u001B[39m,\u001B[38;5;241m1\u001B[39m,\u001B[38;5;241m-\u001B[39m\u001B[38;5;241m1\u001B[39m]],dtype\u001B[38;5;241m=\u001B[39m\u001B[38;5;28mfloat\u001B[39m)\n\u001B[1;32m      2\u001B[0m b \u001B[38;5;241m=\u001B[39m np\u001B[38;5;241m.\u001B[39marray([\u001B[38;5;241m1\u001B[39m,\u001B[38;5;241m2\u001B[39m,\u001B[38;5;241m0\u001B[39m])\n\u001B[0;32m----> 4\u001B[0m \u001B[43manalise_sistema\u001B[49m\u001B[43m(\u001B[49m\u001B[43ma\u001B[49m\u001B[43m,\u001B[49m\u001B[43mb\u001B[49m\u001B[43m)\u001B[49m\n",
      "Input \u001B[0;32mIn [161]\u001B[0m, in \u001B[0;36manalise_sistema\u001B[0;34m(a, b)\u001B[0m\n\u001B[1;32m     22\u001B[0m \u001B[38;5;28mprint\u001B[39m(pm\u001B[38;5;129m@lm\u001B[39m\u001B[38;5;129m@um\u001B[39m)\n\u001B[1;32m     23\u001B[0m \u001B[38;5;28mprint\u001B[39m(\u001B[38;5;124m\"\u001B[39m\u001B[38;5;130;01m\\n\u001B[39;00m\u001B[38;5;124m\"\u001B[39m)\n\u001B[0;32m---> 25\u001B[0m xm \u001B[38;5;241m=\u001B[39m \u001B[43mresolucao_lu\u001B[49m\u001B[43m(\u001B[49m\u001B[43mpm\u001B[49m\u001B[43m,\u001B[49m\u001B[43mlm\u001B[49m\u001B[43m,\u001B[49m\u001B[43mum\u001B[49m\u001B[43m,\u001B[49m\u001B[43mb\u001B[49m\u001B[43m)\u001B[49m\n\u001B[1;32m     26\u001B[0m \u001B[38;5;28mprint\u001B[39m(\u001B[38;5;124m\"\u001B[39m\u001B[38;5;124mConjunto solução do sistema:\u001B[39m\u001B[38;5;124m\"\u001B[39m)\n\u001B[1;32m     27\u001B[0m \u001B[38;5;28mprint\u001B[39m(x)\n",
      "Input \u001B[0;32mIn [160]\u001B[0m, in \u001B[0;36mresolucao_lu\u001B[0;34m(p, l, u, b)\u001B[0m\n\u001B[1;32m     34\u001B[0m \u001B[38;5;28;01mdef\u001B[39;00m \u001B[38;5;21mresolucao_lu\u001B[39m(p, l, u, b):\n\u001B[0;32m---> 35\u001B[0m     y \u001B[38;5;241m=\u001B[39m \u001B[43msla\u001B[49m\u001B[38;5;241;43m.\u001B[39;49m\u001B[43msolve_triangular\u001B[49m\u001B[43m(\u001B[49m\u001B[43ml\u001B[49m\u001B[43m,\u001B[49m\u001B[43m \u001B[49m\u001B[43mp\u001B[49m\u001B[38;5;129;43m@b\u001B[39;49m\u001B[43m,\u001B[49m\u001B[43m \u001B[49m\u001B[43mlower\u001B[49m\u001B[38;5;241;43m=\u001B[39;49m\u001B[38;5;28;43;01mTrue\u001B[39;49;00m\u001B[43m)\u001B[49m\n\u001B[1;32m     36\u001B[0m     x \u001B[38;5;241m=\u001B[39m sla\u001B[38;5;241m.\u001B[39msolve_triangular(u, y, lower\u001B[38;5;241m=\u001B[39m\u001B[38;5;28;01mFalse\u001B[39;00m)\n\u001B[1;32m     37\u001B[0m     \u001B[38;5;28;01mreturn\u001B[39;00m np\u001B[38;5;241m.\u001B[39marray(x, dtype\u001B[38;5;241m=\u001B[39m\u001B[38;5;28mfloat\u001B[39m)\n",
      "File \u001B[0;32m~/.local/lib/python3.10/site-packages/scipy/linalg/_basic.py:338\u001B[0m, in \u001B[0;36msolve_triangular\u001B[0;34m(a, b, trans, lower, unit_diagonal, overwrite_b, debug, check_finite)\u001B[0m\n\u001B[1;32m    333\u001B[0m \u001B[38;5;28;01mif\u001B[39;00m debug \u001B[38;5;129;01mis\u001B[39;00m \u001B[38;5;129;01mnot\u001B[39;00m \u001B[38;5;28;01mNone\u001B[39;00m:\n\u001B[1;32m    334\u001B[0m     warn(\u001B[38;5;124m'\u001B[39m\u001B[38;5;124mUse of the \u001B[39m\u001B[38;5;124m\"\u001B[39m\u001B[38;5;124mdebug\u001B[39m\u001B[38;5;124m\"\u001B[39m\u001B[38;5;124m keyword is deprecated \u001B[39m\u001B[38;5;124m'\u001B[39m\n\u001B[1;32m    335\u001B[0m          \u001B[38;5;124m'\u001B[39m\u001B[38;5;124mand this keyword will be removed in the future \u001B[39m\u001B[38;5;124m'\u001B[39m\n\u001B[1;32m    336\u001B[0m          \u001B[38;5;124m'\u001B[39m\u001B[38;5;124mversions of SciPy.\u001B[39m\u001B[38;5;124m'\u001B[39m, \u001B[38;5;167;01mDeprecationWarning\u001B[39;00m, stacklevel\u001B[38;5;241m=\u001B[39m\u001B[38;5;241m2\u001B[39m)\n\u001B[0;32m--> 338\u001B[0m a1 \u001B[38;5;241m=\u001B[39m \u001B[43m_asarray_validated\u001B[49m\u001B[43m(\u001B[49m\u001B[43ma\u001B[49m\u001B[43m,\u001B[49m\u001B[43m \u001B[49m\u001B[43mcheck_finite\u001B[49m\u001B[38;5;241;43m=\u001B[39;49m\u001B[43mcheck_finite\u001B[49m\u001B[43m)\u001B[49m\n\u001B[1;32m    339\u001B[0m b1 \u001B[38;5;241m=\u001B[39m _asarray_validated(b, check_finite\u001B[38;5;241m=\u001B[39mcheck_finite)\n\u001B[1;32m    340\u001B[0m \u001B[38;5;28;01mif\u001B[39;00m \u001B[38;5;28mlen\u001B[39m(a1\u001B[38;5;241m.\u001B[39mshape) \u001B[38;5;241m!=\u001B[39m \u001B[38;5;241m2\u001B[39m \u001B[38;5;129;01mor\u001B[39;00m a1\u001B[38;5;241m.\u001B[39mshape[\u001B[38;5;241m0\u001B[39m] \u001B[38;5;241m!=\u001B[39m a1\u001B[38;5;241m.\u001B[39mshape[\u001B[38;5;241m1\u001B[39m]:\n",
      "File \u001B[0;32m~/.local/lib/python3.10/site-packages/scipy/_lib/_util.py:287\u001B[0m, in \u001B[0;36m_asarray_validated\u001B[0;34m(a, check_finite, sparse_ok, objects_ok, mask_ok, as_inexact)\u001B[0m\n\u001B[1;32m    285\u001B[0m         \u001B[38;5;28;01mraise\u001B[39;00m \u001B[38;5;167;01mValueError\u001B[39;00m(\u001B[38;5;124m'\u001B[39m\u001B[38;5;124mmasked arrays are not supported\u001B[39m\u001B[38;5;124m'\u001B[39m)\n\u001B[1;32m    286\u001B[0m toarray \u001B[38;5;241m=\u001B[39m np\u001B[38;5;241m.\u001B[39masarray_chkfinite \u001B[38;5;28;01mif\u001B[39;00m check_finite \u001B[38;5;28;01melse\u001B[39;00m np\u001B[38;5;241m.\u001B[39masarray\n\u001B[0;32m--> 287\u001B[0m a \u001B[38;5;241m=\u001B[39m \u001B[43mtoarray\u001B[49m\u001B[43m(\u001B[49m\u001B[43ma\u001B[49m\u001B[43m)\u001B[49m\n\u001B[1;32m    288\u001B[0m \u001B[38;5;28;01mif\u001B[39;00m \u001B[38;5;129;01mnot\u001B[39;00m objects_ok:\n\u001B[1;32m    289\u001B[0m     \u001B[38;5;28;01mif\u001B[39;00m a\u001B[38;5;241m.\u001B[39mdtype \u001B[38;5;129;01mis\u001B[39;00m np\u001B[38;5;241m.\u001B[39mdtype(\u001B[38;5;124m'\u001B[39m\u001B[38;5;124mO\u001B[39m\u001B[38;5;124m'\u001B[39m):\n",
      "File \u001B[0;32m/usr/lib/python3.10/site-packages/numpy/lib/function_base.py:603\u001B[0m, in \u001B[0;36masarray_chkfinite\u001B[0;34m(a, dtype, order)\u001B[0m\n\u001B[1;32m    601\u001B[0m a \u001B[38;5;241m=\u001B[39m asarray(a, dtype\u001B[38;5;241m=\u001B[39mdtype, order\u001B[38;5;241m=\u001B[39morder)\n\u001B[1;32m    602\u001B[0m \u001B[38;5;28;01mif\u001B[39;00m a\u001B[38;5;241m.\u001B[39mdtype\u001B[38;5;241m.\u001B[39mchar \u001B[38;5;129;01min\u001B[39;00m typecodes[\u001B[38;5;124m'\u001B[39m\u001B[38;5;124mAllFloat\u001B[39m\u001B[38;5;124m'\u001B[39m] \u001B[38;5;129;01mand\u001B[39;00m \u001B[38;5;129;01mnot\u001B[39;00m np\u001B[38;5;241m.\u001B[39misfinite(a)\u001B[38;5;241m.\u001B[39mall():\n\u001B[0;32m--> 603\u001B[0m     \u001B[38;5;28;01mraise\u001B[39;00m \u001B[38;5;167;01mValueError\u001B[39;00m(\n\u001B[1;32m    604\u001B[0m         \u001B[38;5;124m\"\u001B[39m\u001B[38;5;124marray must not contain infs or NaNs\u001B[39m\u001B[38;5;124m\"\u001B[39m)\n\u001B[1;32m    605\u001B[0m \u001B[38;5;28;01mreturn\u001B[39;00m a\n",
      "\u001B[0;31mValueError\u001B[0m: array must not contain infs or NaNs"
     ]
    }
   ],
   "source": [
    "a = np.array([[1,1,1],[4,4,2],[2,1,-1]],dtype=float)\n",
    "b = np.array([1,2,0])\n",
    "\n",
    "analise_sistema(a,b)"
   ],
   "metadata": {
    "collapsed": false,
    "pycharm": {
     "name": "#%%\n"
    }
   }
  },
  {
   "cell_type": "markdown",
   "source": [
    "NOTA: Tentei várias implementações com esse primeiro caso, e nenhuma funcionou bem... Acho que po ter dois 4 na segunda linha na hora que o código vai zerar um no escalonamento, acaba zerando tudo."
   ],
   "metadata": {
    "collapsed": false,
    "pycharm": {
     "name": "#%% md\n"
    }
   }
  },
  {
   "cell_type": "markdown",
   "source": [
    "## Questão b"
   ],
   "metadata": {
    "collapsed": false,
    "pycharm": {
     "name": "#%% md\n"
    }
   }
  },
  {
   "cell_type": "code",
   "execution_count": 163,
   "outputs": [
    {
     "name": "stdout",
     "output_type": "stream",
     "text": [
      "**Calculando resolução com a lib scipy:**\n",
      "Recuperando a matriz a partir da expressão p * l * u:\n",
      "[[  7.  -7.   1.]\n",
      " [ -3.   3.   2.]\n",
      " [  7.   7. -72.]]\n",
      "\n",
      "\n",
      "Conjunto solução do sistema:\n",
      "[5.64285714 5.64285714 1.        ]\n",
      "Solução validada!\n",
      "\n",
      "\n",
      "**Calculando resolução com minha implementação:**\n",
      "Recuperando a matriz a partir da expressão p * l * u\n",
      "[[  7.  -7.   1.]\n",
      " [ -3.   3.   2.]\n",
      " [  7.   7. -72.]]\n",
      "\n",
      "\n",
      "Conjunto solução do sistema:\n",
      "[5.64285714 5.64285714 1.        ]\n",
      "Solução validada!\n",
      "\n",
      "\n"
     ]
    }
   ],
   "source": [
    "a = np.array([[7, -7, 1], [-3, 3, 2], [7, 7, -72]], dtype=float)\n",
    "b = np.array([1, 2, 7], dtype=float)\n",
    "\n",
    "analise_sistema(a,b)"
   ],
   "metadata": {
    "collapsed": false,
    "pycharm": {
     "name": "#%%\n"
    }
   }
  },
  {
   "cell_type": "markdown",
   "source": [
    "## Questão b"
   ],
   "metadata": {
    "collapsed": false,
    "pycharm": {
     "name": "#%% md\n"
    }
   }
  },
  {
   "cell_type": "code",
   "execution_count": 164,
   "outputs": [
    {
     "name": "stdout",
     "output_type": "stream",
     "text": [
      "**Calculando resolução com a lib scipy:**\n",
      "Recuperando a matriz a partir da expressão p * l * u:\n",
      "[[1. 2. 3. 4.]\n",
      " [2. 2. 3. 4.]\n",
      " [3. 3. 3. 4.]\n",
      " [4. 4. 4. 4.]]\n",
      "\n",
      "\n",
      "Conjunto solução do sistema:\n",
      "[ 2. -2.  2.  4.]\n",
      "Solução validada!\n",
      "\n",
      "\n",
      "**Calculando resolução com minha implementação:**\n",
      "Recuperando a matriz a partir da expressão p * l * u\n",
      "[[3. 3. 3. 4.]\n",
      " [4. 4. 4. 4.]\n",
      " [1. 2. 3. 4.]\n",
      " [2. 2. 3. 4.]]\n",
      "\n",
      "\n",
      "Conjunto solução do sistema:\n",
      "[ 2. -2.  2.  4.]\n",
      "Solução validada!\n",
      "\n",
      "\n"
     ]
    }
   ],
   "source": [
    "a = np.array([[1,2,3,4],[2,2,3,4],[3,3,3,4],[4,4,4,4]], dtype=float)\n",
    "b = np.array([20,22,22,24], dtype=float)\n",
    "analise_sistema(a,b)"
   ],
   "metadata": {
    "collapsed": false,
    "pycharm": {
     "name": "#%%\n"
    }
   }
  },
  {
   "cell_type": "code",
   "execution_count": null,
   "outputs": [],
   "source": [],
   "metadata": {
    "collapsed": false,
    "pycharm": {
     "name": "#%%\n"
    }
   }
  }
 ],
 "metadata": {
  "kernelspec": {
   "display_name": "Python 3",
   "language": "python",
   "name": "python3"
  },
  "language_info": {
   "codemirror_mode": {
    "name": "ipython",
    "version": 2
   },
   "file_extension": ".py",
   "mimetype": "text/x-python",
   "name": "python",
   "nbconvert_exporter": "python",
   "pygments_lexer": "ipython2",
   "version": "2.7.6"
  }
 },
 "nbformat": 4,
 "nbformat_minor": 0
}