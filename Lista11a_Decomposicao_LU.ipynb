{
 "cells": [
  {
   "cell_type": "code",
   "execution_count": 423,
   "outputs": [],
   "source": [
    "import numpy as np\n",
    "import scipy.linalg as sla"
   ],
   "metadata": {
    "collapsed": false,
    "pycharm": {
     "name": "#%%\n"
    }
   }
  },
  {
   "cell_type": "markdown",
   "metadata": {
    "collapsed": true,
    "pycharm": {
     "name": "#%% md\n"
    }
   },
   "source": [
    "Aluno: Arthur Mauricio Thomaz Soares"
   ]
  },
  {
   "cell_type": "markdown",
   "source": [
    "## Decomposição LU"
   ],
   "metadata": {
    "collapsed": false,
    "pycharm": {
     "name": "#%% md\n"
    }
   }
  },
  {
   "cell_type": "code",
   "execution_count": 424,
   "outputs": [],
   "source": [
    "def decomposicao_lu(a):\n",
    "    p = np.identity(len(a))\n",
    "    l = np.identity(len(a))\n",
    "    u = np.array(a, dtype=float)\n",
    "    m = len(u)\n",
    "\n",
    "    for i in range(m):\n",
    "        pivo = np.abs(u[i:, i]).argmax() + i\n",
    "        if i != pivo:\n",
    "            u[[i, pivo]] = u[[pivo, i]]\n",
    "            p[[i, pivo]] = p[[pivo, i]]\n",
    "        for j in range(i + 1, m):\n",
    "            mult = u[j, i] / u[i, i]\n",
    "            l[j, i] = mult\n",
    "            u[j] = u[j] - (mult * u[i])\n",
    "\n",
    "    return p, l, u\n",
    "\n",
    "\n",
    "def sist_lin_tri_sup(A, b):\n",
    "    n = len(b)\n",
    "    x = np.empty(n)\n",
    "    x[-1] = b[-1] / A[-1, -1]\n",
    "    for i in range(n - 2, -1, -1):\n",
    "        x[i] = (b[i] - np.sum(A[i, i + 1:] * x[i + 1:])) / A[i, i]\n",
    "    return x\n",
    "\n",
    "\n",
    "def resolucao_lu(p, l, u, b):\n",
    "    y = sla.solve_triangular(l, b@p, lower=True)\n",
    "    x = sla.solve_triangular(u, y, lower=False)\n",
    "    return x\n",
    "\n"
   ],
   "metadata": {
    "collapsed": false,
    "pycharm": {
     "name": "#%%\n"
    }
   }
  },
  {
   "cell_type": "code",
   "execution_count": 425,
   "outputs": [],
   "source": [
    "# a = np.array([[1, 1, 1], [2, 1, -1], [2, -1, 1]], dtype=float)\n",
    "# b = np.array([-2, 1, 3], dtype=float)\n",
    "a = np.array([[1,1,1],[4,4,2],[2,1,-1]], dtype=float)\n",
    "b = np.array([1,2,0], dtype=float)"
   ],
   "metadata": {
    "collapsed": false,
    "pycharm": {
     "name": "#%%\n"
    }
   }
  },
  {
   "cell_type": "code",
   "execution_count": 426,
   "outputs": [],
   "source": [
    "p, l, u = sla.lu(a)\n",
    "mp, ml, mu = decomposicao_lu(a)"
   ],
   "metadata": {
    "collapsed": false,
    "pycharm": {
     "name": "#%%\n"
    }
   }
  },
  {
   "cell_type": "code",
   "execution_count": 427,
   "outputs": [
    {
     "data": {
      "text/plain": "array([ 1., -1.,  1.])"
     },
     "execution_count": 427,
     "metadata": {},
     "output_type": "execute_result"
    }
   ],
   "source": [
    "LU, piv = sla.lu_factor(a)\n",
    "x = sla.lu_solve((LU, piv), b)\n",
    "x"
   ],
   "metadata": {
    "collapsed": false,
    "pycharm": {
     "name": "#%%\n"
    }
   }
  },
  {
   "cell_type": "code",
   "execution_count": 428,
   "outputs": [
    {
     "data": {
      "text/plain": "array([1., 2., 0.])"
     },
     "execution_count": 428,
     "metadata": {},
     "output_type": "execute_result"
    }
   ],
   "source": [
    "a @ x"
   ],
   "metadata": {
    "collapsed": false,
    "pycharm": {
     "name": "#%%\n"
    }
   }
  },
  {
   "cell_type": "code",
   "execution_count": 429,
   "outputs": [
    {
     "data": {
      "text/plain": "array([ 7., -9.,  4.])"
     },
     "execution_count": 429,
     "metadata": {},
     "output_type": "execute_result"
    }
   ],
   "source": [
    "x = resolucao_lu(mp, ml, mu, b)\n",
    "x"
   ],
   "metadata": {
    "collapsed": false,
    "pycharm": {
     "name": "#%%\n"
    }
   }
  },
  {
   "cell_type": "code",
   "execution_count": 430,
   "outputs": [
    {
     "data": {
      "text/plain": "array([2., 0., 1.])"
     },
     "execution_count": 430,
     "metadata": {},
     "output_type": "execute_result"
    }
   ],
   "source": [
    "a @ x"
   ],
   "metadata": {
    "collapsed": false,
    "pycharm": {
     "name": "#%%\n"
    }
   }
  }
 ],
 "metadata": {
  "kernelspec": {
   "display_name": "Python 3",
   "language": "python",
   "name": "python3"
  },
  "language_info": {
   "codemirror_mode": {
    "name": "ipython",
    "version": 2
   },
   "file_extension": ".py",
   "mimetype": "text/x-python",
   "name": "python",
   "nbconvert_exporter": "python",
   "pygments_lexer": "ipython2",
   "version": "2.7.6"
  }
 },
 "nbformat": 4,
 "nbformat_minor": 0
}