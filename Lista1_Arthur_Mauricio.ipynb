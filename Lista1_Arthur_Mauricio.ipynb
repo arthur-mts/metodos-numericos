{
 "cells": [
  {
   "cell_type": "markdown",
   "id": "fe107768",
   "metadata": {},
   "source": [
    "<div class=\\\"alert alert-block alert-info\\\">\n",
    "<center>ESTATÍSTICA APLICADA</center>\n",
    "<center>LISTA 1</center>\n",
    "<center>ALUNO: ARTHUR MAURICIO</center>\n",
    "</div>"
   ]
  },
  {
   "cell_type": "markdown",
   "id": "654f3534",
   "metadata": {},
   "source": [
    "### Questão 1"
   ]
  },
  {
   "cell_type": "code",
   "execution_count": 9,
   "id": "23b05848",
   "metadata": {},
   "outputs": [],
   "source": [
    "import numpy as np"
   ]
  },
  {
   "cell_type": "code",
   "execution_count": 2,
   "id": "dceb0ec3",
   "metadata": {},
   "outputs": [
    {
     "name": "stdout",
     "output_type": "stream",
     "text": [
      "1.21.2\n"
     ]
    }
   ],
   "source": [
    "print(np.__version__)"
   ]
  },
  {
   "cell_type": "markdown",
   "id": "8cde0090",
   "metadata": {},
   "source": [
    "### Questão 2"
   ]
  },
  {
   "cell_type": "markdown",
   "id": "f2febd5d",
   "metadata": {},
   "source": [
    "- Broadcasting: O broadcasting é a forma que o numpy usa para tratar operações aritimétricas com vétores (ou não vétores) de tamanhos distintos. Por exemplo, multiplicar um vetor de tamanho 10 de números reais com um valor X irá multiplicar cada item do vetor por esse x.\n",
    "- Vetorização: A vetorização é a forma que o numpy usa de tornar operações com listas mais rápidas do que usando a sintaxe usual de listas do python (for loops etc). Dessa forma é bem mais fácil trabalhar com matrizes e vetores utilizando o ndarray"
   ]
  },
  {
   "cell_type": "markdown",
   "id": "88a8d6c2",
   "metadata": {},
   "source": [
    "### Questão 3"
   ]
  },
  {
   "cell_type": "markdown",
   "id": "63aa4946",
   "metadata": {},
   "source": [
    "- Dicionario: É um dicionario chave:valor, onde suas chaves podem ser de qualquer tipo e seu valor também. A indexação é feita comparando o valor com as chaves do dicionário. A sintáxe é a mesma das listas"
   ]
  },
  {
   "cell_type": "code",
   "execution_count": 15,
   "id": "5fcad09f",
   "metadata": {},
   "outputs": [
    {
     "name": "stdout",
     "output_type": "stream",
     "text": [
      "{'foo': 'bar', False: True, 2: [1, 2, 3]}\n",
      "True\n"
     ]
    }
   ],
   "source": [
    "a = dict()\n",
    "a[\"foo\"] = \"bar\"\n",
    "a[False] = True\n",
    "a[2] = [1,2,3]\n",
    "print(a)\n",
    "print(a[False])"
   ]
  },
  {
   "cell_type": "markdown",
   "id": "4fe6e918",
   "metadata": {},
   "source": [
    "- Lista: Estrutura básica de coleção do Python, nela podemos guardar um conjunto de dados de qualquer tipo (inclusive dados de tipos diferentes numa mesma lista). É indexada por posições da seguinte forma: lista[0]"
   ]
  },
  {
   "cell_type": "code",
   "execution_count": 14,
   "id": "776c3cf9",
   "metadata": {},
   "outputs": [
    {
     "name": "stdout",
     "output_type": "stream",
     "text": [
      "[1, 2, 3, '4', 5.123]\n",
      "3\n"
     ]
    }
   ],
   "source": [
    "lista = [1,2,3,\"4\",5.123]\n",
    "print(lista)\n",
    "print(lista[2])"
   ]
  },
  {
   "cell_type": "markdown",
   "id": "4bcf1d7d",
   "metadata": {},
   "source": [
    "- Array Numpy: o método np.array() cria um objeto Array, que funciona básicamente como uma lista comum porém com diversos métodos e facilidades para trabalhar com grandes conjuntos de dados. O Array Numpy só pode ter um tipo de dados e tem métodos como sum(), std() etc."
   ]
  },
  {
   "cell_type": "code",
   "execution_count": 21,
   "id": "c397888f",
   "metadata": {},
   "outputs": [
    {
     "name": "stdout",
     "output_type": "stream",
     "text": [
      "[1.    2.    3.    4.    5.213]\n",
      "15.213000000000001\n"
     ]
    }
   ],
   "source": [
    "np_arr = np.array([1,2,3,4,5.213])\n",
    "print(np_arr)\n",
    "print(np_arr.sum())"
   ]
  },
  {
   "cell_type": "markdown",
   "id": "1a6dcfdf",
   "metadata": {},
   "source": [
    "### Questão 4"
   ]
  },
  {
   "cell_type": "code",
   "execution_count": 48,
   "id": "a6672bc6",
   "metadata": {},
   "outputs": [
    {
     "data": {
      "text/plain": [
       "array([[ 1,  6, 11],\n",
       "       [ 2,  7, 12],\n",
       "       [ 3,  8, 13],\n",
       "       [ 4,  9, 14],\n",
       "       [ 5, 10, 15]])"
      ]
     },
     "execution_count": 48,
     "metadata": {},
     "output_type": "execute_result"
    }
   ],
   "source": [
    "base = [[j for j in range((i-1)*5 + 1, i*5 + 1)] for i in range(1,4)]\n",
    "np.array(base).transpose()"
   ]
  },
  {
   "cell_type": "markdown",
   "id": "b837f986",
   "metadata": {},
   "source": [
    "### Questão 5"
   ]
  },
  {
   "cell_type": "code",
   "execution_count": 49,
   "id": "19185ca4",
   "metadata": {},
   "outputs": [
    {
     "data": {
      "text/plain": [
       "array([ 1.        ,  3.11111111,  5.22222222,  7.33333333,  9.44444444,\n",
       "       11.55555556, 13.66666667, 15.77777778, 17.88888889, 20.        ])"
      ]
     },
     "execution_count": 49,
     "metadata": {},
     "output_type": "execute_result"
    }
   ],
   "source": [
    "## a\n",
    "np.linspace(1,20,10)"
   ]
  },
  {
   "cell_type": "code",
   "execution_count": 51,
   "id": "8f067fbd",
   "metadata": {},
   "outputs": [
    {
     "data": {
      "text/plain": [
       "array([ 1,  3,  5,  7,  9, 11, 13, 15, 17, 19])"
      ]
     },
     "execution_count": 51,
     "metadata": {},
     "output_type": "execute_result"
    }
   ],
   "source": [
    "## b\n",
    "np.arange(1,20,2)"
   ]
  },
  {
   "cell_type": "code",
   "execution_count": 63,
   "id": "5ec63596",
   "metadata": {},
   "outputs": [
    {
     "data": {
      "text/plain": [
       "array([[1., 0., 0.],\n",
       "       [0., 2., 0.],\n",
       "       [0., 0., 3.]])"
      ]
     },
     "execution_count": 63,
     "metadata": {},
     "output_type": "execute_result"
    }
   ],
   "source": [
    "## c\n",
    "c = np.zeros((3,3))\n",
    "np.fill_diagonal(c,[1,2,3])\n",
    "c"
   ]
  },
  {
   "cell_type": "markdown",
   "id": "6ddfeacf",
   "metadata": {},
   "source": [
    "### Questão 6"
   ]
  },
  {
   "cell_type": "code",
   "execution_count": 64,
   "id": "59a25e36",
   "metadata": {},
   "outputs": [
    {
     "data": {
      "text/plain": [
       "array(['-2', '4.0', '7', '9'], dtype='<U32')"
      ]
     },
     "execution_count": 64,
     "metadata": {},
     "output_type": "execute_result"
    }
   ],
   "source": [
    "l = [-2,4.,'7',9]\n",
    "np.array(l)"
   ]
  },
  {
   "cell_type": "markdown",
   "id": "d5898b32",
   "metadata": {},
   "source": [
    "Essa mudança ocorre pois o numpy busca por um tipo em comum para todos os items no vetor, já que ele permite apenas um tipo de dado em sua especificação. Nesse caso o tipo de dado em que todos os items podem ser transformados é uma string.   \n",
    "Porém, se mudarmos o '7' para inteiro, o tipo de dados em comum para que todos podem ser transformados é float (por conta do -2.4)\n",
    "."
   ]
  },
  {
   "cell_type": "code",
   "execution_count": 65,
   "id": "6fd8d38c",
   "metadata": {},
   "outputs": [
    {
     "data": {
      "text/plain": [
       "array([-2.,  4.,  7.,  9.])"
      ]
     },
     "execution_count": 65,
     "metadata": {},
     "output_type": "execute_result"
    }
   ],
   "source": [
    "np.array([-2,4.,7,9])"
   ]
  },
  {
   "cell_type": "markdown",
   "id": "89c8a474",
   "metadata": {},
   "source": [
    "### Questão 7"
   ]
  },
  {
   "cell_type": "code",
   "execution_count": 68,
   "id": "13a00762",
   "metadata": {},
   "outputs": [],
   "source": [
    "A = np.arange(10,49)\n",
    "B = np.arange(1,39)\n",
    "C = np.arange(10,20)"
   ]
  },
  {
   "cell_type": "code",
   "execution_count": 69,
   "id": "9abe51dd",
   "metadata": {},
   "outputs": [
    {
     "ename": "ValueError",
     "evalue": "operands could not be broadcast together with shapes (39,) (38,) ",
     "output_type": "error",
     "traceback": [
      "\u001b[0;31m---------------------------------------------------------------------------\u001b[0m",
      "\u001b[0;31mValueError\u001b[0m                                Traceback (most recent call last)",
      "\u001b[0;32m/tmp/ipykernel_86569/2294188743.py\u001b[0m in \u001b[0;36m<module>\u001b[0;34m\u001b[0m\n\u001b[1;32m      1\u001b[0m \u001b[0;31m## a\u001b[0m\u001b[0;34m\u001b[0m\u001b[0;34m\u001b[0m\u001b[0m\n\u001b[0;32m----> 2\u001b[0;31m \u001b[0mA\u001b[0m \u001b[0;34m+\u001b[0m \u001b[0mB\u001b[0m\u001b[0;34m\u001b[0m\u001b[0;34m\u001b[0m\u001b[0m\n\u001b[0m",
      "\u001b[0;31mValueError\u001b[0m: operands could not be broadcast together with shapes (39,) (38,) "
     ]
    }
   ],
   "source": [
    "## a\n",
    "A + B"
   ]
  },
  {
   "cell_type": "code",
   "execution_count": 70,
   "id": "5375eeef",
   "metadata": {},
   "outputs": [
    {
     "ename": "ValueError",
     "evalue": "operands could not be broadcast together with shapes (39,) (38,) ",
     "output_type": "error",
     "traceback": [
      "\u001b[0;31m---------------------------------------------------------------------------\u001b[0m",
      "\u001b[0;31mValueError\u001b[0m                                Traceback (most recent call last)",
      "\u001b[0;32m/tmp/ipykernel_86569/3382234005.py\u001b[0m in \u001b[0;36m<module>\u001b[0;34m\u001b[0m\n\u001b[0;32m----> 1\u001b[0;31m \u001b[0mA\u001b[0m \u001b[0;34m*\u001b[0m \u001b[0mB\u001b[0m\u001b[0;34m\u001b[0m\u001b[0;34m\u001b[0m\u001b[0m\n\u001b[0m",
      "\u001b[0;31mValueError\u001b[0m: operands could not be broadcast together with shapes (39,) (38,) "
     ]
    }
   ],
   "source": [
    "A * B"
   ]
  },
  {
   "cell_type": "code",
   "execution_count": 71,
   "id": "d65e6157",
   "metadata": {
    "scrolled": false
   },
   "outputs": [
    {
     "ename": "ValueError",
     "evalue": "operands could not be broadcast together with shapes (39,) (10,) ",
     "output_type": "error",
     "traceback": [
      "\u001b[0;31m---------------------------------------------------------------------------\u001b[0m",
      "\u001b[0;31mValueError\u001b[0m                                Traceback (most recent call last)",
      "\u001b[0;32m/tmp/ipykernel_86569/486311815.py\u001b[0m in \u001b[0;36m<module>\u001b[0;34m\u001b[0m\n\u001b[0;32m----> 1\u001b[0;31m \u001b[0mA\u001b[0m \u001b[0;34m+\u001b[0m \u001b[0mC\u001b[0m\u001b[0;34m\u001b[0m\u001b[0;34m\u001b[0m\u001b[0m\n\u001b[0m",
      "\u001b[0;31mValueError\u001b[0m: operands could not be broadcast together with shapes (39,) (10,) "
     ]
    }
   ],
   "source": [
    "A + C"
   ]
  },
  {
   "cell_type": "code",
   "execution_count": 72,
   "id": "c7b53a43",
   "metadata": {},
   "outputs": [
    {
     "ename": "ValueError",
     "evalue": "operands could not be broadcast together with shapes (38,) (10,) ",
     "output_type": "error",
     "traceback": [
      "\u001b[0;31m---------------------------------------------------------------------------\u001b[0m",
      "\u001b[0;31mValueError\u001b[0m                                Traceback (most recent call last)",
      "\u001b[0;32m/tmp/ipykernel_86569/2428265818.py\u001b[0m in \u001b[0;36m<module>\u001b[0;34m\u001b[0m\n\u001b[0;32m----> 1\u001b[0;31m \u001b[0mB\u001b[0m\u001b[0;34m*\u001b[0m\u001b[0mC\u001b[0m\u001b[0;34m\u001b[0m\u001b[0;34m\u001b[0m\u001b[0m\n\u001b[0m",
      "\u001b[0;31mValueError\u001b[0m: operands could not be broadcast together with shapes (38,) (10,) "
     ]
    }
   ],
   "source": [
    "B*C"
   ]
  },
  {
   "cell_type": "markdown",
   "id": "b1ee3e64",
   "metadata": {},
   "source": [
    "As operações dão erro pois o tamanho dos arrays são incompatíveis para o broadcast."
   ]
  },
  {
   "cell_type": "markdown",
   "id": "7cba0b1a",
   "metadata": {},
   "source": [
    "### Questão 8"
   ]
  },
  {
   "cell_type": "code",
   "execution_count": 78,
   "id": "77370ba7",
   "metadata": {},
   "outputs": [
    {
     "data": {
      "text/plain": [
       "array([[0, 1, 2],\n",
       "       [3, 4, 5],\n",
       "       [6, 7, 8]])"
      ]
     },
     "execution_count": 78,
     "metadata": {},
     "output_type": "execute_result"
    }
   ],
   "source": [
    "np.arange(0,9).reshape(3,3)"
   ]
  },
  {
   "cell_type": "markdown",
   "id": "a6d55cc4",
   "metadata": {},
   "source": [
    "### Questão 9"
   ]
  },
  {
   "cell_type": "code",
   "execution_count": 80,
   "id": "e07dc0f6",
   "metadata": {},
   "outputs": [
    {
     "data": {
      "text/plain": [
       "array([[[0.92758755, 0.755848  , 0.92872408],\n",
       "        [0.00491191, 0.53642028, 0.30506893],\n",
       "        [0.51812409, 0.98908041, 0.34684786]],\n",
       "\n",
       "       [[0.01235758, 0.61952686, 0.19287845],\n",
       "        [0.33890224, 0.70223891, 0.3075486 ],\n",
       "        [0.69344268, 0.97788982, 0.55913663]],\n",
       "\n",
       "       [[0.26894206, 0.38660514, 0.50848919],\n",
       "        [0.20091496, 0.62532388, 0.41242049],\n",
       "        [0.22290889, 0.38354372, 0.21428086]]])"
      ]
     },
     "execution_count": 80,
     "metadata": {},
     "output_type": "execute_result"
    }
   ],
   "source": [
    "np.random.rand(3,3,3)"
   ]
  },
  {
   "cell_type": "markdown",
   "id": "93cce44b",
   "metadata": {},
   "source": [
    "### Questão 10"
   ]
  },
  {
   "cell_type": "code",
   "execution_count": 10,
   "id": "d2ba0cef",
   "metadata": {},
   "outputs": [],
   "source": [
    "from matplotlib import pyplot as plt"
   ]
  },
  {
   "cell_type": "code",
   "execution_count": 12,
   "id": "f8a0e844",
   "metadata": {},
   "outputs": [
    {
     "data": {
      "image/png": "[encoded data removed]",
      "text/plain": [
       "<Figure size 432x288 with 1 Axes>"
      ]
     },
     "metadata": {
      "needs_background": "light"
     },
     "output_type": "display_data"
    }
   ],
   "source": [
    "x = np.arange(0,4*np.pi,0.1)   # start,stop,step\n",
    "y = np.sin(x)\n",
    "plt.title(\"Matplotlib demo\") \n",
    "plt.xlabel(\"x axis caption\") \n",
    "plt.ylabel(\"y axis caption\") \n",
    "plt.plot(x,y) \n",
    "plt.show()"
   ]
  }
 ],
 "metadata": {
  "kernelspec": {
   "display_name": "Python 3 (ipykernel)",
   "language": "python",
   "name": "python3"
  },
  "language_info": {
   "codemirror_mode": {
    "name": "ipython",
    "version": 3
   },
   "file_extension": ".py",
   "mimetype": "text/x-python",
   "name": "python",
   "nbconvert_exporter": "python",
   "pygments_lexer": "ipython3",
   "version": "3.9.7"
  }
 },
 "nbformat": 4,
 "nbformat_minor": 5
}
