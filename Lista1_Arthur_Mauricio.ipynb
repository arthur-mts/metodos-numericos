{
 "cells": [
  {
   "cell_type": "markdown",
   "id": "fe107768",
   "metadata": {},
   "source": [
    "<div class=\\\"alert alert-block alert-info\\\">\n",
    "<center>ESTATÍSTICA APLICADA</center>\n",
    "<center>LISTA 1</center>\n",
    "<center>ALUNO: ARTHUR MAURICIO</center>\n",
    "</div>"
   ]
  },
  {
   "cell_type": "markdown",
   "id": "654f3534",
   "metadata": {},
   "source": [
    "### Questão 1"
   ]
  },
  {
   "cell_type": "code",
   "execution_count": 2,
   "id": "23b05848",
   "metadata": {},
   "outputs": [],
   "source": [
    "import numpy as np"
   ]
  },
  {
   "cell_type": "code",
   "execution_count": 3,
   "id": "dceb0ec3",
   "metadata": {},
   "outputs": [
    {
     "name": "stdout",
     "output_type": "stream",
     "text": [
      "1.22.2\n"
     ]
    }
   ],
   "source": [
    "print(np.__version__)"
   ]
  },
  {
   "cell_type": "markdown",
   "id": "8cde0090",
   "metadata": {},
   "source": [
    "### Questão 2"
   ]
  },
  {
   "cell_type": "markdown",
   "id": "f2febd5d",
   "metadata": {},
   "source": [
    "- Broadcasting: O broadcasting é a forma que o numpy usa para tratar operações aritimétricas com vétores (ou não vétores) de tamanhos distintos. Por exemplo, multiplicar um vetor de tamanho 10 de números reais com um valor X irá multiplicar cada item do vetor por esse x.\n",
    "- Vetorização: A vetorização é a forma que o numpy usa de tornar operações com listas mais rápidas do que usando a sintaxe usual de listas do python (for loops etc). Dessa forma é bem mais fácil trabalhar com matrizes e vetores utilizando o ndarray"
   ]
  },
  {
   "cell_type": "markdown",
   "id": "88a8d6c2",
   "metadata": {},
   "source": [
    "### Questão 3"
   ]
  },
  {
   "cell_type": "markdown",
   "id": "63aa4946",
   "metadata": {},
   "source": [
    "- Dicionario: É um dicionario chave:valor, onde suas chaves podem ser de qualquer tipo e seu valor também. A indexação é feita comparando o valor com as chaves do dicionário. A sintáxe é a mesma das listas"
   ]
  },
  {
   "cell_type": "code",
   "execution_count": 4,
   "id": "5fcad09f",
   "metadata": {},
   "outputs": [
    {
     "name": "stdout",
     "output_type": "stream",
     "text": [
      "{'foo': 'bar', False: True, 2: [1, 2, 3]}\n",
      "True\n"
     ]
    }
   ],
   "source": [
    "a = dict()\n",
    "a[\"foo\"] = \"bar\"\n",
    "a[False] = True\n",
    "a[2] = [1,2,3]\n",
    "print(a)\n",
    "print(a[False])"
   ]
  },
  {
   "cell_type": "markdown",
   "id": "4fe6e918",
   "metadata": {},
   "source": [
    "- Lista: Estrutura básica de coleção do Python, nela podemos guardar um conjunto de dados de qualquer tipo (inclusive dados de tipos diferentes numa mesma lista). É indexada por posições da seguinte forma: lista[0]"
   ]
  },
  {
   "cell_type": "code",
   "execution_count": 5,
   "id": "776c3cf9",
   "metadata": {},
   "outputs": [
    {
     "name": "stdout",
     "output_type": "stream",
     "text": [
      "[1, 2, 3, '4', 5.123]\n",
      "3\n"
     ]
    }
   ],
   "source": [
    "lista = [1,2,3,\"4\",5.123]\n",
    "print(lista)\n",
    "print(lista[2])"
   ]
  },
  {
   "cell_type": "markdown",
   "id": "4bcf1d7d",
   "metadata": {},
   "source": [
    "- Array Numpy: o método np.array() cria um objeto Array, que funciona básicamente como uma lista comum porém com diversos métodos e facilidades para trabalhar com grandes conjuntos de dados. O Array Numpy só pode ter um tipo de dados e tem métodos como sum(), std() etc."
   ]
  },
  {
   "cell_type": "code",
   "execution_count": 6,
   "id": "c397888f",
   "metadata": {},
   "outputs": [
    {
     "name": "stdout",
     "output_type": "stream",
     "text": [
      "[1.    2.    3.    4.    5.213]\n",
      "15.213000000000001\n"
     ]
    }
   ],
   "source": [
    "np_arr = np.array([1,2,3,4,5.213])\n",
    "print(np_arr)\n",
    "print(np_arr.sum())"
   ]
  },
  {
   "cell_type": "markdown",
   "id": "1a6dcfdf",
   "metadata": {},
   "source": [
    "### Questão 4"
   ]
  },
  {
   "cell_type": "code",
   "execution_count": 7,
   "id": "a6672bc6",
   "metadata": {},
   "outputs": [
    {
     "name": "stdout",
     "output_type": "stream",
     "text": [
      "[[1, 2, 3, 4, 5], [6, 7, 8, 9, 10], [11, 12, 13, 14, 15]]\n"
     ]
    },
    {
     "data": {
      "text/plain": "array([[ 1,  6, 11],\n       [ 2,  7, 12],\n       [ 3,  8, 13],\n       [ 4,  9, 14],\n       [ 5, 10, 15]])"
     },
     "execution_count": 7,
     "metadata": {},
     "output_type": "execute_result"
    }
   ],
   "source": [
    "base = [[j for j in range((i-1)*5 + 1, i*5 + 1)] for i in range(1,4)]\n",
    "print(base)\n",
    "np.array(base).transpose()"
   ]
  },
  {
   "cell_type": "markdown",
   "id": "b837f986",
   "metadata": {},
   "source": [
    "### Questão 5"
   ]
  },
  {
   "cell_type": "code",
   "execution_count": 8,
   "id": "19185ca4",
   "metadata": {},
   "outputs": [
    {
     "data": {
      "text/plain": "array([ 1.        ,  3.11111111,  5.22222222,  7.33333333,  9.44444444,\n       11.55555556, 13.66666667, 15.77777778, 17.88888889, 20.        ])"
     },
     "execution_count": 8,
     "metadata": {},
     "output_type": "execute_result"
    }
   ],
   "source": [
    "## a\n",
    "np.linspace(1,20,10)"
   ]
  },
  {
   "cell_type": "code",
   "execution_count": 9,
   "id": "8f067fbd",
   "metadata": {},
   "outputs": [
    {
     "data": {
      "text/plain": "array([ 1,  3,  5,  7,  9, 11, 13, 15, 17, 19])"
     },
     "execution_count": 9,
     "metadata": {},
     "output_type": "execute_result"
    }
   ],
   "source": [
    "## b\n",
    "np.arange(1,20,2)"
   ]
  },
  {
   "cell_type": "code",
   "execution_count": 10,
   "id": "5ec63596",
   "metadata": {},
   "outputs": [
    {
     "data": {
      "text/plain": "array([[1., 0., 0.],\n       [0., 2., 0.],\n       [0., 0., 3.]])"
     },
     "execution_count": 10,
     "metadata": {},
     "output_type": "execute_result"
    }
   ],
   "source": [
    "## c\n",
    "c = np.zeros((3,3))\n",
    "np.fill_diagonal(c,[1,2,3])\n",
    "c"
   ]
  },
  {
   "cell_type": "markdown",
   "id": "6ddfeacf",
   "metadata": {},
   "source": [
    "### Questão 6"
   ]
  },
  {
   "cell_type": "code",
   "execution_count": 11,
   "id": "59a25e36",
   "metadata": {},
   "outputs": [
    {
     "data": {
      "text/plain": "array(['-2', '4.0', '7', '9'], dtype='<U32')"
     },
     "execution_count": 11,
     "metadata": {},
     "output_type": "execute_result"
    }
   ],
   "source": [
    "l = [-2,4.,'7',9]\n",
    "np.array(l)"
   ]
  },
  {
   "cell_type": "markdown",
   "id": "d5898b32",
   "metadata": {},
   "source": [
    "Essa mudança ocorre pois o numpy busca por um tipo em comum para todos os items no vetor, já que ele permite apenas um tipo de dado em sua especificação. Nesse caso o tipo de dado em que todos os items podem ser transformados é uma string.   \n",
    "\n",
    "Porém, se mudarmos o '7' para inteiro, o tipo de dados em comum para que todos podem ser transformados é float (por conta do -2.4)\n",
    "."
   ]
  },
  {
   "cell_type": "code",
   "execution_count": 12,
   "id": "6fd8d38c",
   "metadata": {},
   "outputs": [
    {
     "data": {
      "text/plain": "array([-2.,  4.,  7.,  9.])"
     },
     "execution_count": 12,
     "metadata": {},
     "output_type": "execute_result"
    }
   ],
   "source": [
    "np.array([-2,4.,7,9])"
   ]
  },
  {
   "cell_type": "markdown",
   "id": "89c8a474",
   "metadata": {},
   "source": [
    "### Questão 7"
   ]
  },
  {
   "cell_type": "code",
   "execution_count": 13,
   "id": "13a00762",
   "metadata": {},
   "outputs": [],
   "source": [
    "A = np.arange(10,49)\n",
    "B = np.arange(1,39)\n",
    "C = np.arange(10,20)"
   ]
  },
  {
   "cell_type": "code",
   "execution_count": 14,
   "id": "9abe51dd",
   "metadata": {},
   "outputs": [
    {
     "ename": "ValueError",
     "evalue": "operands could not be broadcast together with shapes (39,) (38,) ",
     "output_type": "error",
     "traceback": [
      "\u001B[1;31m---------------------------------------------------------------------------\u001B[0m",
      "\u001B[1;31mValueError\u001B[0m                                Traceback (most recent call last)",
      "Input \u001B[1;32mIn [14]\u001B[0m, in \u001B[0;36m<cell line: 2>\u001B[1;34m()\u001B[0m\n\u001B[0;32m      1\u001B[0m \u001B[38;5;66;03m## a\u001B[39;00m\n\u001B[1;32m----> 2\u001B[0m A \u001B[38;5;241m+\u001B[39m B\n",
      "\u001B[1;31mValueError\u001B[0m: operands could not be broadcast together with shapes (39,) (38,) "
     ]
    }
   ],
   "source": [
    "## a\n",
    "A + B"
   ]
  },
  {
   "cell_type": "code",
   "execution_count": null,
   "id": "5375eeef",
   "metadata": {},
   "outputs": [],
   "source": [
    "A * B"
   ]
  },
  {
   "cell_type": "code",
   "execution_count": null,
   "id": "d65e6157",
   "metadata": {
    "scrolled": false
   },
   "outputs": [],
   "source": [
    "A + C"
   ]
  },
  {
   "cell_type": "code",
   "execution_count": null,
   "id": "c7b53a43",
   "metadata": {},
   "outputs": [],
   "source": [
    "B*C"
   ]
  },
  {
   "cell_type": "markdown",
   "id": "b1ee3e64",
   "metadata": {},
   "source": [
    "As operações dão erro pois o tamanho dos arrays são incompatíveis para o broadcast."
   ]
  },
  {
   "cell_type": "markdown",
   "id": "9e023a9e",
   "metadata": {},
   "source": [
    "Para dar certo, precisariamos normalizar os três arrays e deixalos com o mesmo tamanho. Vamos deixa-los com tamanho 49."
   ]
  },
  {
   "cell_type": "code",
   "execution_count": null,
   "id": "7c6cb24a",
   "metadata": {},
   "outputs": [],
   "source": [
    "A.resize(49)\n",
    "B.resize(49)\n",
    "C.resize(49)"
   ]
  },
  {
   "cell_type": "code",
   "execution_count": null,
   "id": "4d55c86a",
   "metadata": {},
   "outputs": [],
   "source": [
    "A+B"
   ]
  },
  {
   "cell_type": "code",
   "execution_count": null,
   "id": "e97199a5",
   "metadata": {},
   "outputs": [],
   "source": [
    "A*B"
   ]
  },
  {
   "cell_type": "code",
   "execution_count": null,
   "id": "76d716f4",
   "metadata": {},
   "outputs": [],
   "source": [
    "A+C"
   ]
  },
  {
   "cell_type": "code",
   "execution_count": null,
   "id": "288b2911",
   "metadata": {},
   "outputs": [],
   "source": [
    "B*C"
   ]
  },
  {
   "cell_type": "markdown",
   "id": "7cba0b1a",
   "metadata": {},
   "source": [
    "### Questão 8"
   ]
  },
  {
   "cell_type": "code",
   "execution_count": null,
   "id": "77370ba7",
   "metadata": {},
   "outputs": [],
   "source": [
    "np.arange(0,9).reshape(3,3)"
   ]
  },
  {
   "cell_type": "markdown",
   "id": "a6d55cc4",
   "metadata": {},
   "source": [
    "### Questão 9"
   ]
  },
  {
   "cell_type": "code",
   "execution_count": null,
   "id": "e07dc0f6",
   "metadata": {},
   "outputs": [],
   "source": [
    "np.random.rand(3,3,3)"
   ]
  },
  {
   "cell_type": "markdown",
   "id": "93cce44b",
   "metadata": {},
   "source": [
    "### Questão 10"
   ]
  },
  {
   "cell_type": "code",
   "execution_count": null,
   "id": "d2ba0cef",
   "metadata": {},
   "outputs": [],
   "source": [
    "from matplotlib import pyplot as plt"
   ]
  },
  {
   "cell_type": "code",
   "execution_count": null,
   "id": "b96d2747",
   "metadata": {},
   "outputs": [],
   "source": [
    "x = np.arange(0,4*np.pi,0.01)\n",
    "y = np.sin(x)\n",
    "plt.title(\"Grafico do Seno\") \n",
    "plt.xlabel(\"Eixo x\") \n",
    "plt.ylabel(\"Eixo y\") \n",
    "plt.plot(x,y) \n",
    "plt.show()"
   ]
  }
 ],
 "metadata": {
  "kernelspec": {
   "display_name": "Python 3 (ipykernel)",
   "language": "python",
   "name": "python3"
  },
  "language_info": {
   "codemirror_mode": {
    "name": "ipython",
    "version": 3
   },
   "file_extension": ".py",
   "mimetype": "text/x-python",
   "name": "python",
   "nbconvert_exporter": "python",
   "pygments_lexer": "ipython3",
   "version": "3.9.7"
  }
 },
 "nbformat": 4,
 "nbformat_minor": 5
}