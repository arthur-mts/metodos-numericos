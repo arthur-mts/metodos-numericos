{
 "cells": [
  {
   "cell_type": "code",
   "execution_count": 323,
   "outputs": [],
   "source": [
    "import numpy as np\n",
    "import scipy.linalg as sla"
   ],
   "metadata": {
    "collapsed": false,
    "pycharm": {
     "name": "#%%\n"
    }
   }
  },
  {
   "cell_type": "markdown",
   "metadata": {
    "collapsed": true,
    "pycharm": {
     "name": "#%% md\n"
    }
   },
   "source": [
    "Aluno: Arthur Mauricio Thomaz"
   ],
   "outputs": []
  },
  {
   "cell_type": "code",
   "execution_count": 324,
   "outputs": [],
   "source": [
    "def res_gaussiana_pivot(A: np.ndarray,B:np.ndarray):\n",
    "\n",
    "    def sist_lin_tri_sup(A, b):\n",
    "        n = len(b)\n",
    "        x = np.empty(n)\n",
    "        x[-1] = b[-1] / A[-1, -1]\n",
    "        for i in range(n - 2, -1, -1):\n",
    "            x[i] = (b[i] - np.sum(A[i, i + 1:] * x[i + 1:])) / A[i, i]\n",
    "        return x\n",
    "\n",
    "    def linha_com_maior_pivo(_a_b, l, c):\n",
    "        mod_pivos = np.abs(_a_b[l:, c + 1])\n",
    "        pivo_idx = mod_pivos.argmax()\n",
    "        return pivo_idx + 1\n",
    "\n",
    "    def escalona(_a_b):\n",
    "        n = len(A)\n",
    "        for c in range(n-1):\n",
    "            for l in range(c+1,n):\n",
    "                _a_b[l] = _a_b[l] - (_a_b[l,c]/_a_b[c,c])*_a_b[c]\n",
    "        return _a_b[:,:-1], _a_b[:,-1]\n",
    "\n",
    "\n",
    "    def swap_linhas(_a_b, l_1, l_2):\n",
    "        _a_b[[l_1, l_2]] = _a_b[[l_2, l_1]]\n",
    "\n",
    "    ## Calculando melhores pivvos locais\n",
    "\n",
    "    A_B = np.c_[A,B]\n",
    "    co = np.copy(A_B)\n",
    "    for col in range(A_B.shape[0] - 1):\n",
    "        idx_pivo_c = linha_com_maior_pivo(A_B, col, col)\n",
    "        if col != idx_pivo_c:\n",
    "            swap_linhas(A_B, col, idx_pivo_c)\n",
    "    # swap_linhas(A_B, 1, 0)\n",
    "\n",
    "    print(\"Matriz reorganizada:\")\n",
    "    print(A_B)\n",
    "\n",
    "    # Calculando a matriz escalonada\n",
    "    A_e, B_e = escalona(A_B)\n",
    "    print(\"Matriz escalonada:\")\n",
    "    print(np.c_[A_e, B_e])\n",
    "\n",
    "    # Calculando o resultado a partir da matriz triangular superior\n",
    "    return sist_lin_tri_sup(A_e, B_e)"
   ],
   "metadata": {
    "collapsed": false,
    "pycharm": {
     "name": "#%%\n"
    }
   }
  },
  {
   "cell_type": "markdown",
   "source": [
    "### Letra A"
   ],
   "metadata": {
    "collapsed": false,
    "pycharm": {
     "name": "#%% md\n"
    }
   }
  },
  {
   "cell_type": "code",
   "execution_count": 325,
   "outputs": [],
   "source": [
    "A = np.array([[1,1,1], [4,4,2],[2,1,-1]])\n",
    "B = np.array([1,2,0])"
   ],
   "metadata": {
    "collapsed": false,
    "pycharm": {
     "name": "#%%\n"
    }
   }
  },
  {
   "cell_type": "code",
   "execution_count": 326,
   "outputs": [
    {
     "data": {
      "text/plain": "array([[ 1,  1,  1,  1],\n       [ 4,  4,  2,  2],\n       [ 2,  1, -1,  0]])"
     },
     "execution_count": 326,
     "metadata": {},
     "output_type": "execute_result"
    }
   ],
   "source": [
    "np.c_[A,B]"
   ],
   "metadata": {
    "collapsed": false,
    "pycharm": {
     "name": "#%%\n"
    }
   }
  },
  {
   "cell_type": "code",
   "execution_count": 327,
   "outputs": [
    {
     "name": "stdout",
     "output_type": "stream",
     "text": [
      "Matriz reorganizada:\n",
      "[[ 2  1 -1  0]\n",
      " [ 4  4  2  2]\n",
      " [ 1  1  1  1]]\n",
      "Matriz escalonada:\n",
      "[[ 2  1 -1  0]\n",
      " [ 0  2  4  2]\n",
      " [ 0  0  1  1]]\n"
     ]
    },
    {
     "data": {
      "text/plain": "array([ 1., -1.,  1.])"
     },
     "execution_count": 327,
     "metadata": {},
     "output_type": "execute_result"
    }
   ],
   "source": [
    "resultado_a = res_gaussiana_pivot(A,B)\n",
    "resultado_a"
   ],
   "metadata": {
    "collapsed": false,
    "pycharm": {
     "name": "#%%\n"
    }
   }
  },
  {
   "cell_type": "markdown",
   "source": [
    "Comparando com o resultado da biblioteca scipy:"
   ],
   "metadata": {
    "collapsed": false,
    "pycharm": {
     "name": "#%% md\n"
    }
   }
  },
  {
   "cell_type": "code",
   "execution_count": 328,
   "outputs": [
    {
     "data": {
      "text/plain": "array([ 1., -1.,  1.])"
     },
     "execution_count": 328,
     "metadata": {},
     "output_type": "execute_result"
    }
   ],
   "source": [
    "sla.solve(A,B)"
   ],
   "metadata": {
    "collapsed": false,
    "pycharm": {
     "name": "#%%\n"
    }
   }
  },
  {
   "cell_type": "code",
   "execution_count": 329,
   "outputs": [
    {
     "data": {
      "text/plain": "array([ True,  True,  True])"
     },
     "execution_count": 329,
     "metadata": {},
     "output_type": "execute_result"
    }
   ],
   "source": [
    "resultado_a == sla.solve(A,B)"
   ],
   "metadata": {
    "collapsed": false,
    "pycharm": {
     "name": "#%%\n"
    }
   }
  },
  {
   "cell_type": "markdown",
   "source": [
    "### Letra B"
   ],
   "metadata": {
    "collapsed": false,
    "pycharm": {
     "name": "#%% md\n"
    }
   }
  },
  {
   "cell_type": "code",
   "execution_count": 330,
   "outputs": [],
   "source": [
    "A = np.array([[7,-7,1],[-3,3,2],[7,7,-72]])\n",
    "B = np.array([1,2,7])"
   ],
   "metadata": {
    "collapsed": false,
    "pycharm": {
     "name": "#%%\n"
    }
   }
  },
  {
   "cell_type": "code",
   "execution_count": 331,
   "outputs": [
    {
     "data": {
      "text/plain": "array([[  7,  -7,   1,   1],\n       [ -3,   3,   2,   2],\n       [  7,   7, -72,   7]])"
     },
     "execution_count": 331,
     "metadata": {},
     "output_type": "execute_result"
    }
   ],
   "source": [
    "np.c_[A,B]"
   ],
   "metadata": {
    "collapsed": false,
    "pycharm": {
     "name": "#%%\n"
    }
   }
  },
  {
   "cell_type": "code",
   "execution_count": 332,
   "outputs": [
    {
     "name": "stdout",
     "output_type": "stream",
     "text": [
      "Matriz reorganizada:\n",
      "[[ -3   3   2   2]\n",
      " [  7   7 -72   7]\n",
      " [  7  -7   1   1]]\n",
      "Matriz escalonada:\n",
      "[[ -3   3   2   2]\n",
      " [  0  14 -67  11]\n",
      " [  0   0   5   5]]\n"
     ]
    },
    {
     "data": {
      "text/plain": "array([5.57142857, 5.57142857, 1.        ])"
     },
     "execution_count": 332,
     "metadata": {},
     "output_type": "execute_result"
    }
   ],
   "source": [
    "resultado_b = res_gaussiana_pivot(A,B)\n",
    "resultado_b"
   ],
   "metadata": {
    "collapsed": false,
    "pycharm": {
     "name": "#%%\n"
    }
   }
  },
  {
   "cell_type": "markdown",
   "source": [
    "Comparando com o resultado da biblioteca scipy:"
   ],
   "metadata": {
    "collapsed": false,
    "pycharm": {
     "name": "#%% md\n"
    }
   }
  },
  {
   "cell_type": "code",
   "execution_count": 333,
   "outputs": [
    {
     "data": {
      "text/plain": "array([5.64285714, 5.64285714, 1.        ])"
     },
     "execution_count": 333,
     "metadata": {},
     "output_type": "execute_result"
    }
   ],
   "source": [
    "sla.solve(A,B)"
   ],
   "metadata": {
    "collapsed": false,
    "pycharm": {
     "name": "#%%\n"
    }
   }
  },
  {
   "cell_type": "code",
   "execution_count": 334,
   "outputs": [
    {
     "data": {
      "text/plain": "array([False, False,  True])"
     },
     "execution_count": 334,
     "metadata": {},
     "output_type": "execute_result"
    }
   ],
   "source": [
    "sla.solve(A,B) == resultado_b"
   ],
   "metadata": {
    "collapsed": false,
    "pycharm": {
     "name": "#%%\n"
    }
   }
  },
  {
   "cell_type": "markdown",
   "source": [
    "Houve uma diferença minima nos valores do resultado, mas vamos considerar uma apromixação consideravel do resultado da biblioteca."
   ],
   "metadata": {
    "collapsed": false,
    "pycharm": {
     "name": "#%% md\n"
    }
   }
  },
  {
   "cell_type": "markdown",
   "source": [
    "### Letra C"
   ],
   "metadata": {
    "collapsed": false,
    "pycharm": {
     "name": "#%% md\n"
    }
   }
  },
  {
   "cell_type": "code",
   "execution_count": 335,
   "outputs": [],
   "source": [
    "A = np.array([[1,2,3,4],[2,2,3,4],[3,3,3,4],[4,4,4,4]])\n",
    "B = np.array([20,22,22,24])"
   ],
   "metadata": {
    "collapsed": false,
    "pycharm": {
     "name": "#%%\n"
    }
   }
  },
  {
   "cell_type": "code",
   "execution_count": 336,
   "outputs": [
    {
     "data": {
      "text/plain": "array([[ 1,  2,  3,  4, 20],\n       [ 2,  2,  3,  4, 22],\n       [ 3,  3,  3,  4, 22],\n       [ 4,  4,  4,  4, 24]])"
     },
     "execution_count": 336,
     "metadata": {},
     "output_type": "execute_result"
    }
   ],
   "source": [
    "np.c_[A,B]"
   ],
   "metadata": {
    "collapsed": false,
    "pycharm": {
     "name": "#%%\n"
    }
   }
  },
  {
   "cell_type": "code",
   "execution_count": 337,
   "outputs": [
    {
     "ename": "IndexError",
     "evalue": "index 4 is out of bounds for axis 0 with size 4",
     "output_type": "error",
     "traceback": [
      "\u001B[0;31m---------------------------------------------------------------------------\u001B[0m",
      "\u001B[0;31mIndexError\u001B[0m                                Traceback (most recent call last)",
      "\u001B[0;32m/tmp/ipykernel_12715/1836822757.py\u001B[0m in \u001B[0;36m<module>\u001B[0;34m\u001B[0m\n\u001B[0;32m----> 1\u001B[0;31m \u001B[0mresultado_c\u001B[0m \u001B[0;34m=\u001B[0m \u001B[0mres_gaussiana_pivot\u001B[0m\u001B[0;34m(\u001B[0m\u001B[0mA\u001B[0m\u001B[0;34m,\u001B[0m\u001B[0mB\u001B[0m\u001B[0;34m)\u001B[0m\u001B[0;34m\u001B[0m\u001B[0;34m\u001B[0m\u001B[0m\n\u001B[0m\u001B[1;32m      2\u001B[0m \u001B[0mresultado_c\u001B[0m\u001B[0;34m\u001B[0m\u001B[0;34m\u001B[0m\u001B[0m\n",
      "\u001B[0;32m/tmp/ipykernel_12715/746435443.py\u001B[0m in \u001B[0;36mres_gaussiana_pivot\u001B[0;34m(A, B)\u001B[0m\n\u001B[1;32m     32\u001B[0m         \u001B[0midx_pivo_c\u001B[0m \u001B[0;34m=\u001B[0m \u001B[0mlinha_com_maior_pivo\u001B[0m\u001B[0;34m(\u001B[0m\u001B[0mA_B\u001B[0m\u001B[0;34m,\u001B[0m \u001B[0mcol\u001B[0m\u001B[0;34m,\u001B[0m \u001B[0mcol\u001B[0m\u001B[0;34m)\u001B[0m\u001B[0;34m\u001B[0m\u001B[0;34m\u001B[0m\u001B[0m\n\u001B[1;32m     33\u001B[0m         \u001B[0;32mif\u001B[0m \u001B[0mcol\u001B[0m \u001B[0;34m!=\u001B[0m \u001B[0midx_pivo_c\u001B[0m\u001B[0;34m:\u001B[0m\u001B[0;34m\u001B[0m\u001B[0;34m\u001B[0m\u001B[0m\n\u001B[0;32m---> 34\u001B[0;31m             \u001B[0mswap_linhas\u001B[0m\u001B[0;34m(\u001B[0m\u001B[0mA_B\u001B[0m\u001B[0;34m,\u001B[0m \u001B[0mcol\u001B[0m\u001B[0;34m,\u001B[0m \u001B[0midx_pivo_c\u001B[0m\u001B[0;34m)\u001B[0m\u001B[0;34m\u001B[0m\u001B[0;34m\u001B[0m\u001B[0m\n\u001B[0m\u001B[1;32m     35\u001B[0m     \u001B[0;31m# swap_linhas(A_B, 1, 0)\u001B[0m\u001B[0;34m\u001B[0m\u001B[0;34m\u001B[0m\u001B[0m\n\u001B[1;32m     36\u001B[0m \u001B[0;34m\u001B[0m\u001B[0m\n",
      "\u001B[0;32m/tmp/ipykernel_12715/746435443.py\u001B[0m in \u001B[0;36mswap_linhas\u001B[0;34m(_a_b, l_1, l_2)\u001B[0m\n\u001B[1;32m     23\u001B[0m \u001B[0;34m\u001B[0m\u001B[0m\n\u001B[1;32m     24\u001B[0m     \u001B[0;32mdef\u001B[0m \u001B[0mswap_linhas\u001B[0m\u001B[0;34m(\u001B[0m\u001B[0m_a_b\u001B[0m\u001B[0;34m,\u001B[0m \u001B[0ml_1\u001B[0m\u001B[0;34m,\u001B[0m \u001B[0ml_2\u001B[0m\u001B[0;34m)\u001B[0m\u001B[0;34m:\u001B[0m\u001B[0;34m\u001B[0m\u001B[0;34m\u001B[0m\u001B[0m\n\u001B[0;32m---> 25\u001B[0;31m         \u001B[0m_a_b\u001B[0m\u001B[0;34m[\u001B[0m\u001B[0;34m[\u001B[0m\u001B[0ml_1\u001B[0m\u001B[0;34m,\u001B[0m \u001B[0ml_2\u001B[0m\u001B[0;34m]\u001B[0m\u001B[0;34m]\u001B[0m \u001B[0;34m=\u001B[0m \u001B[0m_a_b\u001B[0m\u001B[0;34m[\u001B[0m\u001B[0;34m[\u001B[0m\u001B[0ml_2\u001B[0m\u001B[0;34m,\u001B[0m \u001B[0ml_1\u001B[0m\u001B[0;34m]\u001B[0m\u001B[0;34m]\u001B[0m\u001B[0;34m\u001B[0m\u001B[0;34m\u001B[0m\u001B[0m\n\u001B[0m\u001B[1;32m     26\u001B[0m \u001B[0;34m\u001B[0m\u001B[0m\n\u001B[1;32m     27\u001B[0m     \u001B[0;31m## Calculando melhores pivvos locais\u001B[0m\u001B[0;34m\u001B[0m\u001B[0;34m\u001B[0m\u001B[0m\n",
      "\u001B[0;31mIndexError\u001B[0m: index 4 is out of bounds for axis 0 with size 4"
     ]
    }
   ],
   "source": [
    "resultado_c = res_gaussiana_pivot(A,B)\n",
    "resultado_c"
   ],
   "metadata": {
    "collapsed": false,
    "pycharm": {
     "name": "#%%\n"
    }
   }
  }
 ],
 "metadata": {
  "kernelspec": {
   "display_name": "Python 3",
   "language": "python",
   "name": "python3"
  },
  "language_info": {
   "codemirror_mode": {
    "name": "ipython",
    "version": 2
   },
   "file_extension": ".py",
   "mimetype": "text/x-python",
   "name": "python",
   "nbconvert_exporter": "python",
   "pygments_lexer": "ipython2",
   "version": "2.7.6"
  }
 },
 "nbformat": 4,
 "nbformat_minor": 0
}