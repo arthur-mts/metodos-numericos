{
 "cells": [
  {
   "cell_type": "markdown",
   "source": [
    "## Lista: 6a\n",
    "Aluno: Arthur Mauricio"
   ],
   "metadata": {
    "collapsed": false
   }
  },
  {
   "cell_type": "code",
   "execution_count": 85,
   "metadata": {
    "collapsed": true
   },
   "outputs": [],
   "source": [
    "import numpy as np\n",
    "import math\n",
    "import sys\n",
    "import matplotlib.pyplot as plt"
   ]
  },
  {
   "cell_type": "code",
   "execution_count": 86,
   "outputs": [],
   "source": [
    "def calc_erro_rel(serie):\n",
    "    erros_aux = []\n",
    "    for j in range(1, serie.size):\n",
    "        erro = np.abs((serie[j-1] - serie[j])/serie[j-1])\n",
    "        erros_aux.append(erro)\n",
    "    return np.array(erros_aux)"
   ],
   "metadata": {
    "collapsed": false,
    "pycharm": {
     "name": "#%%\n"
    }
   }
  },
  {
   "cell_type": "code",
   "execution_count": 87,
   "outputs": [],
   "source": [
    "def calc_erro_real(serie, val):\n",
    "    erros_aux = []\n",
    "    for j in range(serie.size):\n",
    "        erros_aux.append(np.abs(1-(serie[j]/val)))\n",
    "    return np.array(erros_aux)"
   ],
   "metadata": {
    "collapsed": false,
    "pycharm": {
     "name": "#%%\n"
    }
   }
  },
  {
   "cell_type": "markdown",
   "source": [
    "### Questão 1"
   ],
   "metadata": {
    "collapsed": false,
    "pycharm": {
     "name": "#%% md\n"
    }
   }
  },
  {
   "cell_type": "code",
   "execution_count": 88,
   "outputs": [],
   "source": [
    "def bissecao(a,b,f, erro_tol = 1e-10, max_it = None):\n",
    "    i,a_i,b_i = 0,a,b\n",
    "    erro, x_ant, x = 1, a, a\n",
    "    if((np.sign(f(a))*np.sign(f(b))) != -1):\n",
    "        raise Exception(\"Não existe raiz nesse intervalo\")\n",
    "    else:\n",
    "        while(erro > erro_tol):\n",
    "            x = (a_i+b_i)/2\n",
    "            sign_inf = np.sign(f(a_i))\n",
    "            sign_sup = np.sign(f(x))\n",
    "            if(f(x)==0):\n",
    "                return x\n",
    "            else:\n",
    "                if(sign_inf * sign_sup == -1):\n",
    "                    b_i = x\n",
    "                else:\n",
    "                    a_i = x\n",
    "            i+=1\n",
    "            print(f\"Aproximação nº {i}: {x}\")\n",
    "            erro = np.abs((x - x_ant)/x)\n",
    "            x_ant = x\n",
    "            i+1\n",
    "            if(max_it != None and i == max_it):\n",
    "                print(\"Máximo de iterações atingido\")\n",
    "                return x\n",
    "    return x\n",
    "\n",
    "\n",
    "\n"
   ],
   "metadata": {
    "collapsed": false,
    "pycharm": {
     "name": "#%%\n"
    }
   }
  },
  {
   "cell_type": "code",
   "execution_count": 89,
   "outputs": [],
   "source": [
    "f_1 = lambda x : 2*x"
   ],
   "metadata": {
    "collapsed": false,
    "pycharm": {
     "name": "#%%\n"
    }
   }
  },
  {
   "cell_type": "code",
   "execution_count": 90,
   "outputs": [
    {
     "data": {
      "text/plain": "0.0"
     },
     "execution_count": 90,
     "metadata": {},
     "output_type": "execute_result"
    }
   ],
   "source": [
    "bissecao(-100, 100, f_1)"
   ],
   "metadata": {
    "collapsed": false,
    "pycharm": {
     "name": "#%%\n"
    }
   }
  },
  {
   "cell_type": "markdown",
   "source": [
    "## Questão 2"
   ],
   "metadata": {
    "collapsed": false,
    "pycharm": {
     "name": "#%% md\n"
    }
   }
  },
  {
   "cell_type": "code",
   "execution_count": 91,
   "outputs": [],
   "source": [
    "f = lambda x : -0.5*(math.pow(x, 2)) + 2.5 * x + 4.5"
   ],
   "metadata": {
    "collapsed": false,
    "pycharm": {
     "name": "#%%\n"
    }
   }
  },
  {
   "cell_type": "markdown",
   "source": [
    "Forma gráfica"
   ],
   "metadata": {
    "collapsed": false,
    "pycharm": {
     "name": "#%% md\n"
    }
   }
  },
  {
   "cell_type": "code",
   "execution_count": 92,
   "outputs": [
    {
     "data": {
      "text/plain": "<Figure size 432x288 with 1 Axes>",
      "image/png": "[encoded data removed]"
     },
     "metadata": {
      "needs_background": "light"
     },
     "output_type": "display_data"
    }
   ],
   "source": [
    "axis_x = np.linspace(-10, 10, 1000)\n",
    "plt.title(\"Analise gráfica\")\n",
    "plt.plot(axis_x, [f(i) for i in axis_x])\n",
    "plt.plot([-10,10],[0,0])\n",
    "plt.show()"
   ],
   "metadata": {
    "collapsed": false,
    "pycharm": {
     "name": "#%%\n"
    }
   }
  },
  {
   "cell_type": "markdown",
   "source": [
    "Podemos ver que as raizes estão entre: 0 e -2.5, e entre 5 e 7.5"
   ],
   "metadata": {
    "collapsed": false
   }
  },
  {
   "cell_type": "markdown",
   "source": [
    "Calculando com a fórmula quadrática (utilizando o método np.roots)"
   ],
   "metadata": {
    "collapsed": false,
    "pycharm": {
     "name": "#%% md\n"
    }
   }
  },
  {
   "cell_type": "code",
   "execution_count": 93,
   "outputs": [
    {
     "data": {
      "text/plain": "array([ 6.40512484, -1.40512484])"
     },
     "execution_count": 93,
     "metadata": {},
     "output_type": "execute_result"
    }
   ],
   "source": [
    "np.roots([-0.5,2.5,4.5])"
   ],
   "metadata": {
    "collapsed": false,
    "pycharm": {
     "name": "#%%\n"
    }
   }
  },
  {
   "cell_type": "markdown",
   "source": [
    "Calculando com método da bisseção"
   ],
   "metadata": {
    "collapsed": false,
    "pycharm": {
     "name": "#%% md\n"
    }
   }
  },
  {
   "cell_type": "code",
   "execution_count": 94,
   "outputs": [
    {
     "name": "stdout",
     "output_type": "stream",
     "text": [
      "Aproximação nº 1: 7.5\n",
      "Aproximação nº 2: 6.25\n",
      "Aproximação nº 3: 6.875\n",
      "Máximo de iterações atingido\n"
     ]
    },
    {
     "data": {
      "text/plain": "6.875"
     },
     "execution_count": 94,
     "metadata": {},
     "output_type": "execute_result"
    }
   ],
   "source": [
    "bissecao(a = 5, b = 10, max_it=3, f =f)"
   ],
   "metadata": {
    "collapsed": false,
    "pycharm": {
     "name": "#%%\n"
    }
   }
  },
  {
   "cell_type": "markdown",
   "source": [
    "Erro relativo das iterações"
   ],
   "metadata": {
    "collapsed": false,
    "pycharm": {
     "name": "#%% md\n"
    }
   }
  },
  {
   "cell_type": "code",
   "execution_count": 95,
   "outputs": [
    {
     "data": {
      "text/plain": "array([0.16666667, 0.1       ])"
     },
     "execution_count": 95,
     "metadata": {},
     "output_type": "execute_result"
    }
   ],
   "source": [
    "calc_erro_rel(np.array([7.5,6.25,6.875]))"
   ],
   "metadata": {
    "collapsed": false,
    "pycharm": {
     "name": "#%%\n"
    }
   }
  },
  {
   "cell_type": "markdown",
   "source": [
    "Erro entre as iterações e os valores reais"
   ],
   "metadata": {
    "collapsed": false,
    "pycharm": {
     "name": "#%% md\n"
    }
   }
  },
  {
   "cell_type": "code",
   "execution_count": 98,
   "outputs": [
    {
     "data": {
      "text/plain": "array([0.17093734, 0.02421889, 0.07335922])"
     },
     "execution_count": 98,
     "metadata": {},
     "output_type": "execute_result"
    }
   ],
   "source": [
    "calc_erro_real(np.array([7.5,6.25,6.875]),6.405125)"
   ],
   "metadata": {
    "collapsed": false,
    "pycharm": {
     "name": "#%%\n"
    }
   }
  },
  {
   "cell_type": "markdown",
   "source": [
    "### Questão 3"
   ],
   "metadata": {
    "collapsed": false,
    "pycharm": {
     "name": "#%% md\n"
    }
   }
  },
  {
   "cell_type": "code",
   "execution_count": 99,
   "outputs": [],
   "source": [
    "s = lambda x : np.sin(x)"
   ],
   "metadata": {
    "collapsed": false,
    "pycharm": {
     "name": "#%%\n"
    }
   }
  },
  {
   "cell_type": "markdown",
   "source": [
    "### Questão 4"
   ],
   "metadata": {
    "collapsed": false,
    "pycharm": {
     "name": "#%% md\n"
    }
   }
  },
  {
   "cell_type": "code",
   "execution_count": 102,
   "outputs": [],
   "source": [
    "f = lambda x : 2*math.pow(x,6) - 1.5*math.pow(x,4)+10*x+20\n",
    "d_v = lambda  x: -12*math.pow(x,5) -6*math.pow(x,3)+10"
   ],
   "metadata": {
    "collapsed": false,
    "pycharm": {
     "name": "#%%\n"
    }
   }
  },
  {
   "cell_type": "code",
   "execution_count": 107,
   "outputs": [
    {
     "name": "stdout",
     "output_type": "stream",
     "text": [
      "Aproximação nº 1: 0.5\n",
      "Aproximação nº 2: 0.75\n",
      "Aproximação nº 3: 0.875\n",
      "Aproximação nº 4: 0.8125\n",
      "Aproximação nº 5: 0.84375\n"
     ]
    },
    {
     "data": {
      "text/plain": "0.84375"
     },
     "execution_count": 107,
     "metadata": {},
     "output_type": "execute_result"
    }
   ],
   "source": [
    "bissecao(a = 0, b = 1, f= d_v, erro_tol=0.05)"
   ],
   "metadata": {
    "collapsed": false,
    "pycharm": {
     "name": "#%%\n"
    }
   }
  },
  {
   "cell_type": "markdown",
   "source": [
    "### Questão 5"
   ],
   "metadata": {
    "collapsed": false,
    "pycharm": {
     "name": "#%% md\n"
    }
   }
  },
  {
   "cell_type": "code",
   "execution_count": 108,
   "outputs": [],
   "source": [
    "def regula_falsi(x_i, x_u,f, erro_tol = 1e-10):\n",
    "    if((np.sign(f(x_i))*np.sign(f(x_u))) != -1):\n",
    "        raise Exception(\"Não existe raiz nesse intervalo\")\n",
    "\n",
    "    x = x_u - (f(x_u)*(x_i*x_u))/(f(x_i)-f(x_u))"
   ],
   "metadata": {
    "collapsed": false,
    "pycharm": {
     "name": "#%%\n"
    }
   }
  },
  {
   "cell_type": "code",
   "execution_count": null,
   "outputs": [],
   "source": [
    "def bissecao(a,b,f, erro_tol = 1e-10, max_it = None):\n",
    "    i,a_i,b_i = 0,a,b\n",
    "    erro, x_ant, x = 1, a, a\n",
    "    if((np.sign(f(a))*np.sign(f(b))) != -1):\n",
    "        raise Exception(\"Não existe raiz nesse intervalo\")\n",
    "    else:\n",
    "        while(erro > erro_tol):\n",
    "            x = (a_i+b_i)/2\n",
    "            sign_inf = np.sign(f(a_i))\n",
    "            sign_sup = np.sign(f(x))\n",
    "            if(f(x)==0):\n",
    "                return x\n",
    "            else:\n",
    "                if(sign_inf * sign_sup == -1):\n",
    "                    b_i = x\n",
    "                else:\n",
    "                    a_i = x\n",
    "            i+=1\n",
    "            print(f\"Aproximação nº {i}: {x}\")\n",
    "            erro = np.abs((x - x_ant)/x)\n",
    "            x_ant = x\n",
    "            i+1\n",
    "            if(max_it != None and i == max_it):\n",
    "                print(\"Máximo de iterações atingido\")\n",
    "                return x\n",
    "    return x\n",
    "\n",
    "\n",
    "\n"
   ],
   "metadata": {
    "collapsed": false,
    "pycharm": {
     "name": "#%%\n"
    }
   }
  }
 ],
 "metadata": {
  "kernelspec": {
   "display_name": "Python 3",
   "language": "python",
   "name": "python3"
  },
  "language_info": {
   "codemirror_mode": {
    "name": "ipython",
    "version": 2
   },
   "file_extension": ".py",
   "mimetype": "text/x-python",
   "name": "python",
   "nbconvert_exporter": "python",
   "pygments_lexer": "ipython2",
   "version": "2.7.6"
  }
 },
 "nbformat": 4,
 "nbformat_minor": 0
}