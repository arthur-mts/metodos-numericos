{
 "cells": [
  {
   "cell_type": "markdown",
   "metadata": {},
   "source": [
    "## Lista: 6a\n",
    "Aluno: Arthur Mauricio"
   ]
  },
  {
   "cell_type": "code",
   "execution_count": 64,
   "metadata": {},
   "outputs": [],
   "source": [
    "import numpy as np\n",
    "import math\n",
    "import sys\n",
    "import matplotlib.pyplot as plt"
   ]
  },
  {
   "cell_type": "code",
   "execution_count": 65,
   "metadata": {
    "pycharm": {
     "name": "#%%\n"
    }
   },
   "outputs": [],
   "source": [
    "def calc_erro_rel(serie):\n",
    "    erros_aux = []\n",
    "    for j in range(1, serie.size):\n",
    "        erro = np.abs((serie[j-1] - serie[j])/serie[j-1])\n",
    "        erros_aux.append(erro)\n",
    "    return np.array(erros_aux)"
   ]
  },
  {
   "cell_type": "code",
   "execution_count": 66,
   "metadata": {
    "pycharm": {
     "name": "#%%\n"
    }
   },
   "outputs": [],
   "source": [
    "def calc_erro_real(serie, val):\n",
    "    erros_aux = []\n",
    "    for j in range(serie.size):\n",
    "        erros_aux.append(np.abs(1-(serie[j]/val)))\n",
    "    return np.array(erros_aux)"
   ]
  },
  {
   "cell_type": "markdown",
   "metadata": {
    "pycharm": {
     "name": "#%% md\n"
    }
   },
   "source": [
    "### Questão 1"
   ]
  },
  {
   "cell_type": "code",
   "execution_count": 67,
   "metadata": {
    "pycharm": {
     "name": "#%%\n"
    }
   },
   "outputs": [],
   "source": [
    "def bissecao(a,b,f, erro_tol = 1e-10, max_it = None):\n",
    "    i,a_i,b_i = 0,a,b\n",
    "    erro, x_ant, x = 1, a, a\n",
    "    if (np.sign(f(a)) * np.sign(f(b))) != -1:\n",
    "        raise Exception(\"Não existe raiz nesse intervalo\")\n",
    "    else:\n",
    "        while erro > erro_tol:\n",
    "            x = (a_i+b_i)/2\n",
    "            sign_inf = np.sign(f(a_i))\n",
    "            sign_sup = np.sign(f(x))\n",
    "            if f(x)==0:\n",
    "                return x\n",
    "            else:\n",
    "                if sign_inf * sign_sup == -1:\n",
    "                    b_i = x\n",
    "                else:\n",
    "                    a_i = x\n",
    "            i+=1\n",
    "            print(f\"Aproximação nº {i}: {x}\")\n",
    "            erro = np.abs((x - x_ant)/x)\n",
    "            x_ant = x\n",
    "            i = i+1\n",
    "            if(max_it != None and i == max_it):\n",
    "                print(\"Máximo de iterações atingido\")\n",
    "                return x\n",
    "    return x\n",
    "\n",
    "\n",
    "\n"
   ]
  },
  {
   "cell_type": "code",
   "execution_count": 68,
   "metadata": {
    "pycharm": {
     "name": "#%%\n"
    }
   },
   "outputs": [],
   "source": [
    "f_1 = lambda x : 2*x"
   ]
  },
  {
   "cell_type": "code",
   "execution_count": 69,
   "metadata": {
    "pycharm": {
     "name": "#%%\n"
    }
   },
   "outputs": [
    {
     "data": {
      "text/plain": "0.0"
     },
     "execution_count": 69,
     "metadata": {},
     "output_type": "execute_result"
    }
   ],
   "source": [
    "bissecao(-100, 100, f_1)"
   ]
  },
  {
   "cell_type": "markdown",
   "metadata": {
    "pycharm": {
     "name": "#%% md\n"
    }
   },
   "source": [
    "### Questão 2"
   ]
  },
  {
   "cell_type": "code",
   "execution_count": 70,
   "metadata": {
    "pycharm": {
     "name": "#%%\n"
    }
   },
   "outputs": [],
   "source": [
    "f = lambda x : -0.5*(math.pow(x, 2)) + 2.5 * x + 4.5"
   ]
  },
  {
   "cell_type": "markdown",
   "metadata": {
    "pycharm": {
     "name": "#%% md\n"
    }
   },
   "source": [
    "Forma gráfica"
   ]
  },
  {
   "cell_type": "code",
   "execution_count": 71,
   "metadata": {
    "pycharm": {
     "name": "#%%\n"
    }
   },
   "outputs": [
    {
     "data": {
      "text/plain": "<Figure size 432x288 with 1 Axes>",
      "image/png": "[encoded data removed]"
     },
     "metadata": {
      "needs_background": "light"
     },
     "output_type": "display_data"
    }
   ],
   "source": [
    "axis_x = np.linspace(-10, 10, 1000)\n",
    "plt.title(\"Analise gráfica\")\n",
    "plt.plot(axis_x, [f(i) for i in axis_x])\n",
    "plt.plot([-10,10],[0,0])\n",
    "plt.show()"
   ]
  },
  {
   "cell_type": "markdown",
   "metadata": {},
   "source": [
    "Podemos ver que as raizes estão entre: 0 e -2.5, e entre 5 e 7.5"
   ]
  },
  {
   "cell_type": "markdown",
   "metadata": {
    "pycharm": {
     "name": "#%% md\n"
    }
   },
   "source": [
    "Calculando com a fórmula quadrática (utilizando o método np.roots)"
   ]
  },
  {
   "cell_type": "code",
   "execution_count": 72,
   "metadata": {
    "pycharm": {
     "name": "#%%\n"
    }
   },
   "outputs": [
    {
     "data": {
      "text/plain": "array([ 6.40512484, -1.40512484])"
     },
     "execution_count": 72,
     "metadata": {},
     "output_type": "execute_result"
    }
   ],
   "source": [
    "np.roots([-0.5,2.5,4.5])"
   ]
  },
  {
   "cell_type": "markdown",
   "metadata": {
    "pycharm": {
     "name": "#%% md\n"
    }
   },
   "source": [
    "Calculando com método da bisseção"
   ]
  },
  {
   "cell_type": "code",
   "execution_count": 73,
   "metadata": {
    "pycharm": {
     "name": "#%%\n"
    }
   },
   "outputs": [
    {
     "name": "stdout",
     "output_type": "stream",
     "text": [
      "Aproximação nº 1: 7.5\n",
      "Aproximação nº 3: 6.25\n",
      "Aproximação nº 5: 6.875\n",
      "Aproximação nº 7: 6.5625\n",
      "Aproximação nº 9: 6.40625\n",
      "Aproximação nº 11: 6.328125\n",
      "Aproximação nº 13: 6.3671875\n",
      "Aproximação nº 15: 6.38671875\n",
      "Aproximação nº 17: 6.396484375\n",
      "Aproximação nº 19: 6.4013671875\n",
      "Aproximação nº 21: 6.40380859375\n",
      "Aproximação nº 23: 6.405029296875\n",
      "Aproximação nº 25: 6.4056396484375\n",
      "Aproximação nº 27: 6.40533447265625\n",
      "Aproximação nº 29: 6.405181884765625\n",
      "Aproximação nº 31: 6.4051055908203125\n",
      "Aproximação nº 33: 6.405143737792969\n",
      "Aproximação nº 35: 6.405124664306641\n",
      "Aproximação nº 37: 6.405134201049805\n",
      "Aproximação nº 39: 6.405129432678223\n",
      "Aproximação nº 41: 6.405127048492432\n",
      "Aproximação nº 43: 6.405125856399536\n",
      "Aproximação nº 45: 6.405125260353088\n",
      "Aproximação nº 47: 6.4051249623298645\n",
      "Aproximação nº 49: 6.405124813318253\n",
      "Aproximação nº 51: 6.4051248878240585\n",
      "Aproximação nº 53: 6.4051248505711555\n",
      "Aproximação nº 55: 6.405124831944704\n",
      "Aproximação nº 57: 6.40512484125793\n",
      "Aproximação nº 59: 6.405124836601317\n",
      "Aproximação nº 61: 6.405124838929623\n",
      "Aproximação nº 63: 6.40512483776547\n",
      "Aproximação nº 65: 6.405124838347547\n"
     ]
    },
    {
     "data": {
      "text/plain": "6.405124838347547"
     },
     "execution_count": 73,
     "metadata": {},
     "output_type": "execute_result"
    }
   ],
   "source": [
    "bissecao(a = 5, b = 10, max_it=3, f =f)"
   ]
  },
  {
   "cell_type": "markdown",
   "metadata": {
    "pycharm": {
     "name": "#%% md\n"
    }
   },
   "source": [
    "Erro relativo das iterações"
   ]
  },
  {
   "cell_type": "code",
   "execution_count": 74,
   "metadata": {
    "pycharm": {
     "name": "#%%\n"
    }
   },
   "outputs": [
    {
     "data": {
      "text/plain": "array([0.16666667, 0.1       ])"
     },
     "execution_count": 74,
     "metadata": {},
     "output_type": "execute_result"
    }
   ],
   "source": [
    "calc_erro_rel(np.array([7.5,6.25,6.875]))"
   ]
  },
  {
   "cell_type": "markdown",
   "metadata": {
    "pycharm": {
     "name": "#%% md\n"
    }
   },
   "source": [
    "Erro entre as iterações e os valores reais"
   ]
  },
  {
   "cell_type": "code",
   "execution_count": 75,
   "metadata": {
    "pycharm": {
     "name": "#%%\n"
    }
   },
   "outputs": [
    {
     "data": {
      "text/plain": "array([0.17093734, 0.02421889, 0.07335922])"
     },
     "execution_count": 75,
     "metadata": {},
     "output_type": "execute_result"
    }
   ],
   "source": [
    "calc_erro_real(np.array([7.5,6.25,6.875]),6.405125)"
   ]
  },
  {
   "cell_type": "markdown",
   "metadata": {
    "pycharm": {
     "name": "#%% md\n"
    }
   },
   "source": [
    "### Questão 3"
   ]
  },
  {
   "cell_type": "code",
   "execution_count": 76,
   "metadata": {
    "pycharm": {
     "name": "#%%\n"
    }
   },
   "outputs": [],
   "source": [
    "s = lambda x : np.sin(x)"
   ]
  },
  {
   "cell_type": "markdown",
   "metadata": {
    "pycharm": {
     "name": "#%% md\n"
    }
   },
   "source": [
    "### Questão 4"
   ]
  },
  {
   "cell_type": "code",
   "execution_count": 77,
   "metadata": {
    "pycharm": {
     "name": "#%%\n"
    }
   },
   "outputs": [],
   "source": [
    "f = lambda x : 2*math.pow(x,6) - 1.5*math.pow(x,4)+10*x+20\n",
    "d_v = lambda  x: -12*math.pow(x,5) -6*math.pow(x,3)+10"
   ]
  },
  {
   "cell_type": "code",
   "execution_count": 78,
   "metadata": {
    "pycharm": {
     "name": "#%%\n"
    }
   },
   "outputs": [
    {
     "name": "stdout",
     "output_type": "stream",
     "text": [
      "Aproximação nº 1: 0.5\n",
      "Aproximação nº 3: 0.75\n",
      "Aproximação nº 5: 0.875\n",
      "Aproximação nº 7: 0.8125\n",
      "Aproximação nº 9: 0.84375\n"
     ]
    },
    {
     "data": {
      "text/plain": "0.84375"
     },
     "execution_count": 78,
     "metadata": {},
     "output_type": "execute_result"
    }
   ],
   "source": [
    "bissecao(a = 0, b = 1, f= d_v, erro_tol=0.05)"
   ]
  },
  {
   "cell_type": "markdown",
   "metadata": {
    "pycharm": {
     "name": "#%% md\n"
    }
   },
   "source": [
    "### Questão 5"
   ]
  },
  {
   "cell_type": "code",
   "execution_count": 79,
   "outputs": [],
   "source": [
    "def regula_falsi(x_i, x_u,f, n = 10):\n",
    "    if (np.sign(f(x_i)) * np.sign(f(x_u))) != -1:\n",
    "        raise Exception(\"Não existe raiz nesse intervalo\")\n",
    "    x = None\n",
    "\n",
    "    for i in range(n):\n",
    "        x = x_u - (f(x_u) * ((x_u-x_i)/(f(x_u)-f(x_i))))\n",
    "        if f(x) == 0:\n",
    "            print(f\"{i} iterações.\")\n",
    "            return x\n",
    "        else:\n",
    "            if np.sign(f(x_i)) * np.sign(f(x_u)) == -1:\n",
    "                x_i = x\n",
    "            else:\n",
    "                x_u = x\n",
    "    return x"
   ],
   "metadata": {
    "collapsed": false,
    "pycharm": {
     "name": "#%%\n"
    }
   }
  },
  {
   "cell_type": "markdown",
   "source": [
    "Testando com equação da questão 1"
   ],
   "metadata": {
    "collapsed": false
   }
  },
  {
   "cell_type": "code",
   "execution_count": 80,
   "outputs": [
    {
     "data": {
      "text/plain": "6.405108253964062"
     },
     "execution_count": 80,
     "metadata": {},
     "output_type": "execute_result"
    }
   ],
   "source": [
    "f = lambda x : -0.5*(math.pow(x, 2)) + 2.5 * x + 4.5\n",
    "regula_falsi(x_i = 5, x_u = 10, f = f)"
   ],
   "metadata": {
    "collapsed": false,
    "pycharm": {
     "name": "#%%\n"
    }
   }
  },
  {
   "cell_type": "markdown",
   "source": [
    "Com apenas 10 iterações conseguimos uma aproximação aceitavel da raiz"
   ],
   "metadata": {
    "collapsed": false,
    "pycharm": {
     "name": "#%% md\n"
    }
   }
  }
 ],
 "metadata": {
  "kernelspec": {
   "display_name": "Python 3 (ipykernel)",
   "language": "python",
   "name": "python3"
  },
  "language_info": {
   "codemirror_mode": {
    "name": "ipython",
    "version": 3
   },
   "file_extension": ".py",
   "mimetype": "text/x-python",
   "name": "python",
   "nbconvert_exporter": "python",
   "pygments_lexer": "ipython3",
   "version": "3.9.7"
  }
 },
 "nbformat": 4,
 "nbformat_minor": 1
}