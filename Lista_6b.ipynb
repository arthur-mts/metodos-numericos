{
 "cells": [
  {
   "cell_type": "markdown",
   "metadata": {
    "collapsed": true,
    "pycharm": {
     "name": "#%% md\n"
    }
   },
   "source": [
    "Aluno: Arthur Mauricio\n",
    "Lista 6b"
   ]
  },
  {
   "cell_type": "code",
   "execution_count": 459,
   "outputs": [],
   "source": [
    "import matplotlib.pyplot as plt\n",
    "import numpy as np\n",
    "import scipy.optimize as opt\n",
    "import time"
   ],
   "metadata": {
    "collapsed": false,
    "pycharm": {
     "name": "#%%\n"
    }
   }
  },
  {
   "cell_type": "code",
   "execution_count": 432,
   "outputs": [],
   "source": [
    "def calc_erro_real(serie, val):\n",
    "    erros_aux = []\n",
    "    for j in range(serie.size):\n",
    "        erros_aux.append(np.abs(1-(serie[j]/val)))\n",
    "    return np.array(erros_aux)"
   ],
   "metadata": {
    "collapsed": false,
    "pycharm": {
     "name": "#%%\n"
    }
   }
  },
  {
   "cell_type": "markdown",
   "source": [
    "### Questão 1"
   ],
   "metadata": {
    "collapsed": false,
    "pycharm": {
     "name": "#%% md\n"
    }
   }
  },
  {
   "cell_type": "markdown",
   "source": [
    "- Ponto Fixo"
   ],
   "metadata": {
    "collapsed": false,
    "pycharm": {
     "name": "#%% md\n"
    }
   }
  },
  {
   "cell_type": "code",
   "execution_count": 433,
   "outputs": [],
   "source": [
    "def ponto_fixo(f, init, max_iter = 100, erro_tol = 1e-1,g_x = None):\n",
    "    g = lambda x : f(x) + x\n",
    "    if g_x is not None:\n",
    "        g  = g_x\n",
    "    last_root = init\n",
    "    root = None\n",
    "    for i in range(max_iter):\n",
    "        root = g(last_root)\n",
    "        if np.abs((root - last_root)/root) <= erro_tol:\n",
    "            print(\"Valor dentro do treshold de erro\")\n",
    "            return root\n",
    "        last_root = root\n",
    "    return root"
   ],
   "metadata": {
    "collapsed": false,
    "pycharm": {
     "name": "#%%\n"
    }
   }
  },
  {
   "cell_type": "code",
   "execution_count": 434,
   "outputs": [
    {
     "name": "stdout",
     "output_type": "stream",
     "text": [
      "Valor dentro do treshold de erro\n"
     ]
    },
    {
     "data": {
      "text/plain": "0.56714471334657"
     },
     "execution_count": 434,
     "metadata": {},
     "output_type": "execute_result"
    }
   ],
   "source": [
    "ponto_fixo(f = lambda x : np.exp(-x) - x, init = 0, max_iter=100, erro_tol=1e-5)"
   ],
   "metadata": {
    "collapsed": false,
    "pycharm": {
     "name": "#%%\n"
    }
   }
  },
  {
   "cell_type": "code",
   "execution_count": 435,
   "outputs": [
    {
     "name": "stdout",
     "output_type": "stream",
     "text": [
      "Valor dentro do treshold de erro\n"
     ]
    },
    {
     "data": {
      "text/plain": "0.5796123355033789"
     },
     "execution_count": 435,
     "metadata": {},
     "output_type": "execute_result"
    }
   ],
   "source": [
    "ponto_fixo(f = lambda x : np.exp(-x) - x, init = 0, max_iter=7)"
   ],
   "metadata": {
    "collapsed": false,
    "pycharm": {
     "name": "#%%\n"
    }
   }
  },
  {
   "cell_type": "markdown",
   "source": [
    "- Newton"
   ],
   "metadata": {
    "collapsed": false,
    "pycharm": {
     "name": "#%% md\n"
    }
   }
  },
  {
   "cell_type": "code",
   "execution_count": 436,
   "outputs": [],
   "source": [
    "def newton_raphson(f, df, init, max_iter = 100, erro_tol = 1e-3):\n",
    "    x_ant = init\n",
    "    x = None\n",
    "    for i in range(max_iter):\n",
    "        x = x_ant - (f(x_ant)/df(x_ant))\n",
    "        if np.abs((x - x_ant)/x) <= erro_tol:\n",
    "            print(\"Valor dentro do threshold de erro\")\n",
    "            return x\n",
    "    print(\"Máximo de iterações alcançado\")\n",
    "    return x"
   ],
   "metadata": {
    "collapsed": false,
    "pycharm": {
     "name": "#%%\n"
    }
   }
  },
  {
   "cell_type": "code",
   "execution_count": 437,
   "outputs": [],
   "source": [
    "f = lambda x : np.exp(-x) - x\n",
    "df = lambda x : - np.exp(-x) - 1"
   ],
   "metadata": {
    "collapsed": false,
    "pycharm": {
     "name": "#%%\n"
    }
   }
  },
  {
   "cell_type": "code",
   "execution_count": 438,
   "outputs": [
    {
     "name": "stdout",
     "output_type": "stream",
     "text": [
      "Máximo de iterações alcançado\n"
     ]
    }
   ],
   "source": [
    "imp_raiz = newton_raphson(f = f,df = df, init = 1)"
   ],
   "metadata": {
    "collapsed": false,
    "pycharm": {
     "name": "#%%\n"
    }
   }
  },
  {
   "cell_type": "markdown",
   "source": [
    "Comparando com o valor da biblioteca opt:"
   ],
   "metadata": {
    "collapsed": false,
    "pycharm": {
     "name": "#%% md\n"
    }
   }
  },
  {
   "cell_type": "code",
   "execution_count": 439,
   "outputs": [],
   "source": [
    "opt_raiz = opt.root_scalar(f, fprime=df, x0=0,method='newton').root"
   ],
   "metadata": {
    "collapsed": false,
    "pycharm": {
     "name": "#%%\n"
    }
   }
  },
  {
   "cell_type": "markdown",
   "source": [
    "Erro entre raiz da minha implementação do algoritmo de Newton_Raphson com a imlpementação do scipy"
   ],
   "metadata": {
    "collapsed": false,
    "pycharm": {
     "name": "#%% md\n"
    }
   }
  },
  {
   "cell_type": "code",
   "execution_count": 440,
   "outputs": [
    {
     "data": {
      "text/plain": "array([0.05159269])"
     },
     "execution_count": 440,
     "metadata": {},
     "output_type": "execute_result"
    }
   ],
   "source": [
    "calc_erro_real(np.array([imp_raiz]), opt_raiz)"
   ],
   "metadata": {
    "collapsed": false,
    "pycharm": {
     "name": "#%%\n"
    }
   }
  },
  {
   "cell_type": "markdown",
   "source": [
    "Erro da minha implementaçõ do algoritmo de ponto fixo com a implementação do scipy"
   ],
   "metadata": {
    "collapsed": false,
    "pycharm": {
     "name": "#%% md\n"
    }
   }
  },
  {
   "cell_type": "code",
   "execution_count": 441,
   "outputs": [
    {
     "name": "stdout",
     "output_type": "stream",
     "text": [
      "Valor dentro do treshold de erro\n"
     ]
    }
   ],
   "source": [
    "imp_ponto_fixo = ponto_fixo(f = f, init=1, erro_tol=1e-1)"
   ],
   "metadata": {
    "collapsed": false,
    "pycharm": {
     "name": "#%%\n"
    }
   }
  },
  {
   "cell_type": "code",
   "execution_count": 442,
   "outputs": [],
   "source": [
    "opt_ponto_fixo = opt.fixed_point(f, x0=1, xtol=1e-1)"
   ],
   "metadata": {
    "collapsed": false,
    "pycharm": {
     "name": "#%%\n"
    }
   }
  },
  {
   "cell_type": "code",
   "execution_count": 443,
   "outputs": [
    {
     "data": {
      "text/plain": "array([0.64786915])"
     },
     "execution_count": 443,
     "metadata": {},
     "output_type": "execute_result"
    }
   ],
   "source": [
    "calc_erro_real(np.array([imp_ponto_fixo]), opt_ponto_fixo)"
   ],
   "metadata": {
    "collapsed": false,
    "pycharm": {
     "name": "#%%\n"
    }
   }
  },
  {
   "cell_type": "markdown",
   "source": [
    "- Secante"
   ],
   "metadata": {
    "collapsed": false,
    "pycharm": {
     "name": "#%% md\n"
    }
   }
  },
  {
   "cell_type": "code",
   "execution_count": 444,
   "outputs": [],
   "source": [
    "def secante(f, x0,x1, max_iter = 100, erro_tol = 1e-5):\n",
    "    x = None\n",
    "    for i in range(max_iter):\n",
    "        x = x0 - (f(x0) * (x1 - x0)/(f(x1) - f(x0)))\n",
    "        if np.abs((x-x0)/x) < erro_tol:\n",
    "            print(f\"nº de iterações: {i}\")\n",
    "            print(\"Convergiu\")\n",
    "            return x\n",
    "        x0 = x1\n",
    "        x1 = x\n",
    "    print(\"Máximo de iterações atingido\")\n",
    "    return x"
   ],
   "metadata": {
    "collapsed": false,
    "pycharm": {
     "name": "#%%\n"
    }
   }
  },
  {
   "cell_type": "code",
   "execution_count": 445,
   "outputs": [
    {
     "name": "stdout",
     "output_type": "stream",
     "text": [
      "nº de iterações: 6\n",
      "Convergiu\n"
     ]
    },
    {
     "data": {
      "text/plain": "0.739085133215161"
     },
     "execution_count": 445,
     "metadata": {},
     "output_type": "execute_result"
    }
   ],
   "source": [
    "secante(lambda x: np.cos(x) - x, -1, 0)"
   ],
   "metadata": {
    "collapsed": false,
    "pycharm": {
     "name": "#%%\n"
    }
   }
  },
  {
   "cell_type": "markdown",
   "source": [
    "Comparando com o valor de biblioteca scipy:"
   ],
   "metadata": {
    "collapsed": false,
    "pycharm": {
     "name": "#%% md\n"
    }
   }
  },
  {
   "cell_type": "code",
   "execution_count": 446,
   "outputs": [
    {
     "data": {
      "text/plain": "      converged: True\n           flag: 'converged'\n function_calls: 9\n     iterations: 8\n           root: 0.7390851332151606"
     },
     "execution_count": 446,
     "metadata": {},
     "output_type": "execute_result"
    }
   ],
   "source": [
    "opt.root_scalar(lambda x: np.cos(x) -x, method='secant', x0=-1, x1=0)"
   ],
   "metadata": {
    "collapsed": false,
    "pycharm": {
     "name": "#%%\n"
    }
   }
  },
  {
   "cell_type": "markdown",
   "source": [
    "## Questão 2"
   ],
   "metadata": {
    "collapsed": false,
    "pycharm": {
     "name": "#%% md\n"
    }
   }
  },
  {
   "cell_type": "code",
   "execution_count": 447,
   "outputs": [],
   "source": [
    "f = lambda x : 2*np.sin(np.sqrt(x)) - x"
   ],
   "metadata": {
    "collapsed": false,
    "pycharm": {
     "name": "#%%\n"
    }
   }
  },
  {
   "cell_type": "code",
   "execution_count": 448,
   "outputs": [
    {
     "data": {
      "text/plain": "<Figure size 432x288 with 1 Axes>",
      "image/png": "[encoded data removed]"
     },
     "metadata": {
      "needs_background": "light"
     },
     "output_type": "display_data"
    }
   ],
   "source": [
    "x = np.linspace(0,4, 100)\n",
    "plt.plot(x, f(x))\n",
    "plt.plot([0,10],[0,0])\n",
    "plt.show()"
   ],
   "metadata": {
    "collapsed": false,
    "pycharm": {
     "name": "#%%\n"
    }
   }
  },
  {
   "cell_type": "code",
   "execution_count": 449,
   "outputs": [
    {
     "data": {
      "text/plain": "array(0.76864886)"
     },
     "execution_count": 449,
     "metadata": {},
     "output_type": "execute_result"
    }
   ],
   "source": [
    "opt.fixed_point(f, x0=0.5,xtol=1e-5)"
   ],
   "metadata": {
    "collapsed": false,
    "pycharm": {
     "name": "#%%\n"
    }
   }
  },
  {
   "cell_type": "code",
   "execution_count": 450,
   "outputs": [
    {
     "name": "stdout",
     "output_type": "stream",
     "text": [
      "Valor dentro do treshold de erro\n"
     ]
    },
    {
     "data": {
      "text/plain": "1.9723804860817313"
     },
     "execution_count": 450,
     "metadata": {},
     "output_type": "execute_result"
    }
   ],
   "source": [
    "ponto_fixo(f,0.5, erro_tol=1e-5)"
   ],
   "metadata": {
    "collapsed": false,
    "pycharm": {
     "name": "#%%\n"
    }
   }
  },
  {
   "cell_type": "markdown",
   "source": [],
   "metadata": {
    "collapsed": false,
    "pycharm": {
     "name": "#%% md\n"
    }
   }
  },
  {
   "cell_type": "markdown",
   "source": [
    "a)"
   ],
   "metadata": {
    "collapsed": false,
    "pycharm": {
     "name": "#%% md\n"
    }
   }
  },
  {
   "cell_type": "code",
   "execution_count": 451,
   "outputs": [],
   "source": [
    "f = lambda x : (2*np.power(x,3)) - (11.7*np.power(x, 2)) + ((17.7*x) - 5)"
   ],
   "metadata": {
    "collapsed": false,
    "pycharm": {
     "name": "#%%\n"
    }
   }
  },
  {
   "cell_type": "code",
   "execution_count": 452,
   "outputs": [
    {
     "data": {
      "text/plain": "<Figure size 432x288 with 1 Axes>",
      "image/png": "[encoded data removed]"
     },
     "metadata": {
      "needs_background": "light"
     },
     "output_type": "display_data"
    }
   ],
   "source": [
    "x_axis = np.linspace(0, 3.7, 200)\n",
    "plt.plot(x_axis, f(x_axis))\n",
    "plt.plot([0,3.7],[0,0])\n",
    "plt.show()"
   ],
   "metadata": {
    "collapsed": false,
    "pycharm": {
     "name": "#%%\n"
    }
   }
  },
  {
   "cell_type": "markdown",
   "source": [
    "1º raiz: entre 0 e 0.5\n",
    "2º raiz: ~2.2\n",
    "3º raiz: ~3.6"
   ],
   "metadata": {
    "collapsed": false,
    "pycharm": {
     "name": "#%% md\n"
    }
   }
  },
  {
   "cell_type": "markdown",
   "source": [
    "b)"
   ],
   "metadata": {
    "collapsed": false,
    "pycharm": {
     "name": "#%% md\n"
    }
   }
  },
  {
   "cell_type": "code",
   "execution_count": 453,
   "outputs": [
    {
     "name": "stdout",
     "output_type": "stream",
     "text": [
      "Valor dentro do treshold de erro\n"
     ]
    },
    {
     "data": {
      "text/plain": "0.36038995533318985"
     },
     "execution_count": 453,
     "metadata": {},
     "output_type": "execute_result"
    }
   ],
   "source": [
    "g_x = lambda x : 5/(2*np.power(x,2) - (11.7*x) + 17.7)\n",
    "ponto_fixo(f,3,  g_x= g_x)"
   ],
   "metadata": {
    "collapsed": false,
    "pycharm": {
     "name": "#%%\n"
    }
   }
  },
  {
   "cell_type": "markdown",
   "source": [
    "c)"
   ],
   "metadata": {
    "collapsed": false,
    "pycharm": {
     "name": "#%% md\n"
    }
   }
  },
  {
   "cell_type": "code",
   "execution_count": 454,
   "outputs": [
    {
     "name": "stdout",
     "output_type": "stream",
     "text": [
      "Máximo de iterações alcançado\n"
     ]
    },
    {
     "data": {
      "text/plain": "5.13333333333332"
     },
     "execution_count": 454,
     "metadata": {},
     "output_type": "execute_result"
    }
   ],
   "source": [
    "df = lambda x : (6*np.power(x,2)) - (23.4 * x) + 17.7\n",
    "newton_raphson(f,df,3)"
   ],
   "metadata": {
    "collapsed": false,
    "pycharm": {
     "name": "#%%\n"
    }
   }
  },
  {
   "cell_type": "code",
   "execution_count": 455,
   "outputs": [
    {
     "data": {
      "text/plain": "      converged: True\n           flag: 'converged'\n function_calls: 16\n     iterations: 8\n           root: 3.5631608248620537"
     },
     "execution_count": 455,
     "metadata": {},
     "output_type": "execute_result"
    }
   ],
   "source": [
    "opt.root_scalar(f,fprime=df,x0=3, method='newton')"
   ],
   "metadata": {
    "collapsed": false,
    "pycharm": {
     "name": "#%%\n"
    }
   }
  },
  {
   "cell_type": "markdown",
   "source": [
    "### Questão 4"
   ],
   "metadata": {
    "collapsed": false,
    "pycharm": {
     "name": "#%% md\n"
    }
   }
  },
  {
   "cell_type": "code",
   "execution_count": 456,
   "outputs": [],
   "source": [
    "def regula_falsi(x_i, x_u,f, n = 10):\n",
    "    if (np.sign(f(x_i)) * np.sign(f(x_u))) != -1:\n",
    "        raise Exception(\"Não existe raiz nesse intervalo\")\n",
    "    x = None\n",
    "\n",
    "    for i in range(n):\n",
    "        x = x_u - (f(x_u) * ((x_u-x_i)/(f(x_u)-f(x_i))))\n",
    "        if f(x) == 0:\n",
    "            return x\n",
    "        else:\n",
    "            if np.sign(f(x_i)) * np.sign(f(x_u)) == -1:\n",
    "                x_i = x\n",
    "            else:\n",
    "                x_u = x\n",
    "    print(\"Máximo de iterações atingido\")\n",
    "    return x\n",
    "\n",
    "\n",
    "def bissecao(a,b,f, erro_tol = 1e-10, max_it = 10):\n",
    "    i,a_i,b_i = 0,a,b\n",
    "    erro, x_ant, x = 1, a, a\n",
    "    if (np.sign(f(a)) * np.sign(f(b))) != -1:\n",
    "        raise Exception(\"Não existe raiz nesse intervalo\")\n",
    "    else:\n",
    "        while erro > erro_tol:\n",
    "            x = (a_i+b_i)/2\n",
    "            sign_inf = np.sign(f(a_i))\n",
    "            sign_sup = np.sign(f(x))\n",
    "            if f(x)==0:\n",
    "                return x\n",
    "            else:\n",
    "                if sign_inf * sign_sup == -1:\n",
    "                    b_i = x\n",
    "                else:\n",
    "                    a_i = x\n",
    "            i+=1\n",
    "            erro = np.abs((x - x_ant)/x)\n",
    "            x_ant = x\n",
    "            i = i+1\n",
    "            if i == max_it:\n",
    "                print(\"Máximo de iterações atingido\")\n",
    "                return x\n",
    "    print(\"Convergiu\")\n",
    "    print(f\"nº de iterações: {i}\")\n",
    "    return x"
   ],
   "metadata": {
    "collapsed": false,
    "pycharm": {
     "name": "#%%\n"
    }
   }
  },
  {
   "cell_type": "code",
   "execution_count": 461,
   "outputs": [],
   "source": [
    "def analise_func_questao4(f, a, b, df):\n",
    "    start = time.time()\n",
    "    falsa_pos = regula_falsi(x_i=a, x_u=b, f = f, n=200)\n",
    "    end = time.time()\n",
    "    print(f\"Resultado regula falsi: {falsa_pos}\\nLevou {end - start} ms tempo\")\n",
    "    start = time.time()\n",
    "    newton = newton_raphson(f = f, init=1, df = df, max_iter=200, erro_tol=1e-9)\n",
    "    end = time.time()\n",
    "    print(f\"Resultado newton: {newton}\\nLevou {end - start} ms tempo\")\n",
    "    start = time.time()\n",
    "    secante_res = secante(f = f, x0=a, x1= b, max_iter=200, erro_tol=1e-9)\n",
    "    end = time.time()\n",
    "    print(f\"Resultado seacnte: {secante_res}\\nLevou {end - start} ms tempo\")\n",
    "    start = time.time()\n",
    "    bissecao_res = bissecao(a = a, b= b, f = f, max_it=200, erro_tol=10e-9)\n",
    "    end = time.time()\n",
    "    print(f\"Resultado bissecao: {bissecao_res}\\nLevou {end - start} ms tempo\")"
   ],
   "metadata": {
    "collapsed": false,
    "pycharm": {
     "name": "#%%\n"
    }
   }
  },
  {
   "cell_type": "code",
   "execution_count": 462,
   "outputs": [
    {
     "name": "stdout",
     "output_type": "stream",
     "text": [
      "Máximo de iterações atingido\n",
      "Resultado regula falsi: 1.4928787086636035\n",
      "Levou 0.01689004898071289 ms tempo\n",
      "Máximo de iterações alcançado\n",
      "Resultado newton: 2.0\n",
      "Levou 0.0040740966796875 ms tempo\n",
      "nº de iterações: 11\n",
      "Convergiu\n",
      "Resultado seacnte: -1.3003841326439196\n",
      "Levou 0.0005066394805908203 ms tempo\n",
      "Convergiu\n",
      "nº de iterações: 56\n",
      "Resultado bissecao: 1.4928787015378475\n",
      "Levou 0.0010378360748291016 ms tempo\n"
     ]
    }
   ],
   "source": [
    "f = lambda x : 2*np.power(x,4) + 4*np.power(x,3) + 3 * np.power(x,2) - 10*x-15\n",
    "df = lambda x: 8*np.power(x, 3) + 12 * np.power(x,2) + 6 * x - 10\n",
    "analise_func_questao4(f, 0, 3,df)"
   ],
   "metadata": {
    "collapsed": false,
    "pycharm": {
     "name": "#%%\n"
    }
   }
  }
 ],
 "metadata": {
  "kernelspec": {
   "display_name": "Python 3",
   "language": "python",
   "name": "python3"
  },
  "language_info": {
   "codemirror_mode": {
    "name": "ipython",
    "version": 2
   },
   "file_extension": ".py",
   "mimetype": "text/x-python",
   "name": "python",
   "nbconvert_exporter": "python",
   "pygments_lexer": "ipython2",
   "version": "2.7.6"
  }
 },
 "nbformat": 4,
 "nbformat_minor": 0
}