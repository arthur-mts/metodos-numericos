{
 "cells": [
  {
   "cell_type": "markdown",
   "metadata": {},
   "source": [
    "<div class=\"alert alert-block alert-info\">\n",
    "    \n",
    "<h1 style=\"color:Blue;\"> <center> <ins> <b> \n",
    "Métodos Numéricos \n",
    "</b> </ins> </center> </h1>\n",
    "    \n",
    "<h2 style=\"color:Blue;\"> <center> <b> \n",
    "Erros em Aproximações de Funções com Séries de Taylor\n",
    "</b></center> </h2>\n",
    "    \n",
    "</div>"
   ]
  },
  {
   "cell_type": "markdown",
   "metadata": {},
   "source": [
    "### Agenda de Hoje\n",
    "1. [Expressando funções como séries de Taylor](#exp_taylor)\n",
    "2. [Aproximações com séries de Taylor](#apx_taylor)\n",
    "3. [Discussões sobre erros em aproximações com séries de Taylor](#erro_taylor)\n"
   ]
  },
  {
   "cell_type": "code",
   "execution_count": 19,
   "metadata": {},
   "outputs": [
    {
     "ename": "ModuleNotFoundError",
     "evalue": "No module named 'matplotlib'",
     "output_type": "error",
     "traceback": [
      "\u001B[0;31m---------------------------------------------------------------------------\u001B[0m",
      "\u001B[0;31mModuleNotFoundError\u001B[0m                       Traceback (most recent call last)",
      "\u001B[0;32m/tmp/ipykernel_40006/2753734861.py\u001B[0m in \u001B[0;36m<module>\u001B[0;34m\u001B[0m\n\u001B[1;32m      1\u001B[0m \u001B[0;32mimport\u001B[0m \u001B[0mnumpy\u001B[0m \u001B[0;32mas\u001B[0m \u001B[0mnp\u001B[0m\u001B[0;34m\u001B[0m\u001B[0;34m\u001B[0m\u001B[0m\n\u001B[0;32m----> 2\u001B[0;31m \u001B[0;32mimport\u001B[0m \u001B[0mmatplotlib\u001B[0m\u001B[0;34m.\u001B[0m\u001B[0mpyplot\u001B[0m \u001B[0;32mas\u001B[0m \u001B[0mplt\u001B[0m\u001B[0;34m\u001B[0m\u001B[0;34m\u001B[0m\u001B[0m\n\u001B[0m\u001B[1;32m      3\u001B[0m \u001B[0mplt\u001B[0m\u001B[0;34m.\u001B[0m\u001B[0mstyle\u001B[0m\u001B[0;34m.\u001B[0m\u001B[0muse\u001B[0m\u001B[0;34m(\u001B[0m\u001B[0;34m'seaborn-poster'\u001B[0m\u001B[0;34m)\u001B[0m\u001B[0;34m\u001B[0m\u001B[0;34m\u001B[0m\u001B[0m\n",
      "\u001B[0;31mModuleNotFoundError\u001B[0m: No module named 'matplotlib'"
     ]
    }
   ],
   "source": [
    "import numpy as np\n",
    "import matplotlib.pyplot as plt\n",
    "plt.style.use('seaborn-poster')"
   ]
  },
  {
   "cell_type": "markdown",
   "metadata": {},
   "source": [
    "<div class=\"alert alert-block alert-info\" style=\"color:Blue;\" id=\"exp_taylor\">\n",
    "Expressando funções como séries de Taylor\n",
    "</div>"
   ]
  },
  {
   "cell_type": "markdown",
   "metadata": {},
   "source": [
    "Provavelmente (ao menos deveria) nas disciplinas de cálculo, vocês devem ter trabalhado com a possibilidade de representar funções a partir de séries, finitas e infinitas. Séries de MacLaurin, de Laurent e de Taylor são alguns tipos de de séries que comumente aparecem em cursos de cálculo.\n",
    "\n",
    "No contexto de métodos numéricos, séries são sempre usadas para representação de funções. E dessas, a série de Taylor aparece quase sempre como uma das representações preferidas, principalmente para funções diferenciáveis.\n",
    "\n",
    "Uma **expansão em série de Taylor** é uma representação de uma função como uma sequência de polinômios ao redor de um ponto, definida como\n",
    "\n",
    "$$\n",
    "f(x) = \\sum_{n = 0}^{\\infty} \\frac{f^{(n)}(a)(x-a)^n}{n!},\n",
    "$$\n",
    "\n",
    "sendo $a$ o ponto de avaliação dessa série, $f^{(n)}$ a $n$-ésima derivada da função $f$ e $f^{(0)}$ a função propriamente dita.\n",
    "\n",
    "Por exemplo, podemos verificar que a representação da função $f(x) = 5x^2 + 3x + 5$ usando série de Taylor é igual a própria função, avaliando-a para dois pontos distintos, no caso, $a = 0$, e $a = 1$. Nessa avaliação, vamos considerar somente os dois primeiros termos, uma vez que as derivadas de ordem igual ou superior a 3 são todas zero. \n",
    "\n",
    "Assim, expressando analiticamente, teríamos\n",
    "\n",
    "\\begin{eqnarray*}\n",
    "f(x) &=& 5x^2 + 3x + 5\\\\\n",
    "f^{\\prime}(x) &=& 10x + 3\\\\\n",
    "f''(x) &=& 10\n",
    "\\end{eqnarray*}\n",
    "\n",
    "Expandindo em série de Taylor, temos:\n",
    "\n",
    "$$\n",
    "f(x) = \\sum_{n = 0}^{\\infty} \\frac{f^{(n)}(a)(x-a)^n}{n!},\n",
    "$$\n",
    "\n",
    "* para o ponto a = 0:\n",
    "\n",
    "$$f(x) = \\frac{5x^0}{0!} + \\frac{3x^1}{1!} + \\frac{10x^2}{2!} + 0 + 0 + \\cdots = 5x^2 + 3x + 5\n",
    "$$\n",
    "\n",
    "* para o ponto a = 1:\n",
    "\n",
    "\\begin{eqnarray*}\n",
    "f(x) &=& \\frac{13(x-1)^0}{0!} + \\frac{13(x-1)^1}{1!} + \\frac{10(x-1)^2}{2!} + 0 + \\cdots\\\\\n",
    " &=& 13 + 13x - 13 + 5x^2 - 10x + 5 = 5x^2 + 3x + 5\n",
    "\\end{eqnarray*}\n",
    "\n",
    "ou seja, de fato a representação em série retorna sempre a mesma função original."
   ]
  },
  {
   "cell_type": "markdown",
   "metadata": {},
   "source": [
    "<div class=\"alert alert-block alert-info\" style=\"color:Blue;\" id=\"apx_taylor\">\n",
    "Aproximações com séries de Taylor\n",
    "</div>"
   ]
  },
  {
   "cell_type": "markdown",
   "metadata": {},
   "source": [
    "Obviamente, para computadores é impossível calcular infinitamente termos de uma série. Dessa forma, temos um problema quando usamos uma série infinita como a série de Taylor, para representar funções durante operações numéricas, uma vez que nem supercomputadores poderiam calcular \"ao infinito e além\". \n",
    "\n",
    "A solução para esse problema é bem simples: aproximação, isto é, considerar um número finito de termos da série para aproximar funções com um erro que consideremos satisfatório. Chamamos essa abordagem de **aproximação com séries de Taylor**. \n",
    "\n",
    "Essa técnica é especialmente poderosa quando há um ponto em torno do qual temos conhecimento sobre uma função para todas as suas derivadas. Por exemplo, para a expansão de Taylor de $e^x$ em $a = 0$, temos $f^{(n)}(a) = 1$ para todo $n$ e, nesse caso, nem calcular as derivadas nós precisaríamos!\n",
    "\n",
    "Obviamente o exemplo da exponencial é \"batizado\". Vamos considerar o caso da função seno, $f(x) = \\sin(x)$, cuja representação por série de Taylor é dada por\n",
    "\n",
    "$$f(x) = \\frac{\\sin(0)}{0!}x^0 + \\frac{\\cos(0)}{1!}x^1 + \\frac{-\\sin(0)}{2!}x^2 + \\frac{-\\cos(0)}{3!}x^3 + \\frac{\\sin(0)}{4!}x^4 + \\frac{\\cos(0)}{5!}x^5 + \\cdots = \\sum_{n = 0}^{\\infty} \\frac{(-1)^n x^{2n+1}}{(2n+1)!}$$\n",
    "\n",
    "Vamos visualizar como a função se mostra quando consideramos aproximações de múltiplas ordens (ou seja, quantidade de termos).\n",
    "\n",
    "Vamos primeiro criar um vetor para ser os valores de $x$ no qual vamos visualizar a função:"
   ]
  },
  {
   "cell_type": "code",
   "execution_count": null,
   "metadata": {},
   "outputs": [],
   "source": [
    "x = np.linspace(-np.pi, np.pi, 200)\n",
    "x"
   ]
  },
  {
   "cell_type": "markdown",
   "metadata": {},
   "source": [
    "Vamos definir a função a partir da expressão da série de Taylor"
   ]
  },
  {
   "cell_type": "code",
   "execution_count": null,
   "metadata": {},
   "outputs": [],
   "source": [
    "def T(x,n): return ((-1)**n * (x)**(2*n+1)) / np.math.factorial(2*n+1)"
   ]
  },
  {
   "cell_type": "markdown",
   "metadata": {},
   "source": [
    "E para poder vizualizar melhor, vamos fazer um pequeno artifício aqui. Nós vamos considerar os primeiros 4 termos válidos (1a., 3a. 5a. e 7a. ordem), e vamos calcular e plotar todo mundo dentro de um laço só"
   ]
  },
  {
   "cell_type": "code",
   "execution_count": null,
   "metadata": {},
   "outputs": [],
   "source": [
    "y = np.zeros(len(x))\n",
    "plt.figure(figsize = (10,8))\n",
    "for n,label in zip(range(4),['1a ordem', '3a ordem', '5a ordem', '7a ordem']):\n",
    "    y += T(x,n)\n",
    "    plt.plot(x,y, label = label)\n",
    "plt.plot(x, np.sin(x), 'k', label = 'Analítica')\n",
    "plt.grid()\n",
    "plt.xlabel('$x$')\n",
    "plt.ylabel('$f(x)$')\n",
    "plt.legend()"
   ]
  },
  {
   "cell_type": "markdown",
   "metadata": {},
   "source": [
    "<div class=\"alert alert-block alert-info\" style=\"color:Blue;\" id=\"erro_taylor\">\n",
    "Discussões sobre erros em aproximações com séries de Taylor\n",
    "</div>"
   ]
  },
  {
   "cell_type": "markdown",
   "metadata": {},
   "source": [
    "Obviamente, se consideramos um número finito de termos na aproximação por série de Taylor, acabaremos, salvo funções específicas, gerando erros, afinal estamos considerando somente parte de toda a representação. E como em tudo de métodos numéricos, teremos a incidência de erros de **truncamento** e erros de **arredondamento**.\n",
    "\n",
    "Os erros de arredondamento se devem à inexatidão na representação dos números reais em um computador e nas operações aritméticas feitas com eles. Embora os erros de truncamento sejam devidos à natureza aproximada do método usado, eles geralmente são causados pelo uso de uma aproximação no lugar de um procedimento matemático exato, como o uso da série de Taylor para aproximar uma função.\n",
    "\n",
    "Por exemplo, considere a função $e^x$:\n",
    "\n",
    "$$e^x = 1+x+\\frac{x^2}{2!} + \\frac{x^3}{3!} + \\frac{x^4}{4!} + \\dots$$\n",
    "\n",
    "Uma vez que é necessária a sequência infinita para aproximar a função, se pegarmos apenas alguns itens, teremos um erro de truncamento. Por exemplo, se usarmos apenas os primeiros 4 termos para aproximar $e^2$, teremos\n",
    "\n",
    "$$e^2 \\approx 1+2+\\frac{2^2}{2!} + \\frac{2^3}{3!} = 6.3333$$, \n",
    "\n",
    "que não é o valor mais exato pra representar essa função, se compararmos, por exemplo, com a aproximação feita pela função `np.exp()` da biblioteca Numpy.\n",
    "\n",
    "Para compararmos isso, podemos usar o código abaixo, gerando a representação de $e^2$ para diferentes ordens e comparando, ao final, com a função `np.exp()`."
   ]
  },
  {
   "cell_type": "code",
   "execution_count": null,
   "metadata": {},
   "outputs": [],
   "source": [
    "exp = 0\n",
    "x = 2\n",
    "for i in range(10):\n",
    "    exp += ((x**i)/np.math.factorial(i))\n",
    "    print(f'Usando {i} termo: {exp}')\n",
    "    \n",
    "print(f'\\nUsando a Numpy: {np.exp(2)}')"
   ]
  },
  {
   "cell_type": "markdown",
   "metadata": {},
   "source": [
    "E como mensurar esse erro? Entendendo que, considerando um número $n$ finito de termos da série, teremos\n",
    "\n",
    "$$ f(x) = f_n(x) + E_n(x) = \\sum_{k = 0}^{n} \\frac{f^{(k)}(a)(x-a)^k}{k!} + E_n(x)\n",
    "$$\n",
    "\n",
    "em que $E_n(x)$ é o erro computado como aprendemos!\n",
    "\n",
    "No caso aqui, em que \"conhecemos\" o valor final, é simples analisar. Bastaria comparar os valores, de preferencia de forma relativa. "
   ]
  },
  {
   "cell_type": "code",
   "execution_count": null,
   "metadata": {},
   "outputs": [],
   "source": [
    "Ea = np.abs(np.exp(2) - 7.3809523809523805)\n",
    "Ea"
   ]
  },
  {
   "cell_type": "markdown",
   "metadata": {},
   "source": [
    "Erro relativo quando conhecemos o valor real\n",
    "\n",
    "$$\n",
    "E_r = \\left|\\dfrac{v_r - v_a}{v_r}\\right| = \\left|1 - \\dfrac{v_a}{v_r}\\right|\n",
    "$$"
   ]
  },
  {
   "cell_type": "code",
   "execution_count": null,
   "metadata": {},
   "outputs": [],
   "source": [
    "Er = np.abs(1 - 7.3809523809523805/np.exp(2))*100\n",
    "Er"
   ]
  },
  {
   "cell_type": "markdown",
   "metadata": {},
   "source": [
    "E e não soubessemos esse valor que consideramos \"real\", como proceder? Calculando a diferença de forma iterativa!\n",
    "\n",
    "Erro relativo iterativo\n",
    "\n",
    "$$\n",
    "E_r = \\left|\\dfrac{v_{ant} - v_{atual}}{v_{ant}}\\right| = \\left|1 - \\dfrac{v_{atual}}{v_{ant}}\\right|\n",
    "$$"
   ]
  },
  {
   "cell_type": "code",
   "execution_count": null,
   "metadata": {},
   "outputs": [],
   "source": [
    "exp = 0\n",
    "x = 2\n",
    "l = []\n",
    "for i in range(10):\n",
    "    exp += ((x**i)/np.math.factorial(i))\n",
    "    l.append(exp)"
   ]
  },
  {
   "cell_type": "code",
   "execution_count": null,
   "metadata": {},
   "outputs": [],
   "source": [
    "val = np.array(l)\n",
    "val"
   ]
  },
  {
   "cell_type": "markdown",
   "metadata": {},
   "source": [
    "$$\n",
    "E_r = \\left|\\dfrac{v_{ant} - v_{atual}}{v_{ant}}\\right| = \\left|1 - \\dfrac{v_{atual}}{v_{ant}}\\right|\n",
    "$$"
   ]
  },
  {
   "cell_type": "code",
   "execution_count": null,
   "metadata": {},
   "outputs": [],
   "source": [
    "Er = np.abs((7.38730159 - 7.38871252)/7.38730159)*100\n",
    "Er"
   ]
  },
  {
   "cell_type": "code",
   "execution_count": 14,
   "metadata": {},
   "outputs": [],
   "source": []
  },
  {
   "cell_type": "code",
   "execution_count": 14,
   "metadata": {},
   "outputs": [],
   "source": []
  },
  {
   "cell_type": "markdown",
   "metadata": {},
   "source": [
    "### Tira dúvidas do exercício"
   ]
  },
  {
   "cell_type": "code",
   "execution_count": 15,
   "metadata": {},
   "outputs": [],
   "source": [
    "## essa é a função exponencial; \n",
    "#usei pra não gerar expoiler e acabar com a graça\n",
    "def arc(x,n):\n",
    "    arco=0\n",
    "    l=[]\n",
    "    for i in range(n):\n",
    "        arco += ((x**i)/np.math.factorial(i))\n",
    "        l.append(arco)\n",
    "    return np.array(l)"
   ]
  },
  {
   "cell_type": "markdown",
   "metadata": {},
   "source": [
    "$$\n",
    "\\dfrac{\\pi}{4} = 4\\arctan \\frac{1}{5} - \\arctan \\frac{1}{239}\n",
    "$$"
   ]
  },
  {
   "cell_type": "code",
   "execution_count": 16,
   "metadata": {},
   "outputs": [
    {
     "data": {
      "text/plain": "(20,)"
     },
     "execution_count": 16,
     "metadata": {},
     "output_type": "execute_result"
    }
   ],
   "source": [
    "arctan1_5 = arc(1/5,20)\n",
    "arctan1_5.shape"
   ]
  },
  {
   "cell_type": "code",
   "execution_count": 17,
   "metadata": {},
   "outputs": [
    {
     "data": {
      "text/plain": "(20,)"
     },
     "execution_count": 17,
     "metadata": {},
     "output_type": "execute_result"
    }
   ],
   "source": [
    "arctan1_239 = arc(1/239,20)\n",
    "arctan1_239.shape"
   ]
  },
  {
   "cell_type": "markdown",
   "metadata": {},
   "source": [
    "$$\n",
    "\\dfrac{\\pi}{4} = 4\\arctan \\frac{1}{5} - \\arctan \\frac{1}{239}\n",
    "$$"
   ]
  },
  {
   "cell_type": "code",
   "execution_count": 18,
   "metadata": {},
   "outputs": [
    {
     "data": {
      "text/plain": "array([12.        , 15.1832636 , 15.50322858, 15.52456187, 15.52562854,\n       15.5256712 , 15.52567262, 15.52567267, 15.52567267, 15.52567267,\n       15.52567267, 15.52567267, 15.52567267, 15.52567267, 15.52567267,\n       15.52567267, 15.52567267, 15.52567267, 15.52567267, 15.52567267])"
     },
     "execution_count": 18,
     "metadata": {},
     "output_type": "execute_result"
    }
   ],
   "source": [
    "pi = 4*(4*arctan1_5 - arctan1_239)\n",
    "pi"
   ]
  }
 ],
 "metadata": {
  "kernelspec": {
   "display_name": "Python 3",
   "language": "python",
   "name": "python3"
  },
  "language_info": {
   "codemirror_mode": {
    "name": "ipython",
    "version": 3
   },
   "file_extension": ".py",
   "mimetype": "text/x-python",
   "name": "python",
   "nbconvert_exporter": "python",
   "pygments_lexer": "ipython3",
   "version": "3.8.5"
  }
 },
 "nbformat": 4,
 "nbformat_minor": 4
}