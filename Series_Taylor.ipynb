{
 "cells": [
  {
   "cell_type": "markdown",
   "metadata": {},
   "source": [
    "<div class=\"alert alert-block alert-info\">\n",
    "    \n",
    "<h1 style=\"color:Blue;\"> <center> <ins> <b> \n",
    "Métodos Numéricos \n",
    "</b> </ins> </center> </h1>\n",
    "    \n",
    "<h2 style=\"color:Blue;\"> <center> <b> \n",
    "Erros em Aproximações de Funções com Séries de Taylor\n",
    "</b></center> </h2>\n",
    "    \n",
    "</div>"
   ]
  },
  {
   "cell_type": "markdown",
   "metadata": {},
   "source": [
    "### Agenda de Hoje\n",
    "1. [Expressando funções como séries de Taylor](#exp_taylor)\n",
    "2. [Aproximações com séries de Taylor](#apx_taylor)\n",
    "3. [Discussões sobre erros em aproximações com séries de Taylor](#erro_taylor)\n"
   ]
  },
  {
   "cell_type": "code",
   "execution_count": 2,
   "metadata": {},
   "outputs": [],
   "source": [
    "import numpy as np\n",
    "import matplotlib.pyplot as plt\n",
    "plt.style.use('seaborn-poster')"
   ]
  },
  {
   "cell_type": "markdown",
   "metadata": {},
   "source": [
    "<div class=\"alert alert-block alert-info\" style=\"color:Blue;\" id=\"exp_taylor\">\n",
    "Expressando funções como séries de Taylor\n",
    "</div>"
   ]
  },
  {
   "cell_type": "markdown",
   "metadata": {},
   "source": [
    "Provavelmente (ao menos deveria) nas disciplinas de cálculo, vocês devem ter trabalhado com a possibilidade de representar funções a partir de séries, finitas e infinitas. Séries de MacLaurin, de Laurent e de Taylor são alguns tipos de de séries que comumente aparecem em cursos de cálculo.\n",
    "\n",
    "No contexto de métodos numéricos, séries são sempre usadas para representação de funções. E dessas, a série de Taylor aparece quase sempre como uma das representações preferidas, principalmente para funções diferenciáveis.\n",
    "\n",
    "Uma **expansão em série de Taylor** é uma representação de uma função como uma sequência de polinômios ao redor de um ponto, definida como\n",
    "\n",
    "$$\n",
    "f(x) = \\sum_{n = 0}^{\\infty} \\frac{f^{(n)}(a)(x-a)^n}{n!},\n",
    "$$\n",
    "\n",
    "sendo $a$ o ponto de avaliação dessa série, $f^{(n)}$ a $n$-ésima derivada da função $f$ e $f^{(0)}$ a função propriamente dita.\n",
    "\n",
    "Por exemplo, podemos verificar que a representação da função $f(x) = 5x^2 + 3x + 5$ usando série de Taylor é igual a própria função, avaliando-a para dois pontos distintos, no caso, $a = 0$, e $a = 1$. Nessa avaliação, vamos considerar somente os dois primeiros termos, uma vez que as derivadas de ordem igual ou superior a 3 são todas zero. \n",
    "\n",
    "Assim, expressando analiticamente, teríamos\n",
    "\n",
    "\\begin{eqnarray*}\n",
    "f(x) &=& 5x^2 + 3x + 5\\\\\n",
    "f^{\\prime}(x) &=& 10x + 3\\\\\n",
    "f''(x) &=& 10\n",
    "\\end{eqnarray*}\n",
    "\n",
    "Expandindo em série de Taylor, temos:\n",
    "\n",
    "$$\n",
    "f(x) = \\sum_{n = 0}^{\\infty} \\frac{f^{(n)}(a)(x-a)^n}{n!},\n",
    "$$\n",
    "\n",
    "* para o ponto a = 0:\n",
    "\n",
    "$$f(x) = \\frac{5x^0}{0!} + \\frac{3x^1}{1!} + \\frac{10x^2}{2!} + 0 + 0 + \\cdots = 5x^2 + 3x + 5\n",
    "$$\n",
    "\n",
    "* para o ponto a = 1:\n",
    "\n",
    "\\begin{eqnarray*}\n",
    "f(x) &=& \\frac{13(x-1)^0}{0!} + \\frac{13(x-1)^1}{1!} + \\frac{10(x-1)^2}{2!} + 0 + \\cdots\\\\\n",
    " &=& 13 + 13x - 13 + 5x^2 - 10x + 5 = 5x^2 + 3x + 5\n",
    "\\end{eqnarray*}\n",
    "\n",
    "ou seja, de fato a representação em série retorna sempre a mesma função original."
   ]
  },
  {
   "cell_type": "markdown",
   "metadata": {},
   "source": [
    "<div class=\"alert alert-block alert-info\" style=\"color:Blue;\" id=\"apx_taylor\">\n",
    "Aproximações com séries de Taylor\n",
    "</div>"
   ]
  },
  {
   "cell_type": "markdown",
   "metadata": {},
   "source": [
    "Obviamente, para computadores é impossível calcular infinitamente termos de uma série. Dessa forma, temos um problema quando usamos uma série infinita como a série de Taylor, para representar funções durante operações numéricas, uma vez que nem supercomputadores poderiam calcular \"ao infinito e além\". \n",
    "\n",
    "A solução para esse problema é bem simples: aproximação, isto é, considerar um número finito de termos da série para aproximar funções com um erro que consideremos satisfatório. Chamamos essa abordagem de **aproximação com séries de Taylor**. \n",
    "\n",
    "Essa técnica é especialmente poderosa quando há um ponto em torno do qual temos conhecimento sobre uma função para todas as suas derivadas. Por exemplo, para a expansão de Taylor de $e^x$ em $a = 0$, temos $f^{(n)}(a) = 1$ para todo $n$ e, nesse caso, nem calcular as derivadas nós precisaríamos!\n",
    "\n",
    "Obviamente o exemplo da exponencial é \"batizado\". Vamos considerar o caso da função seno, $f(x) = \\sin(x)$, cuja representação por série de Taylor é dada por\n",
    "\n",
    "$$f(x) = \\frac{\\sin(0)}{0!}x^0 + \\frac{\\cos(0)}{1!}x^1 + \\frac{-\\sin(0)}{2!}x^2 + \\frac{-\\cos(0)}{3!}x^3 + \\frac{\\sin(0)}{4!}x^4 + \\frac{\\cos(0)}{5!}x^5 + \\cdots = \\sum_{n = 0}^{\\infty} \\frac{(-1)^n x^{2n+1}}{(2n+1)!}$$\n",
    "\n",
    "Vamos visualizar como a função se mostra quando consideramos aproximações de múltiplas ordens (ou seja, quantidade de termos).\n",
    "\n",
    "Vamos primeiro criar um vetor para ser os valores de $x$ no qual vamos visualizar a função:"
   ]
  },
  {
   "cell_type": "code",
   "execution_count": 3,
   "metadata": {},
   "outputs": [
    {
     "data": {
      "text/plain": "array([-3.14159265, -3.11001886, -3.07844506, -3.04687127, -3.01529747,\n       -2.98372368, -2.95214988, -2.92057608, -2.88900229, -2.85742849,\n       -2.8258547 , -2.7942809 , -2.76270711, -2.73113331, -2.69955952,\n       -2.66798572, -2.63641193, -2.60483813, -2.57326433, -2.54169054,\n       -2.51011674, -2.47854295, -2.44696915, -2.41539536, -2.38382156,\n       -2.35224777, -2.32067397, -2.28910017, -2.25752638, -2.22595258,\n       -2.19437879, -2.16280499, -2.1312312 , -2.0996574 , -2.06808361,\n       -2.03650981, -2.00493602, -1.97336222, -1.94178842, -1.91021463,\n       -1.87864083, -1.84706704, -1.81549324, -1.78391945, -1.75234565,\n       -1.72077186, -1.68919806, -1.65762426, -1.62605047, -1.59447667,\n       -1.56290288, -1.53132908, -1.49975529, -1.46818149, -1.4366077 ,\n       -1.4050339 , -1.3734601 , -1.34188631, -1.31031251, -1.27873872,\n       -1.24716492, -1.21559113, -1.18401733, -1.15244354, -1.12086974,\n       -1.08929595, -1.05772215, -1.02614835, -0.99457456, -0.96300076,\n       -0.93142697, -0.89985317, -0.86827938, -0.83670558, -0.80513179,\n       -0.77355799, -0.74198419, -0.7104104 , -0.6788366 , -0.64726281,\n       -0.61568901, -0.58411522, -0.55254142, -0.52096763, -0.48939383,\n       -0.45782003, -0.42624624, -0.39467244, -0.36309865, -0.33152485,\n       -0.29995106, -0.26837726, -0.23680347, -0.20522967, -0.17365588,\n       -0.14208208, -0.11050828, -0.07893449, -0.04736069, -0.0157869 ,\n        0.0157869 ,  0.04736069,  0.07893449,  0.11050828,  0.14208208,\n        0.17365588,  0.20522967,  0.23680347,  0.26837726,  0.29995106,\n        0.33152485,  0.36309865,  0.39467244,  0.42624624,  0.45782003,\n        0.48939383,  0.52096763,  0.55254142,  0.58411522,  0.61568901,\n        0.64726281,  0.6788366 ,  0.7104104 ,  0.74198419,  0.77355799,\n        0.80513179,  0.83670558,  0.86827938,  0.89985317,  0.93142697,\n        0.96300076,  0.99457456,  1.02614835,  1.05772215,  1.08929595,\n        1.12086974,  1.15244354,  1.18401733,  1.21559113,  1.24716492,\n        1.27873872,  1.31031251,  1.34188631,  1.3734601 ,  1.4050339 ,\n        1.4366077 ,  1.46818149,  1.49975529,  1.53132908,  1.56290288,\n        1.59447667,  1.62605047,  1.65762426,  1.68919806,  1.72077186,\n        1.75234565,  1.78391945,  1.81549324,  1.84706704,  1.87864083,\n        1.91021463,  1.94178842,  1.97336222,  2.00493602,  2.03650981,\n        2.06808361,  2.0996574 ,  2.1312312 ,  2.16280499,  2.19437879,\n        2.22595258,  2.25752638,  2.28910017,  2.32067397,  2.35224777,\n        2.38382156,  2.41539536,  2.44696915,  2.47854295,  2.51011674,\n        2.54169054,  2.57326433,  2.60483813,  2.63641193,  2.66798572,\n        2.69955952,  2.73113331,  2.76270711,  2.7942809 ,  2.8258547 ,\n        2.85742849,  2.88900229,  2.92057608,  2.95214988,  2.98372368,\n        3.01529747,  3.04687127,  3.07844506,  3.11001886,  3.14159265])"
     },
     "execution_count": 3,
     "metadata": {},
     "output_type": "execute_result"
    }
   ],
   "source": [
    "x = np.linspace(-np.pi, np.pi, 200)\n",
    "x"
   ]
  },
  {
   "cell_type": "markdown",
   "metadata": {},
   "source": [
    "Vamos definir a função a partir da expressão da série de Taylor"
   ]
  },
  {
   "cell_type": "code",
   "execution_count": 4,
   "metadata": {},
   "outputs": [],
   "source": [
    "def T(x,n): return ((-1)**n * (x)**(2*n+1)) / np.math.factorial(2*n+1)"
   ]
  },
  {
   "cell_type": "markdown",
   "metadata": {},
   "source": [
    "E para poder vizualizar melhor, vamos fazer um pequeno artifício aqui. Nós vamos considerar os primeiros 4 termos válidos (1a., 3a. 5a. e 7a. ordem), e vamos calcular e plotar todo mundo dentro de um laço só"
   ]
  },
  {
   "cell_type": "code",
   "execution_count": 5,
   "metadata": {},
   "outputs": [
    {
     "data": {
      "text/plain": "<matplotlib.legend.Legend at 0x7f459d8cb850>"
     },
     "execution_count": 5,
     "metadata": {},
     "output_type": "execute_result"
    },
    {
     "data": {
      "text/plain": "<Figure size 720x576 with 1 Axes>",
      "image/png": "[encoded data removed]"
     },
     "metadata": {
      "needs_background": "light"
     },
     "output_type": "display_data"
    }
   ],
   "source": [
    "y = np.zeros(len(x))\n",
    "plt.figure(figsize = (10,8))\n",
    "for n,label in zip(range(4),['1a ordem', '3a ordem', '5a ordem', '7a ordem']):\n",
    "    y += T(x,n)\n",
    "    plt.plot(x,y, label = label)\n",
    "plt.plot(x, np.sin(x), 'k', label = 'Analítica')\n",
    "plt.grid()\n",
    "plt.xlabel('$x$')\n",
    "plt.ylabel('$f(x)$')\n",
    "plt.legend()"
   ]
  },
  {
   "cell_type": "markdown",
   "metadata": {},
   "source": [
    "<div class=\"alert alert-block alert-info\" style=\"color:Blue;\" id=\"erro_taylor\">\n",
    "Discussões sobre erros em aproximações com séries de Taylor\n",
    "</div>"
   ]
  },
  {
   "cell_type": "markdown",
   "metadata": {},
   "source": [
    "Obviamente, se consideramos um número finito de termos na aproximação por série de Taylor, acabaremos, salvo funções específicas, gerando erros, afinal estamos considerando somente parte de toda a representação. E como em tudo de métodos numéricos, teremos a incidência de erros de **truncamento** e erros de **arredondamento**.\n",
    "\n",
    "Os erros de arredondamento se devem à inexatidão na representação dos números reais em um computador e nas operações aritméticas feitas com eles. Embora os erros de truncamento sejam devidos à natureza aproximada do método usado, eles geralmente são causados pelo uso de uma aproximação no lugar de um procedimento matemático exato, como o uso da série de Taylor para aproximar uma função.\n",
    "\n",
    "Por exemplo, considere a função $e^x$:\n",
    "\n",
    "$$e^x = 1+x+\\frac{x^2}{2!} + \\frac{x^3}{3!} + \\frac{x^4}{4!} + \\dots$$\n",
    "\n",
    "Uma vez que é necessária a sequência infinita para aproximar a função, se pegarmos apenas alguns itens, teremos um erro de truncamento. Por exemplo, se usarmos apenas os primeiros 4 termos para aproximar $e^2$, teremos\n",
    "\n",
    "$$e^2 \\approx 1+2+\\frac{2^2}{2!} + \\frac{2^3}{3!} = 6.3333$$, \n",
    "\n",
    "que não é o valor mais exato pra representar essa função, se compararmos, por exemplo, com a aproximação feita pela função `np.exp()` da biblioteca Numpy.\n",
    "\n",
    "Para compararmos isso, podemos usar o código abaixo, gerando a representação de $e^2$ para diferentes ordens e comparando, ao final, com a função `np.exp()`."
   ]
  },
  {
   "cell_type": "code",
   "execution_count": 6,
   "metadata": {},
   "outputs": [
    {
     "name": "stdout",
     "output_type": "stream",
     "text": [
      "Usando 0 termo: 1.0\n",
      "Usando 1 termo: 3.0\n",
      "Usando 2 termo: 5.0\n",
      "Usando 3 termo: 6.333333333333333\n",
      "Usando 4 termo: 7.0\n",
      "Usando 5 termo: 7.266666666666667\n",
      "Usando 6 termo: 7.355555555555555\n",
      "Usando 7 termo: 7.3809523809523805\n",
      "Usando 8 termo: 7.387301587301587\n",
      "Usando 9 termo: 7.3887125220458545\n",
      "\n",
      "Usando a Numpy: 7.38905609893065\n"
     ]
    }
   ],
   "source": [
    "exp = 0\n",
    "x = 2\n",
    "for i in range(10):\n",
    "    exp += ((x**i)/np.math.factorial(i))\n",
    "    print(f'Usando {i} termo: {exp}')\n",
    "    \n",
    "print(f'\\nUsando a Numpy: {np.exp(2)}')"
   ]
  },
  {
   "cell_type": "markdown",
   "metadata": {},
   "source": [
    "E como mensurar esse erro? Entendendo que, considerando um número $n$ finito de termos da série, teremos\n",
    "\n",
    "$$ f(x) = f_n(x) + E_n(x) = \\sum_{k = 0}^{n} \\frac{f^{(k)}(a)(x-a)^k}{k!} + E_n(x)\n",
    "$$\n",
    "\n",
    "em que $E_n(x)$ é o erro computado como aprendemos!\n",
    "\n",
    "No caso aqui, em que \"conhecemos\" o valor final, é simples analisar. Bastaria comparar os valores, de preferencia de forma relativa. "
   ]
  },
  {
   "cell_type": "code",
   "execution_count": 7,
   "metadata": {},
   "outputs": [
    {
     "data": {
      "text/plain": "0.00810371797826992"
     },
     "execution_count": 7,
     "metadata": {},
     "output_type": "execute_result"
    }
   ],
   "source": [
    "Ea = np.abs(np.exp(2) - 7.3809523809523805)\n",
    "Ea"
   ]
  },
  {
   "cell_type": "markdown",
   "metadata": {},
   "source": [
    "Erro relativo quando conhecemos o valor real\n",
    "\n",
    "$$\n",
    "E_r = \\left|\\dfrac{v_r - v_a}{v_r}\\right| = \\left|1 - \\dfrac{v_a}{v_r}\\right|\n",
    "$$"
   ]
  },
  {
   "cell_type": "code",
   "execution_count": 8,
   "metadata": {},
   "outputs": [
    {
     "data": {
      "text/plain": "0.10967189678587896"
     },
     "execution_count": 8,
     "metadata": {},
     "output_type": "execute_result"
    }
   ],
   "source": [
    "Er = np.abs(1 - 7.3809523809523805/np.exp(2))*100\n",
    "Er"
   ]
  },
  {
   "cell_type": "markdown",
   "metadata": {},
   "source": [
    "E e não soubessemos esse valor que consideramos \"real\", como proceder? Calculando a diferença de forma iterativa!\n",
    "\n",
    "Erro relativo iterativo\n",
    "\n",
    "$$\n",
    "E_r = \\left|\\dfrac{v_{ant} - v_{atual}}{v_{ant}}\\right| = \\left|1 - \\dfrac{v_{atual}}{v_{ant}}\\right|\n",
    "$$"
   ]
  },
  {
   "cell_type": "code",
   "execution_count": 9,
   "metadata": {},
   "outputs": [],
   "source": [
    "exp = 0\n",
    "x = 2\n",
    "l = []\n",
    "for i in range(10):\n",
    "    exp += ((x**i)/np.math.factorial(i))\n",
    "    l.append(exp)"
   ]
  },
  {
   "cell_type": "code",
   "execution_count": 10,
   "metadata": {},
   "outputs": [
    {
     "data": {
      "text/plain": "array([1.        , 3.        , 5.        , 6.33333333, 7.        ,\n       7.26666667, 7.35555556, 7.38095238, 7.38730159, 7.38871252])"
     },
     "execution_count": 10,
     "metadata": {},
     "output_type": "execute_result"
    }
   ],
   "source": [
    "val = np.array(l)\n",
    "val"
   ]
  },
  {
   "cell_type": "markdown",
   "metadata": {},
   "source": [
    "$$\n",
    "E_r = \\left|\\dfrac{v_{ant} - v_{atual}}{v_{ant}}\\right| = \\left|1 - \\dfrac{v_{atual}}{v_{ant}}\\right|\n",
    "$$"
   ]
  },
  {
   "cell_type": "code",
   "execution_count": 11,
   "metadata": {},
   "outputs": [
    {
     "data": {
      "text/plain": "0.01909939621133671"
     },
     "execution_count": 11,
     "metadata": {},
     "output_type": "execute_result"
    }
   ],
   "source": [
    "Er = np.abs((7.38730159 - 7.38871252)/7.38730159)*100\n",
    "Er"
   ]
  },
  {
   "cell_type": "code",
   "execution_count": 11,
   "metadata": {},
   "outputs": [],
   "source": []
  },
  {
   "cell_type": "code",
   "execution_count": 11,
   "metadata": {},
   "outputs": [],
   "source": []
  },
  {
   "cell_type": "markdown",
   "metadata": {},
   "source": [
    "### Tira dúvidas do exercício"
   ]
  },
  {
   "cell_type": "code",
   "execution_count": 12,
   "metadata": {},
   "outputs": [],
   "source": [
    "## essa é a função exponencial; \n",
    "#usei pra não gerar expoiler e acabar com a graça\n",
    "def arc(x,n):\n",
    "    arco=0\n",
    "    l=[]\n",
    "    for i in range(n):\n",
    "        arco += ((x**i)/np.math.factorial(i))\n",
    "        l.append(arco)\n",
    "    return np.array(l)"
   ]
  },
  {
   "cell_type": "markdown",
   "metadata": {},
   "source": [
    "$$\n",
    "\\dfrac{\\pi}{4} = 4\\arctan \\frac{1}{5} - \\arctan \\frac{1}{239}\n",
    "$$"
   ]
  },
  {
   "cell_type": "code",
   "execution_count": 13,
   "metadata": {},
   "outputs": [
    {
     "data": {
      "text/plain": "(20,)"
     },
     "execution_count": 13,
     "metadata": {},
     "output_type": "execute_result"
    }
   ],
   "source": [
    "arctan1_5 = arc(1/5,20)\n",
    "arctan1_5.shape"
   ]
  },
  {
   "cell_type": "code",
   "execution_count": 14,
   "metadata": {},
   "outputs": [
    {
     "data": {
      "text/plain": "(20,)"
     },
     "execution_count": 14,
     "metadata": {},
     "output_type": "execute_result"
    }
   ],
   "source": [
    "arctan1_239 = arc(1/239,20)\n",
    "arctan1_239.shape"
   ]
  },
  {
   "cell_type": "markdown",
   "metadata": {},
   "source": [
    "$$\n",
    "\\dfrac{\\pi}{4} = 4\\arctan \\frac{1}{5} - \\arctan \\frac{1}{239}\n",
    "$$"
   ]
  },
  {
   "cell_type": "code",
   "execution_count": 15,
   "metadata": {},
   "outputs": [
    {
     "data": {
      "text/plain": "array([12.        , 15.1832636 , 15.50322858, 15.52456187, 15.52562854,\n       15.5256712 , 15.52567262, 15.52567267, 15.52567267, 15.52567267,\n       15.52567267, 15.52567267, 15.52567267, 15.52567267, 15.52567267,\n       15.52567267, 15.52567267, 15.52567267, 15.52567267, 15.52567267])"
     },
     "execution_count": 15,
     "metadata": {},
     "output_type": "execute_result"
    }
   ],
   "source": [
    "pi = 4*(4*arctan1_5 - arctan1_239)\n",
    "pi"
   ]
  }
 ],
 "metadata": {
  "kernelspec": {
   "display_name": "Python 3",
   "language": "python",
   "name": "python3"
  },
  "language_info": {
   "codemirror_mode": {
    "name": "ipython",
    "version": 3
   },
   "file_extension": ".py",
   "mimetype": "text/x-python",
   "name": "python",
   "nbconvert_exporter": "python",
   "pygments_lexer": "ipython3",
   "version": "3.8.5"
  }
 },
 "nbformat": 4,
 "nbformat_minor": 4
}