{
 "cells": [
  {
   "cell_type": "markdown",
   "metadata": {},
   "source": [
    "# <center>__MÉTODOS NUMÉRICOS__</center>\n",
    "## <center>__PROJETO DA UNIDADE 2__</center>\n",
    "\n",
    "#### <center>__ALUNO:__</center>"
   ]
  },
  {
   "cell_type": "markdown",
   "metadata": {},
   "source": [
    "<div class=\"alert alert-block alert-info\">\n",
    "1. INTRODUÇÃO\n",
    "</div>"
   ]
  },
  {
   "cell_type": "markdown",
   "metadata": {},
   "source": [
    "Nesse relatório irei analisar um notebook de remoção de fundo de imagens com PCA Robusto. Essa técnica é muito importante atualmente para analise de imagens em várias áreas (e para remover objetos indesejados de uma foto muito bonita que você nunca vai tirar igual).\n",
    "\n",
    "Notas:\n",
    "Tive vários problemas ao executar o notebook pois algumas bibliotecas que ele usava estavam muito desatualizadas e por isso precisei fazer alguns ajustes que estão listados abaixo:\n",
    "- Precisei atualizar as seguintes bibliotecas:\n",
    "```\n",
    "pip3 install scipy==1.7.2\n",
    "\n",
    "pip3 install pillow==9.0.1\n",
    "\n",
    "pip3 install moviepy==1.0.3\n",
    "\n",
    "pip3 install ipython==8.1.1\n",
    "```\n",
    "- Os links dos vídeos estavam quebrados então precisei baixar direto do notebook.\n",
    "- Também refatorei alguns métodos por conta da quebra de contratos com as bibliotecas citadas acima, mas mostrarei isso no decorrer do relatório."
   ]
  },
  {
   "cell_type": "markdown",
   "metadata": {},
   "source": [
    "<div class=\"alert alert-block alert-info\">\n",
    "2. DESCRIÇÃO DO PROBLEMA\n",
    "</div>"
   ]
  },
  {
   "cell_type": "markdown",
   "metadata": {},
   "source": [
    "Conseguimos resolver inumeros problemas usando SVD, e a limpeza de imagens/vídeos é um deles. O nosso problema é básicamente remover ruidos de um conjunto de imagens, e tentar manter a integridade dessas imagens a ponto que possamos reconhecer a nova imagem quando comparada com a original.\n",
    "Atualmente existem outros métodos mais sofisticados e complexos que o SVD para realizar essa tarefa, mas mesmo assim o SVD se mostrou muito bom nesse estudo, removendo muito bem algumas pessoas do vídeo disponibilizado no notebook.\n",
    "É importante salientar que trabalhei apenas com os quadros do vídeo, e não com seu áudio. Para isso, quebrei o vídeo em quadros e executei os processos em cada quadro de forma iterativa."
   ]
  },
  {
   "cell_type": "markdown",
   "metadata": {},
   "source": [
    "<div class=\"alert alert-block alert-info\">\n",
    "3. MÉTODOS APLICADOS À SOLUÇÃO\n",
    "</div>"
   ]
  },
  {
   "cell_type": "markdown",
   "metadata": {},
   "source": [
    "### SVD\n",
    "A decomposição de valores singulares de uma matriz é uma maneira de diagonizar a sua matriz e esse método pode ser utilizado para **quaisquer** matrizes (sendo quadradas ou não). É uma forma de \"fatorar\" a matriz em outros elementos com caracteristicas únicas.\n",
    "Formulá:\n",
    "- $M=U\\Sigma V^*$\n",
    "- U = Mátriz Unitária\n",
    "- $\\Sigma$ = matriz diagonal do tamanho de M com números reais não negativos.\n",
    "- $V^*$ = Vatriz unitária transposta conjugada de V\n",
    "\n",
    "Para essa aplicação, o SVD é usado junto com a _aproximação de baixo posto_ (low rank).\n",
    "![Explicação sobre SVD](https://raw.githubusercontent.com/arthur-mts/metodos-numericos/master/projeto/Projeto%20B/data/2022-03-14_21-47.png)\n",
    "Como podemos ver no recorte acima, cada componente gerado pelo SVD tem a sua caracteristica referente ao conceito da matriz orignal.\n",
    "\n",
    "### Aproximação de baixo posto\n",
    "A aproximação de baixo posto é um problema de optimização matemática.\n",
    "Na matemática, um problema de otimização consiste em selecionar o melhor elemento de um conjunto a partir de um determinado critério.\n",
    "No low rank, tentamos otimizar a nossa matriz A de rank K para conseguirmos matrizes de colunas e linhas que, quando multiplicadas, nos da uma matriz B que é tão proxima quanto desejado da matriz A original.\n",
    "$B\\approx AX$\n",
    "$B\\approx A(A^t A)^{-1}A^t B$\n",
    "\n",
    "Nesse contexto, o SVD cai como uma luva nos mostrando os melhores candidatos as matrizes A e B, além do vetor singular da matriz $\\Sigma$, nos dando uma matriz aproximada B com o mesmo rank K da matriz A.\n",
    "Seguem os vídeos de referência para o estudo da Aproximação de baixo posto:\n",
    "[Link1](https://www.youtube.com/watch?v=12K5aydB9cQ)\n",
    "[Link2](https://www.youtube.com/watch?v=c7e-D2tmRE0)"
   ]
  },
  {
   "cell_type": "markdown",
   "metadata": {},
   "source": [
    "<div class=\"alert alert-block alert-info\">\n",
    "4. IMPLEMENTAÇÃO\n",
    "</div>"
   ]
  },
  {
   "cell_type": "markdown",
   "source": [
    "Primeiro, iremos processar o vídeo de exemplo do notebook e extrair os frames."
   ],
   "metadata": {
    "collapsed": false,
    "pycharm": {
     "name": "#%% md\n"
    }
   }
  },
  {
   "cell_type": "code",
   "execution_count": 11,
   "outputs": [],
   "source": [
    "import moviepy.editor as mpe\n",
    "from IPython.display import display\n",
    "from glob import glob\n",
    "import numpy as np\n",
    "import scipy.misc\n",
    "import scipy.ndimage\n",
    "import os\n",
    "import scipy\n",
    "from PIL import Image\n",
    "%matplotlib inline\n",
    "import matplotlib.pyplot as plt\n",
    "from urllib.request import urlopen\n",
    "TOL = 1.0e-8"
   ],
   "metadata": {
    "collapsed": false,
    "pycharm": {
     "name": "#%%\n"
    }
   }
  },
  {
   "cell_type": "code",
   "execution_count": 12,
   "outputs": [],
   "source": [
    "video = mpe.VideoFileClip(\"/home/arthur/workspace/ifpb/metodos-numericos/projeto/Projeto B/data/download.mp4\")"
   ],
   "metadata": {
    "collapsed": false,
    "pycharm": {
     "name": "#%%\n"
    }
   }
  },
  {
   "cell_type": "markdown",
   "source": [
    "Esse método transforma um frame do vídeo passado em um frame de tons cinzas, o que facilitara na nossa analise."
   ],
   "metadata": {
    "collapsed": false,
    "pycharm": {
     "name": "#%% md\n"
    }
   }
  },
  {
   "cell_type": "code",
   "execution_count": 13,
   "outputs": [],
   "source": [
    "def rgb2gray(rgb):\n",
    "    return np.dot(rgb[...,:3], [0.299, 0.587, 0.114])"
   ],
   "metadata": {
    "collapsed": false,
    "pycharm": {
     "name": "#%%\n"
    }
   }
  },
  {
   "cell_type": "code",
   "execution_count": 14,
   "outputs": [],
   "source": [
    "def create_data_matrix_from_video(clip, fps=5, scale=50):\n",
    "    res = []\n",
    "    new_width = int(clip.size[0] * (scale/100))\n",
    "    new_heigth = int(clip.size[1] * (scale/100))\n",
    "    for i in range(fps * int(clip.duration)):\n",
    "        gray_frame = rgb2gray(clip.get_frame(i / float(fps)))\n",
    "        resized_frame = Image.fromarray(gray_frame).resize((new_width,new_heigth),resample=Image.NEAREST)\n",
    "        res.append(np.array(resized_frame).flatten())\n",
    "\n",
    "    return np.vstack(res).T"
   ],
   "metadata": {
    "collapsed": false,
    "pycharm": {
     "name": "#%%\n"
    }
   }
  },
  {
   "cell_type": "markdown",
   "source": [
    "Esse método cria um array de matrizes a partir de um vídeo, recebendo como parametro os frames que serao extraidos por segundo e a escala.\n",
    "Estou usando a biblioteca pillow pois os métodos do notebook original foram deprecados."
   ],
   "metadata": {
    "collapsed": false,
    "pycharm": {
     "name": "#%% md\n"
    }
   }
  },
  {
   "cell_type": "code",
   "execution_count": 15,
   "outputs": [],
   "source": [
    "def plt_images(M, A, E, index_array, dims, filename=None):\n",
    "    f = plt.figure(figsize=(15, 10))\n",
    "    r = len(index_array)\n",
    "    pics = r * 3\n",
    "    for k, i in enumerate(index_array):\n",
    "        for j, mat in enumerate([M, A, E]):\n",
    "            sp = f.add_subplot(r, 3, 3*k + j + 1)\n",
    "            sp.axis('Off')\n",
    "            pixels = mat[:,i]\n",
    "            if isinstance(pixels, scipy.sparse.csr_matrix):\n",
    "                pixels = pixels.todense()\n",
    "            plt.imshow(np.reshape(pixels, dims), cmap='gray')\n",
    "    return f\n",
    "\n",
    "\n",
    "def plots(ims, dims, figsize=(15,20), rows=1, interp=False, titles=None):\n",
    "    if type(ims[0]) is np.ndarray:\n",
    "        ims = np.array(ims)\n",
    "    f = plt.figure(figsize=figsize)\n",
    "    for i in range(len(ims)):\n",
    "        sp = f.add_subplot(rows, len(ims)//rows, i+1)\n",
    "        sp.axis('Off')\n",
    "        plt.imshow(np.reshape(ims[i], dims), cmap=\"gray\")"
   ],
   "metadata": {
    "collapsed": false,
    "pycharm": {
     "name": "#%%\n"
    }
   }
  },
  {
   "cell_type": "markdown",
   "source": [
    "Método utilitario para plotar todas as imagens de uma lista."
   ],
   "metadata": {
    "collapsed": false,
    "pycharm": {
     "name": "#%% md\n"
    }
   }
  },
  {
   "cell_type": "markdown",
   "metadata": {},
   "source": [
    "<div class=\"alert alert-block alert-info\">\n",
    "5. CASOS DE USO\n",
    "</div>"
   ]
  },
  {
   "cell_type": "markdown",
   "metadata": {},
   "source": [
    "Primeiramente irei rodar o projeto com o vídeo disponibilizado no notebook."
   ]
  },
  {
   "cell_type": "code",
   "execution_count": 16,
   "outputs": [],
   "source": [
    "scale = 50   # Adjust scale to change resolution of image\n",
    "dims = (int(240 * (scale/100)), int(320 * (scale/100)))"
   ],
   "metadata": {
    "collapsed": false,
    "pycharm": {
     "name": "#%%\n"
    }
   }
  },
  {
   "cell_type": "code",
   "execution_count": null,
   "outputs": [],
   "source": [
    "M = create_data_matrix_from_video(video, 100, scale)"
   ],
   "metadata": {
    "collapsed": false,
    "pycharm": {
     "name": "#%%\n",
     "is_executing": true
    }
   }
  },
  {
   "cell_type": "markdown",
   "source": [
    "Vamos mostrar um quadro para ver se esta tudo certo:"
   ],
   "metadata": {
    "collapsed": false,
    "pycharm": {
     "name": "#%% md\n"
    }
   }
  },
  {
   "cell_type": "code",
   "execution_count": null,
   "outputs": [],
   "source": [
    "plt.imshow(np.reshape(M[:,140], dims), cmap='gray');"
   ],
   "metadata": {
    "collapsed": false,
    "pycharm": {
     "name": "#%%\n",
     "is_executing": true
    }
   }
  },
  {
   "cell_type": "markdown",
   "source": [
    "Também vamos salvar a matriz M para evitar ter que recomputar os dados."
   ],
   "metadata": {
    "collapsed": false,
    "pycharm": {
     "name": "#%% md\n"
    }
   }
  },
  {
   "cell_type": "code",
   "execution_count": null,
   "outputs": [],
   "source": [
    "np.save(\"low_res_surveillance_matrix.npy\", M)"
   ],
   "metadata": {
    "collapsed": false,
    "pycharm": {
     "name": "#%%\n",
     "is_executing": true
    }
   }
  },
  {
   "cell_type": "markdown",
   "source": [
    "Primeiramente iremos usar o método randomized_svd da biblioteca decomposition para calcular os valores do SVD e com isso o low_rank da matriz."
   ],
   "metadata": {
    "collapsed": false,
    "pycharm": {
     "name": "#%% md\n"
    }
   }
  },
  {
   "cell_type": "markdown",
   "source": [
    "Vamos tentar com rank 2. Dependendo da esacla em que criamos a matriz M, pode demorar bastante..."
   ],
   "metadata": {
    "collapsed": false,
    "pycharm": {
     "name": "#%% md\n"
    }
   }
  },
  {
   "cell_type": "code",
   "execution_count": null,
   "outputs": [],
   "source": [
    "from sklearn import decomposition"
   ],
   "metadata": {
    "collapsed": false,
    "pycharm": {
     "name": "#%%\n",
     "is_executing": true
    }
   }
  },
  {
   "cell_type": "code",
   "execution_count": null,
   "outputs": [],
   "source": [
    "u, s, v = decomposition.randomized_svd(M, 2)"
   ],
   "metadata": {
    "collapsed": false,
    "pycharm": {
     "name": "#%%\n",
     "is_executing": true
    }
   }
  },
  {
   "cell_type": "code",
   "execution_count": null,
   "outputs": [],
   "source": [
    "low_rank = u @ np.diag(s) @ v"
   ],
   "metadata": {
    "collapsed": false,
    "pycharm": {
     "name": "#%%\n",
     "is_executing": true
    }
   }
  },
  {
   "cell_type": "code",
   "execution_count": null,
   "outputs": [],
   "source": [
    "low_rank.shape"
   ],
   "metadata": {
    "collapsed": false,
    "pycharm": {
     "name": "#%%\n",
     "is_executing": true
    }
   }
  },
  {
   "cell_type": "code",
   "execution_count": null,
   "outputs": [],
   "source": [
    "M.shape"
   ],
   "metadata": {
    "collapsed": false,
    "pycharm": {
     "name": "#%%\n",
     "is_executing": true
    }
   }
  },
  {
   "cell_type": "markdown",
   "source": [
    "Imagem gerada pelo low rank do SVD, com os objetos removidos (pessoas). O SVD consegue identificar similaridades na matriz e assim gerar uma matriz sem esses ruidos."
   ],
   "metadata": {
    "collapsed": false,
    "pycharm": {
     "name": "#%% md\n"
    }
   }
  },
  {
   "cell_type": "code",
   "execution_count": null,
   "outputs": [],
   "source": [
    "plt.imshow(np.reshape(low_rank[:,140], dims), cmap='gray')"
   ],
   "metadata": {
    "collapsed": false,
    "pycharm": {
     "name": "#%%\n",
     "is_executing": true
    }
   }
  },
  {
   "cell_type": "markdown",
   "source": [
    "Para removermos o fundo da imagem, basta subtrair a matriz de quadros orignal (M) pelo o resultado alcançado do low_rank, com isso restarão os quadros que foram removidos pelo SVD já que as duas matrizes tem as mesmas dimensões e ela não ficará distorcida."
   ],
   "metadata": {
    "collapsed": false,
    "pycharm": {
     "name": "#%% md\n"
    }
   }
  },
  {
   "cell_type": "code",
   "execution_count": null,
   "outputs": [],
   "source": [
    "plt.imshow(np.reshape(M[:,140] - low_rank[:,140], dims), cmap='gray')"
   ],
   "metadata": {
    "collapsed": false,
    "pycharm": {
     "name": "#%%\n",
     "is_executing": true
    }
   }
  },
  {
   "cell_type": "markdown",
   "source": [
    "Vamos tentar o mesmo processo, agora com o rank 1:"
   ],
   "metadata": {
    "collapsed": false,
    "pycharm": {
     "name": "#%% md\n"
    }
   }
  },
  {
   "cell_type": "code",
   "execution_count": null,
   "outputs": [],
   "source": [
    "u, s, v = decomposition.randomized_svd(M, 1)\n",
    "low_rank = u @ np.diag(s) @ v"
   ],
   "metadata": {
    "collapsed": false,
    "pycharm": {
     "name": "#%%\n",
     "is_executing": true
    }
   }
  },
  {
   "cell_type": "code",
   "execution_count": null,
   "outputs": [],
   "source": [
    "plt.imshow(np.reshape(low_rank[:,111], dims), cmap='gray')"
   ],
   "metadata": {
    "collapsed": false,
    "pycharm": {
     "name": "#%%\n",
     "is_executing": true
    }
   }
  },
  {
   "cell_type": "code",
   "execution_count": null,
   "outputs": [],
   "source": [
    "plt.imshow(np.reshape(M[:,111] - low_rank[:,111], dims), cmap='gray');"
   ],
   "metadata": {
    "collapsed": false,
    "pycharm": {
     "name": "#%%\n",
     "is_executing": true
    }
   }
  },
  {
   "cell_type": "code",
   "execution_count": null,
   "outputs": [],
   "source": [
    "plt.imshow(np.reshape(M[:, 111] - low_rank[:, 111], dims)[50:150, 100:270], cmap='gray');"
   ],
   "metadata": {
    "collapsed": false,
    "pycharm": {
     "name": "#%%\n",
     "is_executing": true
    }
   }
  },
  {
   "cell_type": "markdown",
   "source": [
    "Zoom para visualizzarmos melhor os resultados:"
   ],
   "metadata": {
    "collapsed": false,
    "pycharm": {
     "name": "#%% md\n"
    }
   }
  },
  {
   "cell_type": "markdown",
   "source": [
    "Agora vamos executar com o Robust PCA"
   ],
   "metadata": {
    "collapsed": false,
    "pycharm": {
     "name": "#%% md\n"
    }
   }
  },
  {
   "cell_type": "code",
   "execution_count": null,
   "outputs": [],
   "source": [
    "from scipy import sparse\n",
    "from sklearn.utils.extmath import randomized_svd\n",
    "import fbpca\n",
    "TOL=1e-9\n",
    "MAX_ITERS=3\n",
    "def converged(Z, d_norm):\n",
    "    err = np.linalg.norm(Z, 'fro') / d_norm\n",
    "    print('error: ', err)\n",
    "    return err < TOL\n",
    "def shrink(M, tau):\n",
    "    S = np.abs(M) - tau\n",
    "    return np.sign(M) * np.where(S>0, S, 0)\n",
    "def _svd(M, rank): return fbpca.pca(M, k=min(rank, np.min(M.shape)), raw=True)\n",
    "def norm_op(M): return _svd(M, 1)[1][0]\n",
    "def svd_reconstruct(M, rank, min_sv):\n",
    "    u, s, v = _svd(M, rank)\n",
    "    s -= min_sv\n",
    "    nnz = (s > 0).sum()\n",
    "    return u[:,:nnz] @ np.diag(s[:nnz]) @ v[:nnz], nnz\n",
    "def pcp(X, maxiter=10, k=10): # refactored\n",
    "    m, n = X.shape\n",
    "    trans = m<n\n",
    "    if trans: X = X.T; m, n = X.shape\n",
    "\n",
    "    lamda = 1/np.sqrt(m)\n",
    "    op_norm = norm_op(X)\n",
    "    Y = np.copy(X) / max(op_norm, np.linalg.norm( X, np.inf) / lamda)\n",
    "    mu = k*1.25/op_norm; mu_bar = mu * 1e7; rho = k * 1.5\n",
    "\n",
    "    d_norm = np.linalg.norm(X, 'fro')\n",
    "    L = np.zeros_like(X); sv = 1\n",
    "\n",
    "    examples = []\n",
    "\n",
    "    for i in range(maxiter):\n",
    "        print(\"rank sv:\", sv)\n",
    "        X2 = X + Y/mu\n",
    "\n",
    "        # update estimate of Sparse Matrix by \"shrinking/truncating\": original - low-rank\n",
    "        S = shrink(X2 - L, lamda/mu)\n",
    "\n",
    "        # update estimate }of Low-rank Matrix by doing truncated SVD of rank sv & reconstructing.\n",
    "        # count of singular values > 1/mu is returned as svp\n",
    "        L, svp = svd_reconstruct(X2 - S, sv, 1/mu)\n",
    "\n",
    "        # If svp < sv, you are already calculating enough singular values.\n",
    "        # If not, add 20% (in this case 240) to sv\n",
    "        sv = svp + (1 if svp < sv else round(0.05*n))\n",
    "\n",
    "        # residual\n",
    "        Z = X - L - S\n",
    "        Y += mu*Z; mu *= rho\n",
    "\n",
    "        examples.extend([S[140,:], L[140,:]])\n",
    "\n",
    "        if m > mu_bar: m = mu_bar\n",
    "        if converged(Z, d_norm): break\n",
    "\n",
    "    if trans: L=L.T; S=S.T\n",
    "    return L, S, examples"
   ],
   "metadata": {
    "collapsed": false,
    "pycharm": {
     "name": "#%%\n",
     "is_executing": true
    }
   }
  },
  {
   "cell_type": "code",
   "execution_count": null,
   "outputs": [],
   "source": [
    "m, n = M.shape\n",
    "round(m * .05)"
   ],
   "metadata": {
    "collapsed": false,
    "pycharm": {
     "name": "#%%\n",
     "is_executing": true
    }
   }
  },
  {
   "cell_type": "code",
   "execution_count": null,
   "outputs": [],
   "source": [
    "L, S, examples =  pcp(M, maxiter=3, k=10)\n",
    "plots(examples, dims, rows=5)"
   ],
   "metadata": {
    "collapsed": false,
    "pycharm": {
     "name": "#%%\n",
     "is_executing": true
    }
   }
  }
 ],
 "metadata": {
  "kernelspec": {
   "display_name": "Python 3",
   "language": "python",
   "name": "python3"
  },
  "language_info": {
   "codemirror_mode": {
    "name": "ipython",
    "version": 3
   },
   "file_extension": ".py",
   "mimetype": "text/x-python",
   "name": "python",
   "nbconvert_exporter": "python",
   "pygments_lexer": "ipython3",
   "version": "3.8.5"
  }
 },
 "nbformat": 4,
 "nbformat_minor": 4
}