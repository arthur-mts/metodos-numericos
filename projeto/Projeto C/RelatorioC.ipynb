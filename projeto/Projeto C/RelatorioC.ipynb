{
 "cells": [
  {
   "cell_type": "markdown",
   "metadata": {},
   "source": [
    "# <center>__MÉTODOS NUMÉRICOS__</center>\n",
    "## <center>__PROJETO DA UNIDADE 2__</center>\n",
    "## <center>__TEMA: PageRank com Decomposições em Auto valores e Auto vetores__</center>\n",
    "#### <center>__ALUNO: Arthur Mauricio Thomaz Soares__</center>"
   ]
  },
  {
   "cell_type": "markdown",
   "metadata": {},
   "source": [
    "<div class=\"alert alert-block alert-info\">\n",
    "1. INTRODUÇÃO\n",
    "</div>"
   ]
  },
  {
   "cell_type": "markdown",
   "metadata": {},
   "source": [
    "O algoritmo usado no notebook de exemplo se baseia nos conceitos de SVD e Decomposição de Eigen, da disciplina de métodos numericos.\n",
    "A partir desses métodos de decomposição de matrizes, o autor busca aplica-lós buscando extrair as correlações de páginas da Wikipédia e os seus respectivos links, calculando a \"impotância\" de um artigo a partir da sua correlação com outros artigos. Para isso, é usada uma matriz de adjacencia que interliga o artigo com seus respectivos links.\n",
    "Estudando esse notebook e pesquisando sobre o assunto, é interessante ver a variedade de informações que podemos tirar de matrizes bem montadas e organizadas com os métodos de decomposição. Por exemplo, nesse [link]() é mostrado que podemos facilmente extrair a correlação de posts a partir de suas palavras apenas usando SVD"
   ]
  },
  {
   "cell_type": "markdown",
   "metadata": {},
   "source": [
    "<div class=\"alert alert-block alert-info\">\n",
    "2. DESCRIÇÃO DO PROBLEMA\n",
    "</div>"
   ]
  },
  {
   "cell_type": "markdown",
   "metadata": {},
   "source": [
    "O problema apresentado no notebook é o \"PageRank\", que é básicamente a categorização de páginas web que é muito importante hoje em dia para empresas como o Google.\n",
    "Com o PageRank, podemos encontrar de forma mais fácil e rápida páginas relacionadas a um assunto que buscamos, e páginas mais relevantes ao assunto desejado em menos tempo.\n",
    "Para esse page rank, o programa acessa páginas da Wikipédia a partir de um arquivo com as informações dessas páginas já sumarizadas disponível na DBPédia.\n",
    "A partir de métodos que serão explicados nos próximos tópicos, conseguimos classificar páginas por sua \"importância\" (calculada a partir das ligações dessa página com outras)."
   ]
  },
  {
   "cell_type": "markdown",
   "metadata": {},
   "source": [
    "<div class=\"alert alert-block alert-info\">\n",
    "3. MÉTODOS APLICADOS À SOLUÇÃO\n",
    "</div>"
   ]
  },
  {
   "cell_type": "markdown",
   "metadata": {},
   "source": [
    "### SVD\n",
    "A decomposição de valores singulares de uma matriz é uma maneira de diagonizar a sua matriz e esse método pode ser utilizado para **quaisquer** matrizes (sendo quadradas ou não).\n",
    "Formulá:\n",
    "\n",
    "- $M=U\\Sigma V^*$\n",
    "\n",
    "- U = Mátriz Unitária\n",
    "\n",
    "- $\\Sigma$ = matriz diagonal do tamanho de M com números reais não negativos.\n",
    "\n",
    "$V^*$ = Vatriz unitária transposta conjugada de V\n",
    "### Decomposição de Eigen\n",
    "A decomposição de Eigen usa uma transformação linear para extrair um **eigenvector** da matriz, que também pode ser chamado de “característica do vetor”. Essa característica é calculada usando uma escalar $\\lambda$, essa escalar é chamada **eigenvalue**.\n",
    "\n",
    "$T(v) = \\lambda v$\n",
    "\n",
    "- T = transformação linear\n",
    "- v = eigenvector de uma matriz A\n",
    "- $\\lambda$ = eigenvalue do vétor v\n",
    "\n",
    "\n",
    "### Power Method\n",
    "O Power Method é usado para encontrar um eigenvalue dominante e eigenvector para uma matriz n * n. Para isso, ele itera sobre um valor p para encontrar o $\\lambda_1$ mais proximo do eigenvalue definitivo.\n",
    "[Explicação do Power Method](https://www.youtube.com/watch?v=_PDyi5BVY-E)"
   ]
  },
  {
   "cell_type": "markdown",
   "metadata": {},
   "source": [
    "<div class=\"alert alert-block alert-info\">\n",
    "4. IMPLEMENTAÇÃO\n",
    "</div>"
   ]
  },
  {
   "cell_type": "markdown",
   "metadata": {},
   "source": [
    "Inicialmente, o autor mostra algumas formas de medirmos processos do sistema operacional com Python, para facilitar o debug do nosso notebook. Para isso usamos as libs:\n",
    "- tqdm\n",
    "- sleep\n",
    "- os\n",
    "Além dessas bibliotecas também usamos o velho amigo numpy, scipy e o bz2 que serve para descomprimir os arquivos do DBPedia."
   ]
  },
  {
   "cell_type": "markdown",
   "source": [
    "Para motivos de exemplificação, eu vou usar os arquivos de redirects e de links apenas da linguagem pt-BR, pois não consegui fazer o download dos arquivos completos da DBPédia."
   ],
   "metadata": {
    "collapsed": false,
    "pycharm": {
     "name": "#%% md\n"
    }
   }
  },
  {
   "cell_type": "code",
   "execution_count": 103,
   "outputs": [],
   "source": [
    "PATH = 'data/dbpedia/'\n",
    "filenames = [\"redirects_br.nt\", \"page_links_br.nt\"]"
   ],
   "metadata": {
    "collapsed": false,
    "pycharm": {
     "name": "#%%\n"
    }
   }
  },
  {
   "cell_type": "code",
   "execution_count": 104,
   "outputs": [],
   "source": [
    "import os, numpy as np, pickle\n",
    "from bz2 import BZ2File\n",
    "from datetime import datetime\n",
    "from pprint import pprint\n",
    "from time import time\n",
    "import tqdm.notebook as tqdm\n",
    "from scipy import sparse\n",
    "\n",
    "from urllib.request import urlopen"
   ],
   "metadata": {
    "collapsed": false,
    "pycharm": {
     "name": "#%%\n"
    }
   }
  },
  {
   "cell_type": "markdown",
   "source": [
    "Fazemos o download de arquivos comprimidos do DBPedia, que contem os dados da Wikipedia normalizados para análise.\n",
    "Os arquivos são grandes e o servidor não é muito rápido, então o download demora bastante.\n",
    "Por isso vamos usar arquivos com os dados parciais."
   ],
   "metadata": {
    "collapsed": false,
    "pycharm": {
     "name": "#%% md\n"
    }
   }
  },
  {
   "cell_type": "code",
   "execution_count": 105,
   "outputs": [],
   "source": [
    "PATH = 'data/dbpedia/'\n",
    "URL_BASE = 'http://downloads.dbpedia.org/3.8/br/'\n",
    "filenames = [\"redirects_br.nt.bz2\", \"page_links_br.nt.bz2\"]\n",
    "\n",
    "for filename in filenames:\n",
    "    if not os.path.exists(PATH+filename):\n",
    "        print(\"Downloading '%s', please wait...\" % filename)\n",
    "        open(PATH+filename, 'wb').write(urlopen(URL_BASE+filename).read())"
   ],
   "metadata": {
    "collapsed": false,
    "pycharm": {
     "name": "#%%\n"
    }
   }
  },
  {
   "cell_type": "markdown",
   "source": [
    "Com os arquivos baixados, vamos criar uma matriz de adjacencia com as paginas e seus respectivos links.\n",
    "É importante salientar que as linhas do arquivo são do tipo:\n",
    "```\n",
    "<http://dbpedia.org/resource/AfghanistanHistory> <http://dbpedia.org/property/redirect>\n",
    "<http://dbpedia.org/resource/History_of_Afghanistan>\n",
    "```"
   ],
   "metadata": {
    "collapsed": false,
    "pycharm": {
     "name": "#%% md\n"
    }
   }
  },
  {
   "cell_type": "code",
   "source": [
    "redirects_filename = PATH + filenames[0]\n",
    "page_links_filename = PATH + filenames[1]\n",
    "\n",
    "DBPEDIA_RESOURCE_PREFIX_LEN = len(\"http://br.dbpedia.org/resource/\")\n",
    "SLICE = slice(DBPEDIA_RESOURCE_PREFIX_LEN + 1, -1)\n",
    "\n",
    "# Removendo primeira e ultima linha por motivos de limpeza de dados\n",
    "def get_lines(filename): return (line.split() for line in BZ2File(filename))\n",
    "\n",
    "\n",
    "def get_redirect(targ, redirects):\n",
    "    seen = set()\n",
    "    while True:\n",
    "        transitive_targ = targ\n",
    "        targ = redirects.get(targ)\n",
    "        if targ is None or targ in seen: break\n",
    "        seen.add(targ)\n",
    "    return transitive_targ\n",
    "\n",
    "\n",
    "def get_redirects(redirects_filename):\n",
    "    redirects = {}\n",
    "    lines = get_lines(redirects_filename)\n",
    "    res = {}\n",
    "    #for src, _, targ, _ in tqdm.tqdm(lines):\n",
    "    for arr in tqdm.tqdm(lines):\n",
    "        key = arr[0][SLICE].decode(\"utf-8\")\n",
    "        res[key] = get_redirect(arr[2][SLICE].decode(\"utf-8\"), redirects)\n",
    "    return res\n",
    "\n",
    "\n",
    "redirects = get_redirects(redirects_filename)\n",
    "len(redirects)"
   ],
   "metadata": {
    "collapsed": false,
    "pycharm": {
     "name": "#%%\n"
    }
   },
   "execution_count": 106,
   "outputs": [
    {
     "data": {
      "text/plain": "0it [00:00, ?it/s]",
      "application/vnd.jupyter.widget-view+json": {
       "version_major": 2,
       "version_minor": 0,
       "model_id": "73addf84eead4ecc9b2860e8802d3e84"
      }
     },
     "metadata": {},
     "output_type": "display_data"
    },
    {
     "data": {
      "text/plain": "14675"
     },
     "execution_count": 106,
     "metadata": {},
     "output_type": "execute_result"
    }
   ]
  },
  {
   "cell_type": "markdown",
   "source": [
    "Com o dicionario criado, iremos criar um dicionario auxiliar para guardar o link e seu respectivo ID."
   ],
   "metadata": {
    "collapsed": false,
    "pycharm": {
     "name": "#%% md\n"
    }
   }
  },
  {
   "cell_type": "code",
   "execution_count": 107,
   "outputs": [],
   "source": [
    "def add_item(lst, redirects, index_map, item):\n",
    "    k = item[SLICE]\n",
    "    redirect_target = redirects.get(k)\n",
    "    res = True\n",
    "    if redirect_target is None:\n",
    "        res = False\n",
    "        redirect_target = k\n",
    "    update_index_map = index_map.setdefault(redirect_target, len(index_map))\n",
    "    lst.append(update_index_map)\n",
    "    return res"
   ],
   "metadata": {
    "collapsed": false,
    "pycharm": {
     "name": "#%%\n"
    }
   }
  },
  {
   "cell_type": "code",
   "execution_count": 108,
   "outputs": [
    {
     "data": {
      "text/plain": "0it [00:00, ?it/s]",
      "application/vnd.jupyter.widget-view+json": {
       "version_major": 2,
       "version_minor": 0,
       "model_id": "6620cd8e02374b21be6f983f5b8fd666"
      }
     },
     "metadata": {},
     "output_type": "display_data"
    },
    {
     "data": {
      "text/plain": "1064862"
     },
     "execution_count": 108,
     "metadata": {},
     "output_type": "execute_result"
    }
   ],
   "source": [
    "# Computing the integer index map\n",
    "index_map = dict()  # links->IDs\n",
    "lines = get_lines(page_links_filename)\n",
    "source, destination, data = [], [], []\n",
    "for l, split in tqdm.tqdm(enumerate(lines)):\n",
    "    add_item(source, redirects, index_map, split[0].decode(\"utf-8\"))\n",
    "    add_item(destination, redirects, index_map, split[2].decode(\"utf-8\"))\n",
    "    data.append(1)\n",
    "\n",
    "len(data)"
   ],
   "metadata": {
    "collapsed": false,
    "pycharm": {
     "name": "#%%\n"
    }
   }
  },
  {
   "cell_type": "markdown",
   "source": [
    "Temos 309K de items no nosso índice!"
   ],
   "metadata": {
    "collapsed": false,
    "pycharm": {
     "name": "#%% md\n"
    }
   }
  },
  {
   "cell_type": "markdown",
   "source": [
    "Vamos fazer uns testes com nossos dados"
   ],
   "metadata": {
    "collapsed": false,
    "pycharm": {
     "name": "#%% md\n"
    }
   }
  },
  {
   "cell_type": "code",
   "execution_count": 109,
   "outputs": [
    {
     "data": {
      "text/plain": "{'': 0,\n 'Istor': 1,\n 'Gresianeg': 2,\n 'Herodotos': 3,\n 'Thoukudides': 4,\n 'Matematik': 5,\n 'Bevoniezh': 6,\n 'Skiant': 7,\n 'Romant': 8,\n 'Brezel': 9,\n 'Henamzer': 10,\n 'Krennamzer': 11,\n 'Istor_a-vrema\\\\u00F1': 12,\n 'Keltia': 13,\n 'Istor_Breizh': 14,\n 'Istor_Iwerzon': 15,\n 'Istor_Kembre': 16,\n 'Istor_Kerne-Veur': 17,\n 'Istor_Bro-Saoz': 18,\n 'Istor_Alamagn': 19,\n 'Japan': 20,\n 'Tibet': 21,\n 'Emsavadeg_ar_Sipaied': 22,\n 'Rummad:Istor': 23,\n 'Rummad:Skianto\\\\u00F9_an_Den': 24,\n 'Mentoniezh': 25,\n 'Aritmetik': 26,\n 'Krommenn': 27,\n 'Poent_(geometriezh)': 28,\n 'Eeunen': 29,\n 'Goreenno\\\\u00F9': 30,\n 'Solud': 31,\n 'Geometriezh_plaen': 32,\n 'Geometriezh_algebrek': 33,\n 'Geometriezh_afin': 34,\n 'Geometriezh_analizek': 35,\n 'Geometriezh_anallgmatik': 36,\n 'Geometriezh_aritmetikel': 37,\n 'Geometrieth_deskriptivel': 38,\n 'Geometriezh_difera\\\\u00F1siel': 39,\n 'Geometriezh_elfennel': 40,\n 'Geometriezh_metrek': 41,\n 'Geometriezh_euklidel': 42,\n 'Geometriezh_projektivel': 43,\n 'Geometriezh_dieuklidel': 44,\n 'Rummad:Jedoniezh': 45,\n 'Rummad:Geometriezh': 46,\n 'Buffalo_springfield_again': 47,\n 'Buffalo_Springfield': 48,\n 'Rummad:Neil_Young': 49,\n 'Gregach': 50,\n 'Niver': 51,\n 'Teorienn_an_nivero\\\\u00F9': 52,\n 'Rummad:Matematiko\\\\u00F9': 53,\n 'Last_time_around': 54,\n 'Richie_Furay': 55,\n 'Jim_Messina': 56,\n 'Rummad:Sonerezh_ar_bloavezhio\\\\u00F9_1960': 57,\n 'Breizh': 58,\n 'Riez': 59,\n 'Europa_(kevandir)': 60,\n \"Loeiz_XII_(Bro-C'hall)\": 61,\n 'Rannvro': 62,\n '1943': 63,\n \"Bro-C'hall\": 64,\n 'Departamant_gall': 65,\n 'Kontelezh': 66,\n 'Naoned': 67,\n \"Dispac'h_Gall\": 68,\n 'Liger-Atlantel': 69,\n 'Broio\\\\u00F9_al_Liger': 70,\n 'Wikipedia': 71,\n 'Ragistor': 72,\n 'Oadvezh_ar_maen': 73,\n 'Mammout': 74,\n 'Arzh': 75,\n 'Tigr': 76,\n 'Karv': 77,\n 'Arkeologiezh': 78,\n 'Ploeneg': 79,\n 'Karnag': 80,\n 'Sant-Servan': 81,\n 'Dol': 82,\n 'Derv': 83,\n 'Stepenn': 84,\n 'Kiberen': 85,\n \"Yourc'h\": 86,\n 'Louarn': 87,\n 'Relijion': 88,\n 'Mor_Kreizdouar': 89,\n 'Karn': 90,\n 'Meuriad': 91,\n \"Plouezoc'h\": 92,\n 'Landeda': 93,\n 'Gwitalmeze': 94,\n 'Peulvan': 95,\n 'Istor_a-gent': 96,\n 'Krommlec\\\\u2019h': 97,\n 'Kembraeg': 98,\n 'Restr:Armorica.png': 99,\n 'Kentistor': 100,\n 'Oadvezh_an_arem': 101,\n 'Vindelicia': 102,\n 'Norica': 103,\n 'Koad_Herkinia': 104,\n 'La_T\\\\u00E8ne_(istor)': 105,\n 'Piteas': 106,\n 'Mor_Breizh': 107,\n 'Preden': 108,\n 'Galianeg': 109,\n 'Galia': 110,\n 'Pornizh': 111,\n 'Liger_(st\\\\u00EAr)': 112,\n 'Dieppe': 113,\n 'Republik_Roma': 114,\n 'Impalaeriezh_roman': 115,\n 'Kelted': 116,\n 'Osismied': 117,\n 'Karaez-Ploug\\\\u00EAr': 118,\n 'Latin': 119,\n 'Weneted': 120,\n 'Gwened': 121,\n 'Kuriosolited': 122,\n 'Kersaout': 123,\n 'Riedoned': 124,\n 'Roazhon': 125,\n 'Namneted': 126,\n 'Posidonios': 127,\n 'Strabon': 128,\n 'Restr:Krtn_Galianed.1.jpg': 129,\n 'Romaned': 130,\n 'Arvorig': 131,\n 'Brezel_Galia': 132,\n 'Gwin': 133,\n 'Eoul': 134,\n 'Italia': 135,\n 'Bourdel': 136,\n 'Hengistbury_Head': 137,\n 'Bournemouth': 138,\n 'Dorset': 139,\n 'Staen': 140,\n 'Plom': 141,\n 'Kouevr': 142,\n 'Mor-Bihan': 143,\n 'Venezia': 144,\n '-56': 145,\n 'Caius_Julius_Caesar': 146,\n 'Sklaverezh': 147,\n 'Pictones': 148,\n 'Lugdunensis': 149,\n 'Keoded': 150,\n 'Diocletianus': 151,\n 'Tractus_Armoricanus_et_Nervicanus': 152,\n 'Garona': 153,\n 'Somme_(st\\\\u00EAr)': 154,\n 'Notitia_Dignitatum': 155,\n 'Maoured': 156,\n 'Laeti': 157,\n 'Franked': 158,\n 'Bagaudae': 159,\n 'Kustentin_Ia\\\\u00F1_(impalaer_roman)': 160,\n 'Brest': 161,\n 'Avranches': 162,\n 'Ar_Yeoded': 163,\n 'Restr:NE_600ad.jpg': 164,\n 'Breizh-Veur': 165,\n 'Magnus_Clemens_Maximus': 166,\n 'Provi\\\\u00F1s_Britannia': 167,\n 'Lejion_roman': 168,\n '411': 169,\n 'Pikted': 170,\n 'Bro-Skos': 171,\n 'Moger_Antoninus': 172,\n 'Hibernia': 173,\n 'Poblo\\\\u00F9_german': 174,\n 'Angled': 175,\n 'Saozon': 176,\n 'Nennius': 177,\n 'Gweltaz': 178,\n 'Devnon': 179,\n 'Kerne': 180,\n 'Bro-Ereg': 181,\n 'Bro-Warog': 182,\n '845': 183,\n 'Nevenoe': 184,\n 'Charlez_ar_Moal': 185,\n 'Baen-Ballon': 186,\n 'Redon': 187,\n 'Il-ha-Gwilen': 188,\n '851': 189,\n 'Erispoe': 190,\n 'Karl_Voal': 191,\n 'Yenglenn': 192,\n 'Salaun': 193,\n 'Coutances': 194,\n 'Avranche': 195,\n 'Vikinged': 196,\n '913': 197,\n 'Alan_II': 198,\n 'Athelstan': 199,\n '937': 200,\n 'Roll_Rouaned_ha_Duged_Breizh': 201,\n '1488': 202,\n '1491': 203,\n '1532': 204,\n \"Dispac'h_c'hall\": 205,\n 'Spagn': 206,\n 'Bro-Saoz': 207,\n 'Holland': 208,\n 'Provi\\\\u00F1so\\\\u00F9_Breizh': 209,\n 'Aotrouniezho\\\\u00F9_Breizh': 210,\n 'Prezidialo\\\\u00F9_Breizh': 211,\n 'Eskoptio\\\\u00F9_Breizh': 212,\n 'Nozvezh_ar_4_a_viz_Eost': 213,\n '1789': 214,\n 'Provi\\\\u00F1so\\\\u00F9_kozh_Fra\\\\u00F1s': 215,\n '1790': 216,\n 'Departamanto\\\\u00F9_Fra\\\\u00F1s': 217,\n 'Aodo\\\\u00F9-an-Arvor': 218,\n '1990': 219,\n 'Penn-ar-Bed': 220,\n '1957': 221,\n 'Michel_Rocher': 222,\n 'Brezel-bed_kenta\\\\u00F1': 223,\n 'Breizh_e-pad_an_Eil_Brezel-bed': 224,\n 'Eil_Brezel-bed': 225,\n 'Emsav': 226,\n 'Komunouriezh': 227,\n 'Strollad_Komunour_Gall': 228,\n 'Unaniezh_ar_Republiko\\\\u00F9_Sokialour_ha_Soviedel': 229,\n 'Cl\\\\u00E9mentel': 230,\n 'Marichal_P\\\\u00E9tain': 231,\n 'Jeneral_de_Gaulle': 232,\n 'Edgar_Faure': 233,\n '1956': 234,\n 'Rannvro_Breizh': 235,\n 'Rannvro_velestradurel': 236,\n '1972': 237,\n 'Kuzul-Stad_(Fra\\\\u00F1s)': 238,\n 'Raffarin': 239,\n 'Roll_kumunio\\\\u00F9_departamant_Penn-ar-Bed': 240,\n 'Roll_Kumunio\\\\u00F9_Aodo\\\\u00F9-an-Arvor': 241,\n 'Roll_Kumunio\\\\u00F9_ar_Mor-Bihan': 242,\n 'Roll_kumunio\\\\u00F9_Il-ha-Gwilen': 243,\n 'Roll_kumunio\\\\u00F9_al_Liger-Atlantel': 244,\n 'K\\\\u00EAr-benn': 245,\n 'Pobla\\\\u00F1s': 246,\n 'Stankted': 247,\n '2003': 248,\n 'Gorread': 249,\n 'Arondisamant': 250,\n 'Kantonio\\\\u00F9': 251,\n 'Kumunio\\\\u00F9': 252,\n 'Kuzul_Rannvroel_Breizh': 253,\n 'Rummad:Istor_Breizh': 254,\n 'Sonic_Youth': 255,\n 'Restr:300px-Sonic_Youth04.jpg': 256,\n 'Sonerezh_rock': 257,\n 'New_York': 258,\n '1981': 259,\n 'No_wave': 260,\n 'Hardcore': 261,\n 'Grunge': 262,\n 'Post-rock': 263,\n 'Nirvana': 264,\n 'Brigitte_Fontaine': 265,\n 'Restr:Moonlander.jpg': 266,\n 'Kim_Gordon': 267,\n 'Thurston_Moore': 268,\n 'Lee_Ranaldo': 269,\n \"Jim_O'Rourke\": 270,\n 'Steve_Shelley': 271,\n 'Restr:Sonic_Youth_live_20050707.jpg': 272,\n '2004': 273,\n '2002': 274,\n '2000': 275,\n '1999': 276,\n '1998': 277,\n '1997': 278,\n '1995': 279,\n '1994': 280,\n '1992': 281,\n '1988': 282,\n '1987': 283,\n '1986': 284,\n '1983': 285,\n '1982': 286,\n 'Rummad:Sonic_Youth': 287,\n 'Rummad:Strollado\\\\u00F9_sonerezh_rock': 288,\n 'Rummad:Strollado\\\\u00F9_sonerezh_SUA': 289,\n 'Brezhoneg': 290,\n 'Yezho\\\\u00F9_indezeuropek': 291,\n 'Yezho\\\\u00F9_keltiek': 292,\n 'Yezho\\\\u00F9_predenek': 293,\n 'Enez_Vreizh': 294,\n 'Breizh-Izel': 295,\n 'Plouha': 296,\n 'Breizh_Vihan': 297,\n \"Restr:Niver_Brezhonegrien_dre_c'hant_e_pep_bro_Breizh,_diouzh_an_diagnostik_war_stad_ar_brezhoneg_graet_e_2004.png\": 298,\n 'Nobla\\\\u00F1s': 299,\n \"Bourc'hiz\": 300,\n 'Galleg': 301,\n 'Prederouriezh': 302,\n 'Brezhoned': 303,\n 'Patois': 304,\n 'Bloavezhio\\\\u00F9_1960': 305,\n 'Bugel': 306,\n '1930': 307,\n '1950': 308,\n 'Mellad': 309,\n 'Bonreizh': 310,\n 'Unaniezh_Europa': 311,\n 'Diwan': 312,\n 'Lez-varn_europat_Gwirio\\\\u00F9_Mab-den': 313,\n 'Restr:Breton-language-spoken-Spilhennig.svg': 314,\n 'VIIvet_kantved': 315,\n 'Henvrezhoneg': 316,\n 'Spisc\\\\u2019herio\\\\u00F9': 317,\n 'Krennvrezhoneg': 318,\n 'Brezhoneg_raknevez': 319,\n 'Brezhoneg_kempred': 320,\n '1977': 321,\n 'Div_Yezh': 322,\n 'Dihun': 323,\n '2011': 324,\n 'Skol-vamm': 325,\n 'Lise': 326,\n 'Geriadurouriezh_ar_brezhoneg': 327,\n 'Rannyezhouriezh_ar_brezhoneg': 328,\n 'Iwerzhoneg': 329,\n 'Saozneg': 330,\n 'Kerneveureg': 331,\n 'Gallaoueg': 332,\n 'Sant-Yann-Brevele': 333,\n 'Gwernenez': 334,\n 'Yezho\\\\u00F9_o\\\\u00EFl': 335,\n 'Doare-skriva\\\\u00F1_KLT': 336,\n 'Brezhoneg_Gwened': 337,\n 'Ofis_ar_Brezhoneg': 338,\n \"Lec'h_ar_brezhoneg_er_skolio\\\\u00F9\": 339,\n \"Ai'ta!\": 340,\n 'SAB': 341,\n 'Marc_ar_Fur': 342,\n 'Unvaniezh_evit_ul_Luskad_Poblel': 343,\n 'Loudieg': 344,\n 'PS': 345,\n 'Jean-Yves_Le_Drian': 346,\n 'Fa\\\\u00F1ch_Broudig': 347,\n 'TMO': 348,\n 'EBSSA': 349,\n 'Deskadurezh_vrezhonek': 350,\n 'Lennegezh_vrezhonek': 351,\n 'Skrivagnerien_vrezhonek': 352,\n \"Ar_Brezhoneg_hag_ar_Feiz_A_zo_breur_ha_c'hoar_e_Breizh\": 353,\n 'Hep_brezhoneg_Breizh_ebet': 354,\n 'Rummad:Brezhoneg': 355,\n 'Rummad:Yezho\\\\u00F9_keltiek': 356,\n 'Rummad:Yezho\\\\u00F9_Fra\\\\u00F1s': 357,\n 'Rummad:Pennado\\\\u00F9_da_neptuekaat': 358,\n 'Rummad:Meneger_yezho\\\\u00F9_ar_bed': 359,\n 'Degemer': 360,\n 'Peurunvan': 361,\n 'Doare-skriva\\\\u00F1': 362,\n 'Bro-Gwened': 363,\n 'Doareo\\\\u00F9-skriva\\\\u00F1_ar_brezhoneg': 364,\n 'Youenn_Olier': 365,\n '1945': 366,\n 'Andreo_ar_Merser': 367,\n 'Arma\\\\u00F1s_Keravel': 368,\n 'Visant_Seite': 369,\n '1941': 370,\n '1954': 371,\n 'Taldir': 372,\n 'Fra\\\\u00F1sez_Vall\\\\u00E9e': 373,\n 'Meven_Mordiern': 374,\n 'Roparz_Hemon': 375,\n 'Stummo\\\\u00F9_gwenedek-rik_er_yezh_lennek': 376,\n \"Fran\\\\u00E7ois_Falc'hun\": 377,\n 'Armand_Keravel': 378,\n 'TES': 379,\n 'Banno\\\\u00F9-Heol': 380,\n 'Fran\\\\u00E7oise_Morvan': 381,\n 'Anciennes_complaintes_de_Bretagne': 382,\n 'Jean_Le_D\\\\u00FB': 383,\n 'Skol-veur_Brest': 384,\n 'Rummad:Doareo\\\\u00F9-skriva\\\\u00F1_ar_brezhoneg': 385,\n 'Etrerannyezhel': 386,\n 'Skol_Vreizh': 387,\n 'Fa\\\\u00F1ch_Morvannou': 388,\n 'Skolveurieg': 389,\n 'Olier_Mordrel': 390,\n 'Bro-Dreger': 391,\n 'Skritur_KLT_%22Feiz_ha_Breiz%22': 392,\n 'Skritur_brehoneg_Gu\\\\u00E9ned_mod_Dihunamb': 393,\n '1955': 394,\n 'Kevrenn_geltiek_Skol-Veur_Roazhon': 395,\n 'Akademiezh_Roazhon': 396,\n 'Skol-veur': 397,\n 'Skol-veur_Breizh-Uhel': 398,\n 'SFIO': 399,\n 'Bleun-Brug': 400,\n 'Marsel_Klerg': 401,\n \"Loeiz_ar_Floc'h\": 402,\n 'Skol_dre_Lizer': 403,\n 'Ar_Falz': 404,\n 'Per_Honor\\\\u00E9': 405,\n 'Unvaniezh_Demokratel_Breizh': 406,\n 'Emgleo_Breiz': 407,\n 'Embannerezh': 408,\n 'Brud_Nevez': 409,\n 'Ar_Skol_Vrezoneg': 410,\n 'Andreo_Merser': 411,\n 'Minihi_Levenez': 412,\n 'Job_an_Irien': 413,\n 'Ya': 414,\n 'Yann-B\\\\u00EAr_Thomin': 415,\n 'Landerne': 416,\n 'Yann-Vari_Perrot': 417,\n 'Mat': 418,\n 'KLT': 419,\n \"C'h\": 420,\n 'Marh_al_lorh': 421,\n \"Marc'h_al_lorc'h\": 422,\n 'Zh_(lizherenn)': 423,\n 'Xavier_de_Langlais': 424,\n 'Loeiz_Herrieu': 425,\n 'Skritur_KLT_\\\\u2018\\\\u2019Feiz_ha_Breiz\\\\u2019\\\\u2019': 426,\n 'Skianto\\\\u00F9_an_den': 427,\n 'Hendrao\\\\u00F9ouriezh': 428,\n 'Rummad:Arkeologiezh': 429,\n 'Rummad:Skianto\\\\u00F9': 430,\n 'Arz': 431,\n 'Restr:Catala_L_The_Artist-s_Model.jpg': 432,\n 'Arzo\\\\u00F9_plastik': 433,\n 'Sonerezh': 434,\n 'Lennegezh': 435,\n \"C'hoariva\": 436,\n 'Da\\\\u00F1s': 437,\n 'Azginivelezh': 438,\n 'Dengarouriezh': 439,\n 'Iliz': 440,\n 'Ideologiezh': 441,\n 'Rummad:Arz': 442,\n 'Sifr': 443,\n 'ISBN': 444,\n 'Zero': 445,\n 'Niver_kemplezh': 446,\n 'Niveradur_roman': 447,\n 'Reizhiad_nivero\\\\u00F9': 448,\n 'Rummad:Nivero\\\\u00F9': 449,\n 'Kevarzhe_brezelerien_gozh': 450,\n 'Kevarzhe': 451,\n 'Kenta\\\\u00F1_brezel-bed': 452,\n 'Brezel_Aljeria': 453,\n 'Alamagn': 454,\n 'Strollad_Broadel_Sokialour_al_Labourerien_Alaman': 455,\n 'Adolf_Hitler': 456,\n 'Manifestadeg': 457,\n 'Pariz': 458,\n \"6vet_a_viz_C'hwevrer_1934\": 459,\n 'Rummad:Brezel': 460,\n 'Rummad:Brezel-bed_kenta\\\\u00F1': 461,\n 'Kevredigezh': 462,\n 'Kevredigezh_sevenadurel': 463,\n '1901': 464,\n 'Sindikad': 465,\n 'Uniad_prenerion': 466,\n 'Uniad_produerion': 467,\n 'Uniad_kerent_skolidi': 468,\n 'Uniad_patroned': 469,\n 'Uniad_kemmesk': 470,\n 'Uniad_kouerion': 471,\n 'Kevarzhe_brezourion_goth': 472,\n 'Kevarzhe_a_genskoazell': 473,\n 'Kevarzhe_micherel': 474,\n 'Ke\\\\u00F1vererezh': 475,\n 'Ke\\\\u00F1vererezh_mezeion': 476,\n 'Ke\\\\u00F1vererezh_broio\\\\u00F9': 477,\n \"C'hweluniad\": 478,\n 'Kenvad': 479,\n 'Joshua_Brookes': 480,\n 'Mammuthus_columbi': 481,\n 'Mammuthus_exilis': 482,\n 'Mammuthus_jeffersonii': 483,\n 'Mammuthus_meridionalis': 484,\n 'Mammuthus_primigenius': 485,\n 'Mammuthus_lamarmorae': 486,\n 'Afrika': 487,\n 'Asia': 488,\n 'Norzhamerika': 489,\n 'Pliosen': 490,\n 'Pleistosen': 491,\n 'Bronneged': 492,\n 'Trompilh': 493,\n 'Ezel': 494,\n 'Skouarn': 495,\n 'Lost': 496,\n \"Kroc'hen\": 497,\n 'Blev': 498,\n 'Restr:Mammuthus_Tooth_Side_View_Pleistocene_Ohio.jpg': 499,\n 'Restr:Mammuthus_Tooth_Surface_Pleistocene_Ohio.jpg': 500,\n 'Rummad:Proboscidea': 501,\n 'Rummad:Bronneged_aet_da_get': 502,\n 'Rummad:Pleistosen': 503,\n 'Rummad:Pliosen': 504,\n 'Stad': 505,\n 'Rummad:Sindikalouriezh': 506,\n 'Rummad:Embregerezhio\\\\u00F9': 507,\n 'Aernijerezh': 508,\n 'Nijerez': 509,\n 'Aergelc\\\\u2019h': 510,\n 'Sina': 511,\n 'Sarpant-nij': 512,\n 'Fuzeenn': 513,\n 'Montgolfier': 514,\n 'Aerstat': 515,\n '1783': 516,\n '1909': 517,\n 'Wright': 518,\n 'Louis_Bl\\\\u00E9riot': 519,\n 'Moger_ar_son': 520,\n 'Chuck_Yeager': 521,\n 'X1': 522,\n '1969': 523,\n 'Concorde_(karr-nij)': 524,\n 'Rummad:Aernijerezh': 525,\n 'Politikerezh': 526,\n 'Armerzh': 527,\n 'Rummad:Politikerezh': 528,\n 'Teknologiezh': 529,\n 'Rummad:Armerzh': 530,\n 'George_Orwell': 531,\n '25_Mezheven': 532,\n '1903': 533,\n 'Motihari': 534,\n 'India': 535,\n '21_Genver': 536,\n 'Londrez': 537,\n '1984_(romant)': 538,\n 'Indez': 539,\n 'Eton': 540,\n '1922': 541,\n 'Myanmar': 542,\n 'Impalaeriezh_an_Indez': 543,\n '1928': 544,\n '1935': 545,\n 'N.R.F.': 546,\n 'POUM': 547,\n 'Brezel_Spagn': 548,\n '1937': 549,\n 'Huesca': 550,\n 'Hollveliouriezh': 551,\n 'Maroko': 552,\n '1939': 553,\n 'BBC': 554,\n 'The_Tribune': 555,\n 'The_Observer': 556,\n 'Al_Liamm': 557,\n 'Per_Bourdellez': 558,\n 'Erwan_Hupel': 559,\n 'Rummad:Meneger_ar_skrivagnerien': 560,\n 'Rummad:Ganedigezhio\\\\u00F9_1903': 561,\n 'Rummad:Skrivagnerien_saoznek': 562,\n 'Rummad:Skrivagnerien_Breizh-Veur': 563,\n 'Rummad:Skiant-faltazi': 564,\n 'Douaroniezh': 565,\n 'Douaroniezh_Strabon': 566,\n 'Restr:The_Geographer.jpg': 567,\n 'Eratosthenes': 568,\n 'Rummad:Douaroniezh': 569,\n 'Gall': 570,\n 'Ar_Gall': 571,\n 'Fa\\\\u00F1ch_an_Uhel': 572,\n \"Republik_c'hall\": 573,\n 'Banniel_gall': 574,\n \"Kumun_c'hall\": 575,\n \"Gwiana_c'hall\": 576,\n \"Afrika_c'hall\": 577,\n \"Afrika_ar_C'hornaoueg_C'hall\": 578,\n 'AEF': 579,\n 'Antilhez_gall': 580,\n \"Indez-Sina_c'hall\": 581,\n 'Fav-gall': 582,\n 'Foenn-gall': 583,\n 'Geot_gall': 584,\n 'Gallen': 585,\n 'Inizi_Gall': 586,\n 'Gallus': 587,\n 'Galianed': 588,\n 'Saoz': 589,\n 'Graham_ar_Saoz': 590,\n 'Kersaoz': 591,\n 'Kresteneg': 592,\n 'Krank-saoz': 593,\n 'Grilh-saoz': 594,\n 'Teureug': 595,\n 'Marjol-saoz': 596,\n 'Tin': 597,\n 'Irvin-Saoz': 598,\n 'Genad': 599,\n 'Yezh': 600,\n 'Rummad:Skianto\\\\u00F9_an_den': 601,\n 'Galloud': 602,\n 'Politis': 603,\n \"Henc'hres\": 604,\n 'Keodedour': 605,\n 'Mennozhio\\\\u00F9_politikel': 606,\n 'Emsavio\\\\u00F9_politikel': 607,\n 'Emsavio\\\\u00F9_sokial': 608,\n 'Strollad_politikel': 609,\n 'Brederouriezh_politikel': 610,\n 'Skiant_politikel': 611,\n 'Sokiologouriezh_ar_politikerezh': 612,\n 'Begenn': 613,\n 'Brientinelezh': 614,\n 'Impalaeriezh': 615,\n 'Oligarkiezh': 616,\n 'Proleteriezh': 617,\n 'Renad_politikel': 618,\n 'Renkadur_sokial': 619,\n 'Republik': 620,\n 'Rouantelezh': 621,\n 'Unpenniezh': 622,\n 'Philipp_Melanchthon': 623,\n 'Restr:PhilippMelanchthon.jpg': 624,\n \"16_C'hwevrer\": 625,\n '1497': 626,\n 'Bretten': 627,\n '19_Ebrel': 628,\n '1560': 629,\n 'Wittenberg': 630,\n 'Beleg': 631,\n 'Doueoniezh': 632,\n 'Martin_Luther': 633,\n 'Kofesion_Augsburg': 634,\n '1530': 635,\n 'Lutereregezh': 636,\n 'Kehelerezh': 637,\n 'Ostienn': 638,\n 'Rummad:Istor_relijiel': 639,\n 'Rummad:Beleien': 640,\n 'Rummad:Ganedigezhio\\\\u00F9_1497': 641,\n 'Rummad:Marvio\\\\u00F9_1560': 642,\n 'Pidjin': 643,\n 'Yezh_vehikular': 644,\n 'Geriaoueg': 645,\n 'Yezho\\\\u00F9_Europa': 646,\n 'Spagnoleg': 647,\n 'Portugaleg': 648,\n 'Nederlandeg': 649,\n 'Yezhoniezh': 650,\n 'Yezho\\\\u00F9_kreolek': 651,\n 'Rummad:Yezhoniezh': 652,\n 'Restr:Les_familles_de_langues_sans_legende.png': 653,\n 'Yezho\\\\u00F9_afro-azianek': 654,\n 'Yezho\\\\u00F9_nigero-kongolek': 655,\n 'Yezho\\\\u00F9_nilez-saharek': 656,\n 'Yezho\\\\u00F9_khoisan': 657,\n 'Yezho\\\\u00F9_kaokazek': 658,\n 'Yezho\\\\u00F9_altaek': 659,\n 'Yezho\\\\u00F9_ouralek': 660,\n 'Yezho\\\\u00F9_dravidek': 661,\n 'Yezho\\\\u00F9_sinek-tibetek': 662,\n 'Yezho\\\\u00F9_austroasianek': 663,\n 'Yezho\\\\u00F9_austronesiek': 664,\n 'Yezho\\\\u00F9_pama-nyungan': 665,\n 'Yezho\\\\u00F9_papou': 666,\n 'Yezho\\\\u00F9_tai-Kadai': 667,\n 'Yezho\\\\u00F9_amerindianek': 668,\n 'Yezho\\\\u00F9_na-den\\\\u00E9': 669,\n 'Yezho\\\\u00F9_eskimo-al\\\\u00E9outes': 670,\n 'Yezho\\\\u00F9_en_distro': 671,\n 'Yezho\\\\u00F9_germanek': 672,\n 'Alamaneg': 673,\n 'Svedeg': 674,\n 'Islandeg': 675,\n 'Yezho\\\\u00F9_romanek': 676,\n 'Galizeg': 677,\n 'Italianeg': 678,\n 'Katalaneg': 679,\n 'Korseg': 680,\n 'Okitaneg': 681,\n 'Roumaneg': 682,\n 'Sardeg': 683,\n 'Manaveg': 684,\n 'Gouezeleg_Skos': 685,\n 'Yezho\\\\u00F9_baltek': 686,\n 'Latveg': 687,\n 'Lituaneg': 688,\n 'Yezho\\\\u00F9_slavek': 689,\n 'Tchekeg': 690,\n 'Slovakeg': 691,\n 'Poloneg': 692,\n 'Sloveneg': 693,\n 'Serbeg-kroateg': 694,\n 'Makedoneg': 695,\n 'Bulgareg': 696,\n 'Bosneg': 697,\n 'Ukraineg': 698,\n 'Belaruseg': 699,\n 'Rusianeg': 700,\n 'Yezhio\\\\u00F9_afro-azianek': 701,\n 'Yezhio\\\\u00F9_nigero-congolek': 702,\n 'Nilo-saharaeg': 703,\n 'Kho\\\\u00EFsan': 704,\n 'Kaokaseg': 705,\n 'Yezho\\\\u00F9_kartvelek': 706,\n 'Jorjieg': 707,\n 'Yezho\\\\u00F9_abkhazek-adygiek': 708,\n 'Abkhazeg': 709,\n 'Altaieg': 710,\n 'Yezho\\\\u00F9_koreek': 711,\n 'Koreaneg': 712,\n 'Yezho\\\\u00F9_mongolek': 713,\n 'Bouriateg': 714,\n 'Kalmoukeg': 715,\n 'Mongoleg': 716,\n 'Mongoleg_Sina': 717,\n 'Ouraleg': 718,\n 'Yezho\\\\u00F9_finnek-ougriek': 719,\n 'Finneg': 720,\n 'Estoneg': 721,\n 'Hungareg': 722,\n 'Dravidianeg': 723,\n 'Sino-tibeteg': 724,\n 'Tibeteg': 725,\n 'Austroasianeg': 726,\n 'Austronesieg': 727,\n 'Indonezeg': 728,\n 'Pama-nyungan': 729,\n 'Papou': 730,\n 'Tai-kadai': 731,\n 'Amerindianeg': 732,\n 'Na-dene': 733,\n 'Eskimo-aleouteg': 734,\n 'Inuktitut': 735,\n 'Kreol': 736,\n 'Spanglish': 737,\n 'Sranan_Tongo': 738,\n 'Yezhio\\\\u00F9_en_distro': 739,\n 'Euskareg': 740,\n 'Japaneg': 741,\n 'A\\\\u00EFnou': 742,\n 'Bourouchaski': 743,\n 'Bouzareg': 744,\n 'Yezh_ar_sino\\\\u00F9': 745,\n 'Yezh_vernakular': 746,\n 'Doare_yezh': 747,\n 'Yezho\\\\u00F9_arabek': 748,\n 'Swahileg': 749,\n 'Sinaeg_(mandarineg)': 750,\n 'Republik_Poblel_Sina': 751,\n 'Rannyezh': 752,\n 'Rummad:Sokioyezhoniezh': 753,\n 'Restr:Anglospeak.svg': 754,\n 'Rouantelezh_Unanet': 755,\n 'Stado\\\\u00F9_Unanet': 756,\n 'Kanada': 757,\n 'Aostralia': 758,\n 'Iwerzhon': 759,\n 'Zeland-Nevez': 760,\n 'Liberia': 761,\n \"Yezho\\\\u00F9_germanek_ar_c'horn\\\\u00F4g\": 762,\n 'Yezho\\\\u00F9_saoznek-frizek': 763,\n 'Belize': 764,\n 'Kenglad_ar_Broado\\\\u00F9': 765,\n 'Filipinez': 766,\n 'Suafrika': 767,\n 'Stado\\\\u00F9-Unanet_Amerika': 768,\n 'Geordie': 769,\n 'Yorkshire': 770,\n 'Cockney': 771,\n 'Kontelezh_Sussex': 772,\n 'Kontelezh_Kent': 773,\n 'Kontelezh_Essex': 774,\n 'Rannvro_Korn\\\\u00F4g_Midlands': 775,\n 'Birmingham': 776,\n 'Potteries': 777,\n 'Reter_Midlands': 778,\n 'Rummad:Yezho\\\\u00F9_germanek': 779,\n 'Rummad:Saozneg': 780,\n 'Rummad:Yezho\\\\u00F9_ar_Rouantelezh_Unanet': 781,\n 'Rummad:Yezho\\\\u00F9_Stado\\\\u00F9-Unanet_Amerika': 782,\n 'Rummad:Yezho\\\\u00F9_Kanada': 783,\n 'Rummad:Yezho\\\\u00F9_Aostralia': 784,\n 'Rummad:Yezho\\\\u00F9_Iwerzhon': 785,\n 'Rummad:Yezho\\\\u00F9_Zeland-Nevez': 786,\n 'Rummad:Yezho\\\\u00F9_India': 787,\n 'Rummad:Yezho\\\\u00F9_an_Inizi_angl-ha-norman': 788,\n 'Rummad:Yezho\\\\u00F9_Unaniezh_Europa': 789,\n 'Kernev-Veur': 790,\n 'Keskowethyans_an_Taves_Kernewek': 791,\n 'Rouantelezh-Unanet': 792,\n 'Dalleth': 793,\n \"Lec'hanvadurezh\": 794,\n 'Dolly_Pentreath': 795,\n 'Restr:Cornish_Language_Shift.svg': 796,\n 'Kernewek_Unys': 797,\n 'Robert_Morton_Nance': 798,\n '1929': 799,\n 'Kernewek_Kemmyn': 800,\n 'Ken_George': 801,\n '1980': 802,\n 'Fonologiezh': 803,\n 'Nicholas_Williams': 804,\n 'Kernowek_Unys_Amendys': 805,\n 'Kernuack_Nowedga': 806,\n 'Tim_Saunders': 807,\n '2008': 808,\n 'Ereadurezh': 809,\n 'Fonetik': 810,\n 'Pwyll,_pri\\\\u00F1s_Dyfed': 811,\n 'R._Morton_Nance': 812,\n 'Jose_Calvete': 813,\n 'Imbourc\\\\u2019h': 814,\n 'P.A.S._Pool': 815,\n 'Preder': 816,\n 'Rummad:Kerneveureg': 817,\n 'Rummad:Kernev-Veur': 818,\n 'Outsourcing': 819,\n 'Poent_kreiz': 820,\n \"Divc'hrafenn\": 821,\n 'Poentaoui\\\\u00F1': 822,\n 'Palataliza\\\\u00F1': 823,\n 'Gevelli\\\\u00F1': 824,\n 'Rakger': 825,\n 'Gwrizienn': 826,\n 'Gerio\\\\u00F9_amprestret': 827,\n 'Rummad:Sistemo\\\\u00F9-skritur_alfabetek': 828,\n 'Rummad:Doareo\\\\u00F9-skriva\\\\u00F1': 829,\n 'Rummad:Lizherennego\\\\u00F9': 830,\n 'Rummad:Lizherenneg_latin': 831,\n 'Rummad:Katalaneg': 832,\n 'Cha\\\\u00F1_Ma\\\\u00EF_Skragn': 833,\n 'Uhelgoad_(An)': 834,\n 'Gouel-Mikael': 835,\n 'Da\\\\u00F1vad': 836,\n 'Kontadenn': 837,\n 'Rummad:Ganedigezhio\\\\u00F9_1920': 838,\n 'Rummad:Kontourien_vrezhonek': 839,\n 'Rummad:Kontourien_Breizh': 840,\n 'Urzhiataerezh': 841,\n 'Pennad_Skianto\\\\u00F9_an_Ditour_hag_al_Levraouego\\\\u00F9': 842,\n 'Levraoueg': 843,\n 'Kreizenn-ditouri\\\\u00F1': 844,\n 'Diell': 845,\n 'Skeudenn': 846,\n 'Kembre': 847,\n \"Arc'hantina\": 848,\n 'Chubut_(provi\\\\u00F1s)': 849,\n 'Indezeuropeg': 850,\n 'Patagonia': 851,\n 'Hywel_Dda': 852,\n 'Hen_Ogledd': 853,\n 'Anvio\\\\u00F9_kembraek_k\\\\u00EArio\\\\u00F9_saoz': 854,\n 'Cumbria': 855,\n 'Krenngembraeg': 856,\n 'Mabinogi': 857,\n 'Bibl': 858,\n 'William_Morgan': 859,\n '1588': 860,\n 'John_Davies': 861,\n 'Williams_Evans': 862,\n '1771': 863,\n 'William_Spurell': 864,\n 'Daniel_Silvan_Evans': 865,\n 'XXvet_kantved': 866,\n 'Restr:Welsh_bicycle_shop_in_Caernarfon.jpg': 867,\n 'Plaid_Cymru': 868,\n 'Cymdeithas_yr_Iaith_Gymraeg': 869,\n 'Kontelezh_Gwynedd': 870,\n 'Denbych': 871,\n 'Enez_Mon': 872,\n 'Caerfyrddin': 873,\n 'Penfro': 874,\n 'Ceredigion': 875,\n 'Morgannwg': 876,\n 'Yezh_vev': 877,\n '1993': 878,\n 'Bodadenn_Kembre': 879,\n 'Internet': 880,\n 'Restr:Wales.cardiff.slow.arp.750pix.jpg': 881,\n 'Karta_Europat_evit_ar_Yezho\\\\u00F9_Rannvroel_pe_Minorel': 882,\n 'XIXvet_kantved': 883,\n '1891': 884,\n '1911': 885,\n '1536': 886,\n '1542': 887,\n '1870': 888,\n 'Restr:Siaradwyr_y_Gymraeg_ym_Mhrif_Ardaloedd_Cymru.png': 889,\n '1991': 890,\n 'Kerdiz': 891,\n 'Bloavezhio\\\\u00F9_1970': 892,\n '1971': 893,\n '1996': 894,\n '1865': 895,\n 'Izoglos': 896,\n 'Arzel_Even': 897,\n 'Hor_Yezh': 898,\n \"Rummad:Yezho\\\\u00F9_Arc'hantina\": 899,\n 'Rummad:Kembre': 900,\n 'Rummad:Kembraeg': 901,\n 'Gallek_(plant)': 902,\n 'Belgia': 903,\n 'Suis': 904,\n 'Yezho\\\\u00F9_italek': 905,\n \"Yezho\\\\u00F9_italek_ar_C'horn\\\\u00F4g\": 906,\n \"Italeg_ar_c'horn\\\\u00F4g\": 907,\n 'Ibero-gallek': 908,\n 'Galloroman': 909,\n 'Galloreteg': 910,\n 'D\\\\u00E9l\\\\u00E9gation_g\\\\u00E9n\\\\u00E9rale_\\\\u00E0_la_langue_fran\\\\u00E7aise_et_aux_langues_de_France': 911,\n 'Substrat': 912,\n 'Superstrat': 913,\n 'Frankeg': 914,\n 'Pl\\\\u00E9iade': 915,\n 'Acad\\\\u00E9mie_Fran\\\\u00E7aise': 916,\n 'Yezh_o\\\\u00EFl': 917,\n 'Enez-Fra\\\\u00F1s': 918,\n '842': 919,\n '813': 920,\n 'Teurgn': 921,\n '880': 922,\n 'Pikardeg': 923,\n '1539': 924,\n 'Villers-Cotter\\\\u00EAts': 925,\n 'Melestradurezh': 926,\n 'Yezhadur': 927,\n 'Xvet_kantved': 928,\n '980': 929,\n '1170': 930,\n 'Alexandre_de_Bernay': 931,\n '1185': 932,\n 'Jehan_Bodel': 933,\n '1165': 934,\n '1210': 935,\n '1304': 936,\n '1314': 937,\n 'Fran\\\\u00E7ois_Villon': 938,\n '1456': 939,\n '1545': 940,\n '1555': 941,\n 'Charles_Perrault': 942,\n '1694': 943,\n 'La_Chanson_de_Roland': 944,\n 'Yezh_ofisiel': 945,\n 'Aozadur_Etrebroadel_ar_fra\\\\u00F1kofoniezh': 946,\n 'Metr': 947,\n 'Fizik': 948,\n 'Restr:New-Map-Francophone_World.PNG': 949,\n 'Republik_Demokratel_Kongo': 950,\n 'Kebek': 951,\n 'Madagaskar': 952,\n 'Aod_an_Olifant': 953,\n 'Kameroun': 954,\n 'Burkina_Faso': 955,\n 'Mali': 956,\n 'Senegal': 957,\n 'Rwanda': 958,\n 'Haiti': 959,\n 'Burundi': 960,\n 'Togo': 961,\n 'Republik_Kreizafrikan': 962,\n 'Kongo': 963,\n 'Gabon': 964,\n 'Komorez': 965,\n 'Djibouti': 966,\n 'Luksembourg_(bro)': 967,\n 'Gwadaloup': 968,\n 'Martinik': 969,\n 'Vanuatu': 970,\n 'Sechelez': 971,\n 'Aljeria': 972,\n 'Tunizia': 973,\n 'Maouritania': 974,\n 'Egipt': 975,\n 'Trao\\\\u00F1ienn_Aosta': 976,\n 'Laos': 977,\n 'Louisiana': 978,\n 'Bro-Saoz_Nevez': 979,\n 'Vi\\\\u00EAt_Nam': 980,\n 'Frankofoniezh': 981,\n 'Kenwerzh': 982,\n '1362': 983,\n 'Benin': 984,\n 'Ginea': 985,\n 'Monako': 986,\n 'Niger': 987,\n 'Wallonia': 988,\n 'Brusel': 989,\n 'New_Brunswick': 990,\n 'Luksembourg': 991,\n 'Tchad': 992,\n '1968': 993,\n 'Andorra': 994,\n 'Liban': 995,\n 'Rummad:Galleg': 996,\n 'Poellad_frank': 997,\n 'Richard_Stallman': 998,\n 'Frankiz': 999,\n ...}"
     },
     "execution_count": 109,
     "metadata": {},
     "output_type": "execute_result"
    }
   ],
   "source": [
    "index_map"
   ],
   "metadata": {
    "collapsed": false,
    "pycharm": {
     "name": "#%%\n"
    }
   }
  },
  {
   "cell_type": "code",
   "execution_count": 110,
   "outputs": [],
   "source": [
    "index_map_aux = index_map.copy()"
   ],
   "metadata": {
    "collapsed": false,
    "pycharm": {
     "name": "#%%\n"
    }
   }
  },
  {
   "cell_type": "code",
   "execution_count": 111,
   "outputs": [
    {
     "data": {
      "text/plain": "149579"
     },
     "execution_count": 111,
     "metadata": {},
     "output_type": "execute_result"
    }
   ],
   "source": [
    "index_map_aux['Harrison_Ford']"
   ],
   "metadata": {
    "collapsed": false,
    "pycharm": {
     "name": "#%%\n"
    }
   }
  },
  {
   "cell_type": "code",
   "execution_count": 112,
   "outputs": [
    {
     "data": {
      "text/plain": "[845530,\n 845531,\n 845532,\n 845533,\n 845534,\n 845535,\n 845536,\n 845537,\n 845538,\n 845539,\n 845540,\n 845541,\n 845542,\n 845543,\n 845544,\n 845545,\n 845546,\n 845547,\n 845548,\n 845549,\n 845550,\n 845551,\n 845552,\n 845553,\n 845554,\n 845555,\n 845556,\n 845557,\n 845558,\n 845559,\n 845560,\n 845561,\n 845562,\n 845563,\n 845564,\n 845565,\n 845566,\n 845567,\n 845568,\n 845569,\n 845570,\n 845571,\n 845572,\n 845573,\n 845574,\n 845575,\n 845576,\n 845577,\n 845578,\n 845579,\n 845580,\n 845581,\n 845582,\n 845583,\n 845584,\n 845585,\n 845586,\n 845587,\n 845588,\n 845589,\n 845590,\n 845591,\n 845592,\n 845593,\n 845594,\n 845595,\n 845596,\n 845597,\n 845598,\n 845599,\n 845600,\n 845601,\n 845602,\n 845603,\n 845604,\n 845605,\n 845606,\n 845607,\n 845608]"
     },
     "execution_count": 112,
     "metadata": {},
     "output_type": "execute_result"
    }
   ],
   "source": [
    "[i for i, x in enumerate(source) if x == 149579]"
   ],
   "metadata": {
    "collapsed": false,
    "pycharm": {
     "name": "#%%\n"
    }
   }
  },
  {
   "cell_type": "markdown",
   "source": [
    "Esses acima são as paginas que citam Harrison Ford.\n",
    "Vamos pegar um exemplo."
   ],
   "metadata": {
    "collapsed": false,
    "pycharm": {
     "name": "#%% md\n"
    }
   }
  },
  {
   "cell_type": "code",
   "execution_count": 113,
   "outputs": [
    {
     "data": {
      "text/plain": "(149579, 251127)"
     },
     "execution_count": 113,
     "metadata": {},
     "output_type": "execute_result"
    }
   ],
   "source": [
    "source[845577], destination[845577]"
   ],
   "metadata": {
    "collapsed": false,
    "pycharm": {
     "name": "#%%\n"
    }
   }
  },
  {
   "cell_type": "code",
   "execution_count": 114,
   "outputs": [
    {
     "name": "stdout",
     "output_type": "stream",
     "text": [
      "Golden_Globe_Award_for_Best_Actor_-_Motion_Picture_Drama\n"
     ]
    }
   ],
   "source": [
    "for page_name, index in index_map.items():\n",
    "    if index == 251127:\n",
    "        print(page_name)"
   ],
   "metadata": {
    "collapsed": false,
    "pycharm": {
     "name": "#%%\n"
    }
   }
  },
  {
   "cell_type": "markdown",
   "source": [
    "Indo no [link](https://en.wikipedia.org/wiki/Golden_Globe_Award_for_Best_Actor_%E2%80%93_Motion_Picture_Drama) da Wikipedia, podemos ver que realmente essa página cita o Harisson Ford."
   ],
   "metadata": {
    "collapsed": false,
    "pycharm": {
     "name": "#%% md\n"
    }
   }
  },
  {
   "cell_type": "markdown",
   "metadata": {},
   "source": [
    "<div class=\"alert alert-block alert-info\">\n",
    "5. CASOS DE USO\n",
    "</div>"
   ]
  },
  {
   "cell_type": "markdown",
   "source": [
    "O caso de uso será utilizando o arquivo previamente carregado das páginas da Wikipedia traduzidas em PT-BR."
   ],
   "metadata": {
    "collapsed": false,
    "pycharm": {
     "name": "#%% md\n"
    }
   }
  },
  {
   "cell_type": "markdown",
   "source": [
    "Vamos criar uma matriz esparsa com os dados carregados e normalizados."
   ],
   "metadata": {
    "collapsed": false,
    "pycharm": {
     "name": "#%% md\n"
    }
   }
  },
  {
   "cell_type": "code",
   "execution_count": 115,
   "outputs": [],
   "source": [
    "n = len(data)\n",
    "X = sparse.coo_matrix((data, (destination, source)), shape=(n, n), dtype=np.float32)\n",
    "X = X.tocsr()"
   ],
   "metadata": {
    "collapsed": false,
    "pycharm": {
     "name": "#%%\n"
    }
   }
  },
  {
   "cell_type": "markdown",
   "source": [
    "também salvamos os nomes das páginas em um dicionario separado para facilitar a analise."
   ],
   "metadata": {
    "collapsed": false,
    "pycharm": {
     "name": "#%% md\n"
    }
   }
  },
  {
   "cell_type": "code",
   "execution_count": 116,
   "outputs": [],
   "source": [
    "names = {i: name for name, i in index_map.items()}"
   ],
   "metadata": {
    "collapsed": false,
    "pycharm": {
     "name": "#%%\n"
    }
   }
  },
  {
   "cell_type": "markdown",
   "source": [
    "Para que não precisemos recalcular essa matriz esparsa, vamos salva-lá em um arquivo.\n",
    "(O autor faz isso porque ele trabalha com muitos dados, mas vamos fazer também por motivos de aprendizado)"
   ],
   "metadata": {
    "collapsed": false,
    "pycharm": {
     "name": "#%% md\n"
    }
   }
  },
  {
   "cell_type": "code",
   "execution_count": 117,
   "outputs": [],
   "source": [
    "pickle.dump(X, open(PATH + 'X.pkl', 'wb'))\n",
    "pickle.dump(index_map, open(PATH + 'index_map.pkl', 'wb'))"
   ],
   "metadata": {
    "collapsed": false,
    "pycharm": {
     "name": "#%%\n"
    }
   }
  },
  {
   "cell_type": "markdown",
   "source": [
    "Para carregar os arquivos basta executar o seguinte código:"
   ],
   "metadata": {
    "collapsed": false,
    "pycharm": {
     "name": "#%% md\n"
    }
   }
  },
  {
   "cell_type": "code",
   "execution_count": 118,
   "outputs": [],
   "source": [
    "#X = pickle.load(open(PATH+'X.pkl', 'rb'))\n",
    "#index_map = pickle.load(open(PATH+'index_map.pkl', 'rb'))\n",
    "#names = {i: name for name, i in index_map.items()}"
   ],
   "metadata": {
    "collapsed": false,
    "pycharm": {
     "name": "#%%\n"
    }
   }
  },
  {
   "cell_type": "markdown",
   "source": [
    "Agora, iremos usar o Power Method para extrair os tópicos mais relevantes da nossa matriz:"
   ],
   "metadata": {
    "collapsed": false,
    "pycharm": {
     "name": "#%% md\n"
    }
   }
  },
  {
   "cell_type": "code",
   "execution_count": 119,
   "outputs": [],
   "source": [
    "def show_ex(v):\n",
    "    print(', '.join(names[i] for i in np.abs(v.squeeze()).argsort()[-1:-10:-1]))\n",
    "\n",
    "\n",
    "def power_method(A, max_iter=100):\n",
    "    n = A.shape[1]\n",
    "    A_indices = A.indices\n",
    "    A_sum = A.sum(axis=0).A1\n",
    "    A.data /= np.take(A_sum, A_indices)\n",
    "\n",
    "    scores = np.ones(n, dtype=np.float32) * np.sqrt(A.sum() / (n * n))  # initial guess\n",
    "    for i in range(max_iter):\n",
    "        scores = A @ scores\n",
    "        nrm = np.linalg.norm(scores)\n",
    "        scores /= nrm\n",
    "\n",
    "    return scores"
   ],
   "metadata": {
    "collapsed": false,
    "pycharm": {
     "name": "#%%\n"
    }
   }
  },
  {
   "cell_type": "code",
   "execution_count": 120,
   "outputs": [],
   "source": [
    "scores = power_method(X, 10)"
   ],
   "metadata": {
    "collapsed": false,
    "pycharm": {
     "name": "#%%\n"
    }
   }
  },
  {
   "cell_type": "code",
   "execution_count": 121,
   "outputs": [
    {
     "name": "stdout",
     "output_type": "stream",
     "text": [
      "Rummad:Prederourien, Bro-C'hall, Saozneg, Breizh, Brezhoneg, Europa_(kevandir), Galleg, Rummad:Bloavezhio\\u00F9, Yezh\n"
     ]
    }
   ],
   "source": [
    "show_ex(scores)"
   ],
   "metadata": {
    "collapsed": false,
    "pycharm": {
     "name": "#%%\n"
    }
   }
  },
  {
   "cell_type": "markdown",
   "source": [
    "Vamos tentar um resultado melhor com mais iterações:"
   ],
   "metadata": {
    "collapsed": false,
    "pycharm": {
     "name": "#%% md\n"
    }
   }
  },
  {
   "cell_type": "code",
   "execution_count": 122,
   "outputs": [
    {
     "name": "stdout",
     "output_type": "stream",
     "text": [
      "Rummad:Prederourien, Wikipedia:Kendivizo\\u00F9_reolata/Anvio\\u00F9_divoutin_gresianek_kozh_ha_modern, Degemer, Skoazell:FAG, Wikipedia:Politikerezh_stanka\\u00F1, Wikipedia:Pajenno\\u00F9_da_nulla\\u00F1, Wikipedia:Lammit_dreist_ar_reolenno\\u00F9, Patrom:Provi\\u00F1s_Vercelli, Wikipedia:Diello\\u00F9/Pajenno\\u00F9_da_nulla\\u00F1/rann_3_Ebrel_2006-Gwengolo_2006\n"
     ]
    }
   ],
   "source": [
    "scores = power_method(X)\n",
    "show_ex(scores)"
   ],
   "metadata": {
    "collapsed": false,
    "pycharm": {
     "name": "#%%\n"
    }
   }
  }
 ],
 "metadata": {
  "kernelspec": {
   "display_name": "Python 3 (ipykernel)",
   "language": "python",
   "name": "python3"
  },
  "language_info": {
   "codemirror_mode": {
    "name": "ipython",
    "version": 3
   },
   "file_extension": ".py",
   "mimetype": "text/x-python",
   "name": "python",
   "nbconvert_exporter": "python",
   "pygments_lexer": "ipython3",
   "version": "3.10.2"
  }
 },
 "nbformat": 4,
 "nbformat_minor": 4
}